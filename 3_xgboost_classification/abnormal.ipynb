{
 "cells": [
  {
   "cell_type": "code",
   "execution_count": 1,
   "metadata": {},
   "outputs": [],
   "source": [
    "import numpy as np\n",
    "import matplotlib.pyplot as plt\n",
    "\n",
    "# For preprocessing\n",
    "from sklearn.preprocessing import StandardScaler\n",
    "from sklearn_pandas import DataFrameMapper \n",
    "\n",
    "import torch # For building the networks \n",
    "import torchtuples as tt # Some useful functions\n",
    "\n",
    "from pycox.datasets import metabric\n",
    "from pycox.models import LogisticHazard\n",
    "# from pycox.models import PMF\n",
    "# from pycox.models import DeepHitSingle\n",
    "from pycox.evaluation import EvalSurv\n",
    "\n",
    "# We also set some seeds to make this reproducable.\n",
    "# Note that on gpu, there is still some randomness.\n",
    "np.random.seed(1234)\n",
    "_ = torch.manual_seed(123)"
   ]
  },
  {
   "cell_type": "markdown",
   "metadata": {},
   "source": [
    "## dataset : OMOP-CDM "
   ]
  },
  {
   "cell_type": "code",
   "execution_count": 10,
   "metadata": {},
   "outputs": [],
   "source": [
    "import os\n",
    "import pathlib\n",
    "current_dir = pathlib.Path.cwd()\n",
    "parent_dir = current_dir.parent\n",
    "data_dir = pathlib.Path('{}/CDM'.format(current_dir))\n",
    "output_dir = pathlib.Path('{}/output'.format(current_dir))\n",
    "#pathlib.Path.mkdir(output_dir, mode=0o777, exist_ok=True)\n",
    "#print(current_dir)\n",
    "\n",
    "file_list = os.listdir(data_dir)\n",
    "file_list = [pathlib.Path(filename).with_suffix('').name for filename in file_list]"
   ]
  },
  {
   "cell_type": "code",
   "execution_count": 11,
   "metadata": {},
   "outputs": [
    {
     "data": {
      "text/html": [
       "<div>\n",
       "<style scoped>\n",
       "    .dataframe tbody tr th:only-of-type {\n",
       "        vertical-align: middle;\n",
       "    }\n",
       "\n",
       "    .dataframe tbody tr th {\n",
       "        vertical-align: top;\n",
       "    }\n",
       "\n",
       "    .dataframe thead th {\n",
       "        text-align: right;\n",
       "    }\n",
       "</style>\n",
       "<table border=\"1\" class=\"dataframe\">\n",
       "  <thead>\n",
       "    <tr style=\"text-align: right;\">\n",
       "      <th></th>\n",
       "      <th>age</th>\n",
       "      <th>sex</th>\n",
       "      <th>label</th>\n",
       "      <th>Secondary malignant neoplasm of pleura</th>\n",
       "      <th>Pneumonia</th>\n",
       "      <th>budesonide</th>\n",
       "      <th>sodium bicarbonate</th>\n",
       "      <th>furosemide</th>\n",
       "      <th>ranitidine</th>\n",
       "      <th>lactulose</th>\n",
       "      <th>...</th>\n",
       "      <th>20 ML Ammonium Chloride 10 MG/ML / Chlorpheniramine 0.15 MG/ML / dihydrocodeine 0.5 MG/ML / methylephedrine 1.31 MG/ML Oral Suspension</th>\n",
       "      <th>2 ML chromic chloride 0.0513 MG/ML / Copper Sulfate 3.93 MG/ML / manganese sulfate 1.54 MG/ML / Zinc Sulfate 22 MG/ML Injectable Solution</th>\n",
       "      <th>corydalis tuberÂ·pharbitis seed(5:1) 50% ethanol ext. 30 MG Oral Tablet</th>\n",
       "      <th>Ascorbic Acid 100 MG / Biotin 0.06 MG / dexpanthenol 16.2 MG / Ergocalciferol 200 UNT / Folic Acid 0.4 MG / Niacinamide 42.5 MG / pyridoxine 5 MG / Riboflavin 3.4 MG / ... Injection</th>\n",
       "      <th>Secondary malignant neoplasm of liver and intrahepatic bile duct</th>\n",
       "      <th>polystyrene sulfonate</th>\n",
       "      <th>pembrolizumab</th>\n",
       "      <th>nivolumab</th>\n",
       "      <th>piperacillin 4000 MG / tazobactam 500 MG Injection</th>\n",
       "      <th>duration</th>\n",
       "    </tr>\n",
       "  </thead>\n",
       "  <tbody>\n",
       "    <tr>\n",
       "      <th>0</th>\n",
       "      <td>0.301587</td>\n",
       "      <td>1</td>\n",
       "      <td>1</td>\n",
       "      <td>0</td>\n",
       "      <td>0</td>\n",
       "      <td>0</td>\n",
       "      <td>0</td>\n",
       "      <td>1</td>\n",
       "      <td>0</td>\n",
       "      <td>1</td>\n",
       "      <td>...</td>\n",
       "      <td>0</td>\n",
       "      <td>0</td>\n",
       "      <td>1</td>\n",
       "      <td>0</td>\n",
       "      <td>0</td>\n",
       "      <td>0</td>\n",
       "      <td>0</td>\n",
       "      <td>1</td>\n",
       "      <td>1</td>\n",
       "      <td>18</td>\n",
       "    </tr>\n",
       "    <tr>\n",
       "      <th>1</th>\n",
       "      <td>0.587302</td>\n",
       "      <td>0</td>\n",
       "      <td>0</td>\n",
       "      <td>0</td>\n",
       "      <td>0</td>\n",
       "      <td>0</td>\n",
       "      <td>0</td>\n",
       "      <td>0</td>\n",
       "      <td>0</td>\n",
       "      <td>0</td>\n",
       "      <td>...</td>\n",
       "      <td>0</td>\n",
       "      <td>0</td>\n",
       "      <td>0</td>\n",
       "      <td>0</td>\n",
       "      <td>0</td>\n",
       "      <td>0</td>\n",
       "      <td>0</td>\n",
       "      <td>0</td>\n",
       "      <td>0</td>\n",
       "      <td>22</td>\n",
       "    </tr>\n",
       "    <tr>\n",
       "      <th>2</th>\n",
       "      <td>0.730159</td>\n",
       "      <td>1</td>\n",
       "      <td>0</td>\n",
       "      <td>0</td>\n",
       "      <td>0</td>\n",
       "      <td>0</td>\n",
       "      <td>0</td>\n",
       "      <td>0</td>\n",
       "      <td>0</td>\n",
       "      <td>0</td>\n",
       "      <td>...</td>\n",
       "      <td>0</td>\n",
       "      <td>0</td>\n",
       "      <td>0</td>\n",
       "      <td>0</td>\n",
       "      <td>0</td>\n",
       "      <td>0</td>\n",
       "      <td>1</td>\n",
       "      <td>0</td>\n",
       "      <td>0</td>\n",
       "      <td>117</td>\n",
       "    </tr>\n",
       "    <tr>\n",
       "      <th>3</th>\n",
       "      <td>0.682540</td>\n",
       "      <td>1</td>\n",
       "      <td>0</td>\n",
       "      <td>0</td>\n",
       "      <td>0</td>\n",
       "      <td>0</td>\n",
       "      <td>0</td>\n",
       "      <td>0</td>\n",
       "      <td>0</td>\n",
       "      <td>0</td>\n",
       "      <td>...</td>\n",
       "      <td>0</td>\n",
       "      <td>0</td>\n",
       "      <td>0</td>\n",
       "      <td>0</td>\n",
       "      <td>0</td>\n",
       "      <td>0</td>\n",
       "      <td>0</td>\n",
       "      <td>1</td>\n",
       "      <td>0</td>\n",
       "      <td>175</td>\n",
       "    </tr>\n",
       "    <tr>\n",
       "      <th>4</th>\n",
       "      <td>0.476190</td>\n",
       "      <td>1</td>\n",
       "      <td>1</td>\n",
       "      <td>0</td>\n",
       "      <td>0</td>\n",
       "      <td>0</td>\n",
       "      <td>0</td>\n",
       "      <td>0</td>\n",
       "      <td>0</td>\n",
       "      <td>1</td>\n",
       "      <td>...</td>\n",
       "      <td>0</td>\n",
       "      <td>0</td>\n",
       "      <td>0</td>\n",
       "      <td>0</td>\n",
       "      <td>1</td>\n",
       "      <td>0</td>\n",
       "      <td>0</td>\n",
       "      <td>1</td>\n",
       "      <td>0</td>\n",
       "      <td>74</td>\n",
       "    </tr>\n",
       "    <tr>\n",
       "      <th>...</th>\n",
       "      <td>...</td>\n",
       "      <td>...</td>\n",
       "      <td>...</td>\n",
       "      <td>...</td>\n",
       "      <td>...</td>\n",
       "      <td>...</td>\n",
       "      <td>...</td>\n",
       "      <td>...</td>\n",
       "      <td>...</td>\n",
       "      <td>...</td>\n",
       "      <td>...</td>\n",
       "      <td>...</td>\n",
       "      <td>...</td>\n",
       "      <td>...</td>\n",
       "      <td>...</td>\n",
       "      <td>...</td>\n",
       "      <td>...</td>\n",
       "      <td>...</td>\n",
       "      <td>...</td>\n",
       "      <td>...</td>\n",
       "      <td>...</td>\n",
       "    </tr>\n",
       "    <tr>\n",
       "      <th>451</th>\n",
       "      <td>0.555556</td>\n",
       "      <td>1</td>\n",
       "      <td>1</td>\n",
       "      <td>0</td>\n",
       "      <td>0</td>\n",
       "      <td>0</td>\n",
       "      <td>0</td>\n",
       "      <td>1</td>\n",
       "      <td>0</td>\n",
       "      <td>1</td>\n",
       "      <td>...</td>\n",
       "      <td>0</td>\n",
       "      <td>0</td>\n",
       "      <td>1</td>\n",
       "      <td>0</td>\n",
       "      <td>0</td>\n",
       "      <td>0</td>\n",
       "      <td>0</td>\n",
       "      <td>1</td>\n",
       "      <td>0</td>\n",
       "      <td>1</td>\n",
       "    </tr>\n",
       "    <tr>\n",
       "      <th>452</th>\n",
       "      <td>0.539683</td>\n",
       "      <td>1</td>\n",
       "      <td>0</td>\n",
       "      <td>0</td>\n",
       "      <td>0</td>\n",
       "      <td>0</td>\n",
       "      <td>0</td>\n",
       "      <td>0</td>\n",
       "      <td>0</td>\n",
       "      <td>0</td>\n",
       "      <td>...</td>\n",
       "      <td>0</td>\n",
       "      <td>0</td>\n",
       "      <td>0</td>\n",
       "      <td>0</td>\n",
       "      <td>0</td>\n",
       "      <td>0</td>\n",
       "      <td>0</td>\n",
       "      <td>0</td>\n",
       "      <td>0</td>\n",
       "      <td>43</td>\n",
       "    </tr>\n",
       "    <tr>\n",
       "      <th>453</th>\n",
       "      <td>0.523810</td>\n",
       "      <td>1</td>\n",
       "      <td>1</td>\n",
       "      <td>0</td>\n",
       "      <td>0</td>\n",
       "      <td>0</td>\n",
       "      <td>0</td>\n",
       "      <td>0</td>\n",
       "      <td>0</td>\n",
       "      <td>1</td>\n",
       "      <td>...</td>\n",
       "      <td>0</td>\n",
       "      <td>0</td>\n",
       "      <td>0</td>\n",
       "      <td>0</td>\n",
       "      <td>0</td>\n",
       "      <td>0</td>\n",
       "      <td>1</td>\n",
       "      <td>0</td>\n",
       "      <td>0</td>\n",
       "      <td>21</td>\n",
       "    </tr>\n",
       "    <tr>\n",
       "      <th>454</th>\n",
       "      <td>0.777778</td>\n",
       "      <td>1</td>\n",
       "      <td>0</td>\n",
       "      <td>0</td>\n",
       "      <td>0</td>\n",
       "      <td>0</td>\n",
       "      <td>0</td>\n",
       "      <td>0</td>\n",
       "      <td>0</td>\n",
       "      <td>0</td>\n",
       "      <td>...</td>\n",
       "      <td>1</td>\n",
       "      <td>0</td>\n",
       "      <td>0</td>\n",
       "      <td>0</td>\n",
       "      <td>0</td>\n",
       "      <td>0</td>\n",
       "      <td>0</td>\n",
       "      <td>0</td>\n",
       "      <td>0</td>\n",
       "      <td>26</td>\n",
       "    </tr>\n",
       "    <tr>\n",
       "      <th>455</th>\n",
       "      <td>0.142857</td>\n",
       "      <td>1</td>\n",
       "      <td>1</td>\n",
       "      <td>0</td>\n",
       "      <td>0</td>\n",
       "      <td>0</td>\n",
       "      <td>0</td>\n",
       "      <td>0</td>\n",
       "      <td>0</td>\n",
       "      <td>0</td>\n",
       "      <td>...</td>\n",
       "      <td>0</td>\n",
       "      <td>0</td>\n",
       "      <td>0</td>\n",
       "      <td>0</td>\n",
       "      <td>0</td>\n",
       "      <td>0</td>\n",
       "      <td>1</td>\n",
       "      <td>0</td>\n",
       "      <td>0</td>\n",
       "      <td>21</td>\n",
       "    </tr>\n",
       "  </tbody>\n",
       "</table>\n",
       "<p>456 rows × 85 columns</p>\n",
       "</div>"
      ],
      "text/plain": [
       "          age  sex  label  Secondary malignant neoplasm of pleura  Pneumonia  \\\n",
       "0    0.301587    1      1                                       0          0   \n",
       "1    0.587302    0      0                                       0          0   \n",
       "2    0.730159    1      0                                       0          0   \n",
       "3    0.682540    1      0                                       0          0   \n",
       "4    0.476190    1      1                                       0          0   \n",
       "..        ...  ...    ...                                     ...        ...   \n",
       "451  0.555556    1      1                                       0          0   \n",
       "452  0.539683    1      0                                       0          0   \n",
       "453  0.523810    1      1                                       0          0   \n",
       "454  0.777778    1      0                                       0          0   \n",
       "455  0.142857    1      1                                       0          0   \n",
       "\n",
       "     budesonide  sodium bicarbonate  furosemide  ranitidine  lactulose  ...  \\\n",
       "0             0                   0           1           0          1  ...   \n",
       "1             0                   0           0           0          0  ...   \n",
       "2             0                   0           0           0          0  ...   \n",
       "3             0                   0           0           0          0  ...   \n",
       "4             0                   0           0           0          1  ...   \n",
       "..          ...                 ...         ...         ...        ...  ...   \n",
       "451           0                   0           1           0          1  ...   \n",
       "452           0                   0           0           0          0  ...   \n",
       "453           0                   0           0           0          1  ...   \n",
       "454           0                   0           0           0          0  ...   \n",
       "455           0                   0           0           0          0  ...   \n",
       "\n",
       "     20 ML Ammonium Chloride 10 MG/ML / Chlorpheniramine 0.15 MG/ML / dihydrocodeine 0.5 MG/ML / methylephedrine 1.31 MG/ML Oral Suspension  \\\n",
       "0                                                    0                                                                                        \n",
       "1                                                    0                                                                                        \n",
       "2                                                    0                                                                                        \n",
       "3                                                    0                                                                                        \n",
       "4                                                    0                                                                                        \n",
       "..                                                 ...                                                                                        \n",
       "451                                                  0                                                                                        \n",
       "452                                                  0                                                                                        \n",
       "453                                                  0                                                                                        \n",
       "454                                                  1                                                                                        \n",
       "455                                                  0                                                                                        \n",
       "\n",
       "     2 ML chromic chloride 0.0513 MG/ML / Copper Sulfate 3.93 MG/ML / manganese sulfate 1.54 MG/ML / Zinc Sulfate 22 MG/ML Injectable Solution  \\\n",
       "0                                                    0                                                                                           \n",
       "1                                                    0                                                                                           \n",
       "2                                                    0                                                                                           \n",
       "3                                                    0                                                                                           \n",
       "4                                                    0                                                                                           \n",
       "..                                                 ...                                                                                           \n",
       "451                                                  0                                                                                           \n",
       "452                                                  0                                                                                           \n",
       "453                                                  0                                                                                           \n",
       "454                                                  0                                                                                           \n",
       "455                                                  0                                                                                           \n",
       "\n",
       "     corydalis tuberÂ·pharbitis seed(5:1) 50% ethanol ext. 30 MG Oral Tablet  \\\n",
       "0                                                    1                         \n",
       "1                                                    0                         \n",
       "2                                                    0                         \n",
       "3                                                    0                         \n",
       "4                                                    0                         \n",
       "..                                                 ...                         \n",
       "451                                                  1                         \n",
       "452                                                  0                         \n",
       "453                                                  0                         \n",
       "454                                                  0                         \n",
       "455                                                  0                         \n",
       "\n",
       "     Ascorbic Acid 100 MG / Biotin 0.06 MG / dexpanthenol 16.2 MG / Ergocalciferol 200 UNT / Folic Acid 0.4 MG / Niacinamide 42.5 MG / pyridoxine 5 MG / Riboflavin 3.4 MG / ... Injection  \\\n",
       "0                                                    0                                                                                                                                       \n",
       "1                                                    0                                                                                                                                       \n",
       "2                                                    0                                                                                                                                       \n",
       "3                                                    0                                                                                                                                       \n",
       "4                                                    0                                                                                                                                       \n",
       "..                                                 ...                                                                                                                                       \n",
       "451                                                  0                                                                                                                                       \n",
       "452                                                  0                                                                                                                                       \n",
       "453                                                  0                                                                                                                                       \n",
       "454                                                  0                                                                                                                                       \n",
       "455                                                  0                                                                                                                                       \n",
       "\n",
       "     Secondary malignant neoplasm of liver and intrahepatic bile duct  \\\n",
       "0                                                    0                  \n",
       "1                                                    0                  \n",
       "2                                                    0                  \n",
       "3                                                    0                  \n",
       "4                                                    1                  \n",
       "..                                                 ...                  \n",
       "451                                                  0                  \n",
       "452                                                  0                  \n",
       "453                                                  0                  \n",
       "454                                                  0                  \n",
       "455                                                  0                  \n",
       "\n",
       "     polystyrene sulfonate  pembrolizumab  nivolumab  \\\n",
       "0                        0              0          1   \n",
       "1                        0              0          0   \n",
       "2                        0              1          0   \n",
       "3                        0              0          1   \n",
       "4                        0              0          1   \n",
       "..                     ...            ...        ...   \n",
       "451                      0              0          1   \n",
       "452                      0              0          0   \n",
       "453                      0              1          0   \n",
       "454                      0              0          0   \n",
       "455                      0              1          0   \n",
       "\n",
       "     piperacillin 4000 MG / tazobactam 500 MG Injection  duration  \n",
       "0                                                    1         18  \n",
       "1                                                    0         22  \n",
       "2                                                    0        117  \n",
       "3                                                    0        175  \n",
       "4                                                    0         74  \n",
       "..                                                 ...        ...  \n",
       "451                                                  0          1  \n",
       "452                                                  0         43  \n",
       "453                                                  0         21  \n",
       "454                                                  0         26  \n",
       "455                                                  0         21  \n",
       "\n",
       "[456 rows x 85 columns]"
      ]
     },
     "execution_count": 11,
     "metadata": {},
     "output_type": "execute_result"
    }
   ],
   "source": [
    "import pandas as pd\n",
    "\n",
    "concat_df = pd.read_csv('{}/{}.txt'.format(data_dir, file_list[0]), index_col=False)\n",
    "\n",
    "def timeSeriesToTimeData(timeseries_df):\n",
    "    ts_df = timeseries_df.sort_values(['subject_id', 'concept_date'], ascending=[True, True])\n",
    "    td_df = ts_df.groupby('subject_id', as_index=False).max()\n",
    "    return td_df\n",
    "\n",
    "concat_df = timeSeriesToTimeData(concat_df)\n",
    "\n",
    "concat_df['cohort_start_date'] = pd.to_datetime(concat_df['cohort_start_date'], format='%Y-%m-%d %H:%M:%S', errors='raise')\n",
    "concat_df['first_abnormal_date'] = pd.to_datetime(concat_df['first_abnormal_date'], format='%Y-%m-%d %H:%M:%S', errors='raise')\n",
    "concat_df['concept_date'] = pd.to_datetime(concat_df['concept_date'], format='%Y-%m-%d %H:%M:%S', errors='raise')\n",
    "    \n",
    "concat_df['duration'] = (concat_df['concept_date']-concat_df['cohort_start_date']).dt.days+1\n",
    "concat_df = concat_df.drop(['subject_id', 'unique_id', 'cohort_start_date', 'concept_date', 'first_abnormal_date'], axis=1)\n",
    "concat_df\n",
    "\n"
   ]
  },
  {
   "cell_type": "code",
   "execution_count": 13,
   "metadata": {},
   "outputs": [
    {
     "name": "stdout",
     "output_type": "stream",
     "text": [
      "(456, 1, 84) (456, 1) 84\n"
     ]
    }
   ],
   "source": [
    "def split_x_y_data(df, OBP) :\n",
    "    import numpy as np\n",
    "    import pandas as pd\n",
    "\n",
    "    y_data = df['label'].T.reset_index(drop=True) #df['label'].T.drop_duplicates().T.reset_index(drop=True)\n",
    "    y_data = np.array(y_data)\n",
    "    y_data = y_data[0:len(y_data):OBP].reshape(-1, 1).astype(int)\n",
    "    #print(len(y_data), file=_logfile_)\n",
    "\n",
    "    x_df = df.drop('label', axis=1)\n",
    "\n",
    "    # 2-d data to 3-d data\n",
    "    timestamp = OBP \n",
    "    x_data = np.array(x_df)\n",
    "    x_data = x_data.reshape(-1, timestamp, x_data.shape[1]) # -1(sample), timestamp, column\n",
    "    #x_data.shape, y_data.shape\n",
    "\n",
    "    # get Column data\n",
    "    new_col = x_df.columns\n",
    "    print(x_data.shape, y_data.shape, len(new_col))\n",
    "    return x_data, y_data, new_col\n",
    "\n",
    "x_data, y_data, new_col = split_x_y_data(concat_df, OBP=1)\n",
    "#x_train, x_test, y_train, y_test = train_test_split(x_data, y_data, test_size=0.3, random_state=1, stratify=y_data) "
   ]
  },
  {
   "cell_type": "code",
   "execution_count": 14,
   "metadata": {},
   "outputs": [],
   "source": [
    "df_train = concat_df\n",
    "df_test = df_train.sample(frac=0.2)\n",
    "df_train = df_train.drop(df_test.index)\n",
    "df_val = df_train.sample(frac=0.2)\n",
    "df_train = df_train.drop(df_val.index)"
   ]
  },
  {
   "cell_type": "code",
   "execution_count": 15,
   "metadata": {},
   "outputs": [
    {
     "data": {
      "text/plain": [
       "(292, 83)"
      ]
     },
     "execution_count": 15,
     "metadata": {},
     "output_type": "execute_result"
    }
   ],
   "source": [
    "standardize = [([col], None) for col in concat_df.columns.drop(['label', 'duration'])]\n",
    "x_mapper = DataFrameMapper(standardize)\n",
    "x_train = x_mapper.fit_transform(df_train).astype('float32')\n",
    "x_val = x_mapper.transform(df_val).astype('float32')\n",
    "x_test = x_mapper.transform(df_test).astype('float32')\n",
    "x_train.shape"
   ]
  },
  {
   "cell_type": "code",
   "execution_count": 16,
   "metadata": {},
   "outputs": [
    {
     "data": {
      "text/plain": [
       "Index(['age', 'sex', 'label', 'Secondary malignant neoplasm of pleura',\n",
       "       'Pneumonia', 'budesonide', 'sodium bicarbonate', 'furosemide',\n",
       "       'ranitidine', 'lactulose', 'duration'],\n",
       "      dtype='object')"
      ]
     },
     "execution_count": 16,
     "metadata": {},
     "output_type": "execute_result"
    }
   ],
   "source": [
    "b = concat_df.columns[:10]\n",
    "b = b.append(pd.Index(['duration']))\n",
    "\n",
    "#b = b.extend(['duration'])\n",
    "#b.append('duration')\n",
    "b\n"
   ]
  },
  {
   "cell_type": "code",
   "execution_count": 17,
   "metadata": {},
   "outputs": [
    {
     "data": {
      "text/html": [
       "<div>\n",
       "<style scoped>\n",
       "    .dataframe tbody tr th:only-of-type {\n",
       "        vertical-align: middle;\n",
       "    }\n",
       "\n",
       "    .dataframe tbody tr th {\n",
       "        vertical-align: top;\n",
       "    }\n",
       "\n",
       "    .dataframe thead th {\n",
       "        text-align: right;\n",
       "    }\n",
       "</style>\n",
       "<table border=\"1\" class=\"dataframe\">\n",
       "  <thead>\n",
       "    <tr style=\"text-align: right;\">\n",
       "      <th></th>\n",
       "      <th>age</th>\n",
       "      <th>sex</th>\n",
       "      <th>label</th>\n",
       "      <th>Secondary malignant neoplasm of pleura</th>\n",
       "      <th>Pneumonia</th>\n",
       "      <th>budesonide</th>\n",
       "      <th>sodium bicarbonate</th>\n",
       "      <th>furosemide</th>\n",
       "      <th>ranitidine</th>\n",
       "      <th>lactulose</th>\n",
       "      <th>duration</th>\n",
       "    </tr>\n",
       "  </thead>\n",
       "  <tbody>\n",
       "    <tr>\n",
       "      <th>0</th>\n",
       "      <td>0.301587</td>\n",
       "      <td>1</td>\n",
       "      <td>1</td>\n",
       "      <td>0</td>\n",
       "      <td>0</td>\n",
       "      <td>0</td>\n",
       "      <td>0</td>\n",
       "      <td>1</td>\n",
       "      <td>0</td>\n",
       "      <td>1</td>\n",
       "      <td>18</td>\n",
       "    </tr>\n",
       "    <tr>\n",
       "      <th>1</th>\n",
       "      <td>0.587302</td>\n",
       "      <td>0</td>\n",
       "      <td>0</td>\n",
       "      <td>0</td>\n",
       "      <td>0</td>\n",
       "      <td>0</td>\n",
       "      <td>0</td>\n",
       "      <td>0</td>\n",
       "      <td>0</td>\n",
       "      <td>0</td>\n",
       "      <td>22</td>\n",
       "    </tr>\n",
       "    <tr>\n",
       "      <th>2</th>\n",
       "      <td>0.730159</td>\n",
       "      <td>1</td>\n",
       "      <td>0</td>\n",
       "      <td>0</td>\n",
       "      <td>0</td>\n",
       "      <td>0</td>\n",
       "      <td>0</td>\n",
       "      <td>0</td>\n",
       "      <td>0</td>\n",
       "      <td>0</td>\n",
       "      <td>117</td>\n",
       "    </tr>\n",
       "    <tr>\n",
       "      <th>3</th>\n",
       "      <td>0.682540</td>\n",
       "      <td>1</td>\n",
       "      <td>0</td>\n",
       "      <td>0</td>\n",
       "      <td>0</td>\n",
       "      <td>0</td>\n",
       "      <td>0</td>\n",
       "      <td>0</td>\n",
       "      <td>0</td>\n",
       "      <td>0</td>\n",
       "      <td>175</td>\n",
       "    </tr>\n",
       "    <tr>\n",
       "      <th>4</th>\n",
       "      <td>0.476190</td>\n",
       "      <td>1</td>\n",
       "      <td>1</td>\n",
       "      <td>0</td>\n",
       "      <td>0</td>\n",
       "      <td>0</td>\n",
       "      <td>0</td>\n",
       "      <td>0</td>\n",
       "      <td>0</td>\n",
       "      <td>1</td>\n",
       "      <td>74</td>\n",
       "    </tr>\n",
       "    <tr>\n",
       "      <th>...</th>\n",
       "      <td>...</td>\n",
       "      <td>...</td>\n",
       "      <td>...</td>\n",
       "      <td>...</td>\n",
       "      <td>...</td>\n",
       "      <td>...</td>\n",
       "      <td>...</td>\n",
       "      <td>...</td>\n",
       "      <td>...</td>\n",
       "      <td>...</td>\n",
       "      <td>...</td>\n",
       "    </tr>\n",
       "    <tr>\n",
       "      <th>451</th>\n",
       "      <td>0.555556</td>\n",
       "      <td>1</td>\n",
       "      <td>1</td>\n",
       "      <td>0</td>\n",
       "      <td>0</td>\n",
       "      <td>0</td>\n",
       "      <td>0</td>\n",
       "      <td>1</td>\n",
       "      <td>0</td>\n",
       "      <td>1</td>\n",
       "      <td>1</td>\n",
       "    </tr>\n",
       "    <tr>\n",
       "      <th>452</th>\n",
       "      <td>0.539683</td>\n",
       "      <td>1</td>\n",
       "      <td>0</td>\n",
       "      <td>0</td>\n",
       "      <td>0</td>\n",
       "      <td>0</td>\n",
       "      <td>0</td>\n",
       "      <td>0</td>\n",
       "      <td>0</td>\n",
       "      <td>0</td>\n",
       "      <td>43</td>\n",
       "    </tr>\n",
       "    <tr>\n",
       "      <th>453</th>\n",
       "      <td>0.523810</td>\n",
       "      <td>1</td>\n",
       "      <td>1</td>\n",
       "      <td>0</td>\n",
       "      <td>0</td>\n",
       "      <td>0</td>\n",
       "      <td>0</td>\n",
       "      <td>0</td>\n",
       "      <td>0</td>\n",
       "      <td>1</td>\n",
       "      <td>21</td>\n",
       "    </tr>\n",
       "    <tr>\n",
       "      <th>454</th>\n",
       "      <td>0.777778</td>\n",
       "      <td>1</td>\n",
       "      <td>0</td>\n",
       "      <td>0</td>\n",
       "      <td>0</td>\n",
       "      <td>0</td>\n",
       "      <td>0</td>\n",
       "      <td>0</td>\n",
       "      <td>0</td>\n",
       "      <td>0</td>\n",
       "      <td>26</td>\n",
       "    </tr>\n",
       "    <tr>\n",
       "      <th>455</th>\n",
       "      <td>0.142857</td>\n",
       "      <td>1</td>\n",
       "      <td>1</td>\n",
       "      <td>0</td>\n",
       "      <td>0</td>\n",
       "      <td>0</td>\n",
       "      <td>0</td>\n",
       "      <td>0</td>\n",
       "      <td>0</td>\n",
       "      <td>0</td>\n",
       "      <td>21</td>\n",
       "    </tr>\n",
       "  </tbody>\n",
       "</table>\n",
       "<p>456 rows × 11 columns</p>\n",
       "</div>"
      ],
      "text/plain": [
       "          age  sex  label  Secondary malignant neoplasm of pleura  Pneumonia  \\\n",
       "0    0.301587    1      1                                       0          0   \n",
       "1    0.587302    0      0                                       0          0   \n",
       "2    0.730159    1      0                                       0          0   \n",
       "3    0.682540    1      0                                       0          0   \n",
       "4    0.476190    1      1                                       0          0   \n",
       "..        ...  ...    ...                                     ...        ...   \n",
       "451  0.555556    1      1                                       0          0   \n",
       "452  0.539683    1      0                                       0          0   \n",
       "453  0.523810    1      1                                       0          0   \n",
       "454  0.777778    1      0                                       0          0   \n",
       "455  0.142857    1      1                                       0          0   \n",
       "\n",
       "     budesonide  sodium bicarbonate  furosemide  ranitidine  lactulose  \\\n",
       "0             0                   0           1           0          1   \n",
       "1             0                   0           0           0          0   \n",
       "2             0                   0           0           0          0   \n",
       "3             0                   0           0           0          0   \n",
       "4             0                   0           0           0          1   \n",
       "..          ...                 ...         ...         ...        ...   \n",
       "451           0                   0           1           0          1   \n",
       "452           0                   0           0           0          0   \n",
       "453           0                   0           0           0          1   \n",
       "454           0                   0           0           0          0   \n",
       "455           0                   0           0           0          0   \n",
       "\n",
       "     duration  \n",
       "0          18  \n",
       "1          22  \n",
       "2         117  \n",
       "3         175  \n",
       "4          74  \n",
       "..        ...  \n",
       "451         1  \n",
       "452        43  \n",
       "453        21  \n",
       "454        26  \n",
       "455        21  \n",
       "\n",
       "[456 rows x 11 columns]"
      ]
     },
     "execution_count": 17,
     "metadata": {},
     "output_type": "execute_result"
    }
   ],
   "source": [
    "concat_df2 = concat_df[b]\n",
    "concat_df2"
   ]
  },
  {
   "cell_type": "code",
   "execution_count": 18,
   "metadata": {},
   "outputs": [
    {
     "data": {
      "text/plain": [
       "array([[1., 1.]])"
      ]
     },
     "execution_count": 18,
     "metadata": {},
     "output_type": "execute_result"
    }
   ],
   "source": [
    "x = np.ones((1, 2))\n",
    "y = np.ones((1, 2))\n",
    "z = x * y\n",
    "z"
   ]
  },
  {
   "cell_type": "code",
   "execution_count": 19,
   "metadata": {},
   "outputs": [
    {
     "data": {
      "text/html": [
       "<div>\n",
       "<style scoped>\n",
       "    .dataframe tbody tr th:only-of-type {\n",
       "        vertical-align: middle;\n",
       "    }\n",
       "\n",
       "    .dataframe tbody tr th {\n",
       "        vertical-align: top;\n",
       "    }\n",
       "\n",
       "    .dataframe thead th {\n",
       "        text-align: right;\n",
       "    }\n",
       "</style>\n",
       "<table border=\"1\" class=\"dataframe\">\n",
       "  <tbody>\n",
       "    <tr>\n",
       "      <th>model</th>\n",
       "      <td>lifelines.CoxPHFitter</td>\n",
       "    </tr>\n",
       "    <tr>\n",
       "      <th>duration col</th>\n",
       "      <td>'duration'</td>\n",
       "    </tr>\n",
       "    <tr>\n",
       "      <th>event col</th>\n",
       "      <td>'label'</td>\n",
       "    </tr>\n",
       "    <tr>\n",
       "      <th>baseline estimation</th>\n",
       "      <td>breslow</td>\n",
       "    </tr>\n",
       "    <tr>\n",
       "      <th>number of observations</th>\n",
       "      <td>456</td>\n",
       "    </tr>\n",
       "    <tr>\n",
       "      <th>number of events observed</th>\n",
       "      <td>251</td>\n",
       "    </tr>\n",
       "    <tr>\n",
       "      <th>partial log-likelihood</th>\n",
       "      <td>-1393.46</td>\n",
       "    </tr>\n",
       "    <tr>\n",
       "      <th>time fit was run</th>\n",
       "      <td>2022-02-08 04:27:12 UTC</td>\n",
       "    </tr>\n",
       "  </tbody>\n",
       "</table>\n",
       "</div><table border=\"1\" class=\"dataframe\">\n",
       "  <thead>\n",
       "    <tr style=\"text-align: right;\">\n",
       "      <th style=\"min-width: 12px;\"></th>\n",
       "      <th style=\"min-width: 12px;\">coef</th>\n",
       "      <th style=\"min-width: 12px;\">exp(coef)</th>\n",
       "      <th style=\"min-width: 12px;\">se(coef)</th>\n",
       "      <th style=\"min-width: 12px;\">coef lower 95%</th>\n",
       "      <th style=\"min-width: 12px;\">coef upper 95%</th>\n",
       "      <th style=\"min-width: 12px;\">exp(coef) lower 95%</th>\n",
       "      <th style=\"min-width: 12px;\">exp(coef) upper 95%</th>\n",
       "      <th style=\"min-width: 12px;\">z</th>\n",
       "      <th style=\"min-width: 12px;\">p</th>\n",
       "      <th style=\"min-width: 12px;\">-log2(p)</th>\n",
       "    </tr>\n",
       "  </thead>\n",
       "  <tbody>\n",
       "    <tr>\n",
       "      <th>age</th>\n",
       "      <td>0.01</td>\n",
       "      <td>1.01</td>\n",
       "      <td>0.41</td>\n",
       "      <td>-0.79</td>\n",
       "      <td>0.81</td>\n",
       "      <td>0.45</td>\n",
       "      <td>2.25</td>\n",
       "      <td>0.02</td>\n",
       "      <td>0.98</td>\n",
       "      <td>0.03</td>\n",
       "    </tr>\n",
       "    <tr>\n",
       "      <th>sex</th>\n",
       "      <td>-0.02</td>\n",
       "      <td>0.98</td>\n",
       "      <td>0.15</td>\n",
       "      <td>-0.31</td>\n",
       "      <td>0.27</td>\n",
       "      <td>0.73</td>\n",
       "      <td>1.31</td>\n",
       "      <td>-0.15</td>\n",
       "      <td>0.88</td>\n",
       "      <td>0.19</td>\n",
       "    </tr>\n",
       "    <tr>\n",
       "      <th>Secondary malignant neoplasm of pleura</th>\n",
       "      <td>-0.09</td>\n",
       "      <td>0.91</td>\n",
       "      <td>0.28</td>\n",
       "      <td>-0.63</td>\n",
       "      <td>0.46</td>\n",
       "      <td>0.53</td>\n",
       "      <td>1.58</td>\n",
       "      <td>-0.32</td>\n",
       "      <td>0.75</td>\n",
       "      <td>0.42</td>\n",
       "    </tr>\n",
       "    <tr>\n",
       "      <th>Pneumonia</th>\n",
       "      <td>-0.03</td>\n",
       "      <td>0.97</td>\n",
       "      <td>0.20</td>\n",
       "      <td>-0.42</td>\n",
       "      <td>0.35</td>\n",
       "      <td>0.66</td>\n",
       "      <td>1.42</td>\n",
       "      <td>-0.16</td>\n",
       "      <td>0.87</td>\n",
       "      <td>0.20</td>\n",
       "    </tr>\n",
       "    <tr>\n",
       "      <th>budesonide</th>\n",
       "      <td>-0.06</td>\n",
       "      <td>0.94</td>\n",
       "      <td>0.41</td>\n",
       "      <td>-0.85</td>\n",
       "      <td>0.74</td>\n",
       "      <td>0.43</td>\n",
       "      <td>2.09</td>\n",
       "      <td>-0.14</td>\n",
       "      <td>0.89</td>\n",
       "      <td>0.17</td>\n",
       "    </tr>\n",
       "    <tr>\n",
       "      <th>sodium bicarbonate</th>\n",
       "      <td>0.48</td>\n",
       "      <td>1.62</td>\n",
       "      <td>0.41</td>\n",
       "      <td>-0.32</td>\n",
       "      <td>1.29</td>\n",
       "      <td>0.72</td>\n",
       "      <td>3.62</td>\n",
       "      <td>1.17</td>\n",
       "      <td>0.24</td>\n",
       "      <td>2.05</td>\n",
       "    </tr>\n",
       "    <tr>\n",
       "      <th>furosemide</th>\n",
       "      <td>0.54</td>\n",
       "      <td>1.71</td>\n",
       "      <td>0.18</td>\n",
       "      <td>0.18</td>\n",
       "      <td>0.89</td>\n",
       "      <td>1.20</td>\n",
       "      <td>2.44</td>\n",
       "      <td>2.96</td>\n",
       "      <td>&lt;0.005</td>\n",
       "      <td>8.35</td>\n",
       "    </tr>\n",
       "    <tr>\n",
       "      <th>ranitidine</th>\n",
       "      <td>0.32</td>\n",
       "      <td>1.37</td>\n",
       "      <td>0.19</td>\n",
       "      <td>-0.05</td>\n",
       "      <td>0.69</td>\n",
       "      <td>0.95</td>\n",
       "      <td>1.99</td>\n",
       "      <td>1.69</td>\n",
       "      <td>0.09</td>\n",
       "      <td>3.44</td>\n",
       "    </tr>\n",
       "    <tr>\n",
       "      <th>lactulose</th>\n",
       "      <td>0.02</td>\n",
       "      <td>1.02</td>\n",
       "      <td>0.16</td>\n",
       "      <td>-0.29</td>\n",
       "      <td>0.32</td>\n",
       "      <td>0.75</td>\n",
       "      <td>1.38</td>\n",
       "      <td>0.12</td>\n",
       "      <td>0.91</td>\n",
       "      <td>0.14</td>\n",
       "    </tr>\n",
       "  </tbody>\n",
       "</table><br><div>\n",
       "<style scoped>\n",
       "    .dataframe tbody tr th:only-of-type {\n",
       "        vertical-align: middle;\n",
       "    }\n",
       "\n",
       "    .dataframe tbody tr th {\n",
       "        vertical-align: top;\n",
       "    }\n",
       "\n",
       "    .dataframe thead th {\n",
       "        text-align: right;\n",
       "    }\n",
       "</style>\n",
       "<table border=\"1\" class=\"dataframe\">\n",
       "  <tbody>\n",
       "    <tr>\n",
       "      <th>Concordance</th>\n",
       "      <td>0.55</td>\n",
       "    </tr>\n",
       "    <tr>\n",
       "      <th>Partial AIC</th>\n",
       "      <td>2804.93</td>\n",
       "    </tr>\n",
       "    <tr>\n",
       "      <th>log-likelihood ratio test</th>\n",
       "      <td>14.13 on 9 df</td>\n",
       "    </tr>\n",
       "    <tr>\n",
       "      <th>-log2(p) of ll-ratio test</th>\n",
       "      <td>3.09</td>\n",
       "    </tr>\n",
       "  </tbody>\n",
       "</table>\n",
       "</div>"
      ],
      "text/latex": [
       "\\begin{tabular}{lrrrrrrrrrr}\n",
       "\\toprule\n",
       "{} &  coef &  exp(coef) &  se(coef) &  coef lower 95\\% &  coef upper 95\\% &  exp(coef) lower 95\\% &  exp(coef) upper 95\\% &     z &    p &  -log2(p) \\\\\n",
       "covariate                              &       &            &           &                 &                 &                      &                      &       &      &           \\\\\n",
       "\\midrule\n",
       "age                                    &  0.01 &       1.01 &      0.41 &           -0.79 &            0.81 &                 0.45 &                 2.25 &  0.02 & 0.98 &      0.03 \\\\\n",
       "sex                                    & -0.02 &       0.98 &      0.15 &           -0.31 &            0.27 &                 0.73 &                 1.31 & -0.15 & 0.88 &      0.19 \\\\\n",
       "Secondary malignant neoplasm of pleura & -0.09 &       0.91 &      0.28 &           -0.63 &            0.46 &                 0.53 &                 1.58 & -0.32 & 0.75 &      0.42 \\\\\n",
       "Pneumonia                              & -0.03 &       0.97 &      0.20 &           -0.42 &            0.35 &                 0.66 &                 1.42 & -0.16 & 0.87 &      0.20 \\\\\n",
       "budesonide                             & -0.06 &       0.94 &      0.41 &           -0.85 &            0.74 &                 0.43 &                 2.09 & -0.14 & 0.89 &      0.17 \\\\\n",
       "sodium bicarbonate                     &  0.48 &       1.62 &      0.41 &           -0.32 &            1.29 &                 0.72 &                 3.62 &  1.17 & 0.24 &      2.05 \\\\\n",
       "furosemide                             &  0.54 &       1.71 &      0.18 &            0.18 &            0.89 &                 1.20 &                 2.44 &  2.96 & 0.00 &      8.35 \\\\\n",
       "ranitidine                             &  0.32 &       1.37 &      0.19 &           -0.05 &            0.69 &                 0.95 &                 1.99 &  1.69 & 0.09 &      3.44 \\\\\n",
       "lactulose                              &  0.02 &       1.02 &      0.16 &           -0.29 &            0.32 &                 0.75 &                 1.38 &  0.12 & 0.91 &      0.14 \\\\\n",
       "\\bottomrule\n",
       "\\end{tabular}\n"
      ],
      "text/plain": [
       "<lifelines.CoxPHFitter: fitted with 456 total observations, 205 right-censored observations>\n",
       "             duration col = 'duration'\n",
       "                event col = 'label'\n",
       "      baseline estimation = breslow\n",
       "   number of observations = 456\n",
       "number of events observed = 251\n",
       "   partial log-likelihood = -1393.46\n",
       "         time fit was run = 2022-02-08 04:27:12 UTC\n",
       "\n",
       "---\n",
       "                                         coef  exp(coef)   se(coef)   coef lower 95%   coef upper 95%  exp(coef) lower 95%  exp(coef) upper 95%\n",
       "covariate                                                                                                                                      \n",
       "age                                      0.01       1.01       0.41            -0.79             0.81                 0.45                 2.25\n",
       "sex                                     -0.02       0.98       0.15            -0.31             0.27                 0.73                 1.31\n",
       "Secondary malignant neoplasm of pleura  -0.09       0.91       0.28            -0.63             0.46                 0.53                 1.58\n",
       "Pneumonia                               -0.03       0.97       0.20            -0.42             0.35                 0.66                 1.42\n",
       "budesonide                              -0.06       0.94       0.41            -0.85             0.74                 0.43                 2.09\n",
       "sodium bicarbonate                       0.48       1.62       0.41            -0.32             1.29                 0.72                 3.62\n",
       "furosemide                               0.54       1.71       0.18             0.18             0.89                 1.20                 2.44\n",
       "ranitidine                               0.32       1.37       0.19            -0.05             0.69                 0.95                 1.99\n",
       "lactulose                                0.02       1.02       0.16            -0.29             0.32                 0.75                 1.38\n",
       "\n",
       "                                           z      p   -log2(p)\n",
       "covariate                                                     \n",
       "age                                     0.02   0.98       0.03\n",
       "sex                                    -0.15   0.88       0.19\n",
       "Secondary malignant neoplasm of pleura -0.32   0.75       0.42\n",
       "Pneumonia                              -0.16   0.87       0.20\n",
       "budesonide                             -0.14   0.89       0.17\n",
       "sodium bicarbonate                      1.17   0.24       2.05\n",
       "furosemide                              2.96 <0.005       8.35\n",
       "ranitidine                              1.69   0.09       3.44\n",
       "lactulose                               0.12   0.91       0.14\n",
       "---\n",
       "Concordance = 0.55\n",
       "Partial AIC = 2804.93\n",
       "log-likelihood ratio test = 14.13 on 9 df\n",
       "-log2(p) of ll-ratio test = 3.09"
      ]
     },
     "metadata": {},
     "output_type": "display_data"
    }
   ],
   "source": [
    "from lifelines import CoxPHFitter\n",
    "from lifelines.datasets import load_rossi\n",
    "\n",
    "cph = CoxPHFitter()\n",
    "cph.fit(concat_df2, duration_col='duration', event_col='label')\n",
    "\n",
    "cph.print_summary()  # access the individual results using cph.summary\n"
   ]
  },
  {
   "cell_type": "markdown",
   "metadata": {},
   "source": [
    "## Feature transforms\n",
    "\n",
    "The METABRIC dataset has  9 covariates: `x0, ..., x8`.\n",
    "We will standardize the 5 numerical covariates, and leave the binary covariates as is.\n",
    "Note that PyTorch require variables of type `'float32'`.\n",
    "\n",
    "Here we use the `sklearn_pandas.DataFrameMapper` to make feature mappers, but this has nothing to do the the `pycox` package."
   ]
  },
  {
   "cell_type": "code",
   "execution_count": 20,
   "metadata": {},
   "outputs": [],
   "source": [
    "# cols_standardize = ['x0', 'x1', 'x2', 'x3', 'x8']\n",
    "# cols_leave = ['x4', 'x5', 'x6', 'x7']\n",
    "\n",
    "# standardize = [([col], StandardScaler()) for col in cols_standardize]\n",
    "# leave = [(col, None) for col in cols_leave]\n",
    "\n",
    "# x_mapper = DataFrameMapper(standardize + leave)"
   ]
  },
  {
   "cell_type": "code",
   "execution_count": 21,
   "metadata": {},
   "outputs": [],
   "source": [
    "# x_train = x_mapper.fit_transform(df_train).astype('float32')\n",
    "# x_val = x_mapper.transform(df_val).astype('float32')\n",
    "# x_test = x_mapper.transform(df_test).astype('float32')"
   ]
  },
  {
   "cell_type": "markdown",
   "metadata": {},
   "source": [
    "## Label transforms\n",
    "\n",
    "The survival methods require individual label transforms, so we have included a proposed `label_transform` for each method.\n",
    "For most of them the `label_transform` is just a shorthand for the class `pycox.preprocessing.label_transforms.LabTransDiscreteTime`.\n",
    "\n",
    "The `LogisticHazard` is a discrete-time method, meaning it requires discretization of the event times to be applied to continuous-time data.\n",
    "We let `num_durations` define the size of this (equidistant) discretization grid, meaning our network will have `num_durations` output nodes."
   ]
  },
  {
   "cell_type": "code",
   "execution_count": 22,
   "metadata": {},
   "outputs": [],
   "source": [
    "num_durations = 10\n",
    "\n",
    "labtrans = LogisticHazard.label_transform(num_durations)\n",
    "# labtrans = PMF.label_transform(num_durations)\n",
    "# labtrans = DeepHitSingle.label_transform(num_durations)\n",
    "\n",
    "get_target = lambda df: (df['duration'].values, df['label'].values)\n",
    "y_train = labtrans.fit_transform(*get_target(df_train)) # dulation : 0~355까지의 데이터를 0~9까지의 데이터로 Label화 \n",
    "y_val = labtrans.transform(*get_target(df_val))\n",
    "\n",
    "train = (x_train, y_train)\n",
    "val = (x_val, y_val)\n",
    "\n",
    "# We don't need to transform the test labels\n",
    "durations_test, events_test = get_target(df_test)"
   ]
  },
  {
   "cell_type": "code",
   "execution_count": 23,
   "metadata": {},
   "outputs": [
    {
     "data": {
      "text/plain": [
       "292"
      ]
     },
     "execution_count": 23,
     "metadata": {},
     "output_type": "execute_result"
    }
   ],
   "source": [
    "len(x_train)"
   ]
  },
  {
   "cell_type": "code",
   "execution_count": 24,
   "metadata": {},
   "outputs": [],
   "source": [
    "#stats.describe(df_train['duration'].values)"
   ]
  },
  {
   "cell_type": "code",
   "execution_count": 25,
   "metadata": {},
   "outputs": [
    {
     "data": {
      "text/plain": [
       "DescribeResult(nobs=292, minmax=(0, 9), mean=4.034246575342466, variance=9.084733794661773, skewness=0.3110641512608268, kurtosis=-1.5467761787822483)"
      ]
     },
     "execution_count": 25,
     "metadata": {},
     "output_type": "execute_result"
    }
   ],
   "source": [
    "from scipy import stats\n",
    "stats.describe(y_train[0])"
   ]
  },
  {
   "cell_type": "code",
   "execution_count": 26,
   "metadata": {},
   "outputs": [
    {
     "data": {
      "text/plain": [
       "array([1, 1, 8, 4, 8, 8, 1, 7, 2, 7, 2, 8, 7, 1, 6, 8, 1, 5, 8, 2, 4, 1,\n",
       "       9, 9, 1, 2, 8, 4, 6, 1, 3, 1, 4, 8, 8, 2, 8, 8, 1, 1, 6, 2, 8, 1,\n",
       "       2, 1, 2, 1, 3, 1, 1, 2, 5, 8, 7, 1, 2, 9, 3, 8, 8, 1, 1, 6, 8, 1,\n",
       "       8, 1, 8, 1, 8, 8, 7, 6, 4, 4, 8, 1, 2, 9, 1, 2, 0, 6, 4, 2, 4, 6,\n",
       "       8, 2, 2, 5, 0, 3, 2, 1, 3, 6, 2, 8, 1, 2, 2, 1, 8, 9, 4, 1, 8, 3,\n",
       "       8, 8, 1, 2, 9, 1, 7, 4, 2, 8, 7, 8, 1, 5, 1, 7, 0, 7, 8, 8, 1, 1,\n",
       "       9, 6, 1, 4, 1, 1, 8, 1, 9, 7, 8, 8, 7, 0, 1, 1, 2, 8, 1, 1, 1, 6,\n",
       "       1, 1, 7, 6, 1, 9, 4, 5, 1, 9, 1, 5, 1, 1, 8, 1, 1, 6, 5, 0, 1, 8,\n",
       "       7, 2, 8, 3, 3, 8, 6, 1, 8, 3, 1, 8, 1, 0, 8, 4, 2, 2, 1, 1, 8, 8,\n",
       "       1, 8, 8, 1, 1, 1, 1, 8, 8, 8, 1, 8, 4, 8, 9, 3, 8, 8, 4, 3, 4, 1,\n",
       "       8, 1, 1, 3, 5, 7, 6, 1, 4, 1, 8, 1, 6, 6, 3, 8, 3, 7, 1, 1, 2, 5,\n",
       "       2, 2, 3, 1, 8, 1, 1, 1, 1, 7, 1, 8, 8, 8, 8, 1, 8, 2, 1, 3, 8, 8,\n",
       "       3, 2, 1, 1, 7, 3, 4, 5, 1, 1, 1, 1, 1, 1, 0, 5, 0, 4, 4, 4, 1, 2,\n",
       "       0, 1, 2, 2, 1, 2], dtype=int64)"
      ]
     },
     "execution_count": 26,
     "metadata": {},
     "output_type": "execute_result"
    }
   ],
   "source": [
    "y_train[0]"
   ]
  },
  {
   "cell_type": "code",
   "execution_count": 27,
   "metadata": {},
   "outputs": [
    {
     "data": {
      "text/plain": [
       "pycox.preprocessing.label_transforms.LabTransDiscreteTime"
      ]
     },
     "execution_count": 27,
     "metadata": {},
     "output_type": "execute_result"
    }
   ],
   "source": [
    "type(labtrans)"
   ]
  },
  {
   "cell_type": "markdown",
   "metadata": {},
   "source": [
    "The `labtrans.cuts` contains the discretization grid. This will later be used to obtain the right time-scale for survival predictions."
   ]
  },
  {
   "cell_type": "code",
   "execution_count": 28,
   "metadata": {},
   "outputs": [
    {
     "data": {
      "text/plain": [
       "array([  0.,  20.,  40.,  60.,  80., 100., 120., 140., 160., 180.])"
      ]
     },
     "execution_count": 28,
     "metadata": {},
     "output_type": "execute_result"
    }
   ],
   "source": [
    "labtrans.cuts"
   ]
  },
  {
   "cell_type": "markdown",
   "metadata": {},
   "source": [
    "Now, `y_train` is a tuple with the indices of the discretized times, in addition to event indicators."
   ]
  },
  {
   "cell_type": "code",
   "execution_count": 29,
   "metadata": {},
   "outputs": [
    {
     "data": {
      "text/plain": [
       "(array([1, 1, 8, 4, 8, 8, 1, 7, 2, 7, 2, 8, 7, 1, 6, 8, 1, 5, 8, 2, 4, 1,\n",
       "        9, 9, 1, 2, 8, 4, 6, 1, 3, 1, 4, 8, 8, 2, 8, 8, 1, 1, 6, 2, 8, 1,\n",
       "        2, 1, 2, 1, 3, 1, 1, 2, 5, 8, 7, 1, 2, 9, 3, 8, 8, 1, 1, 6, 8, 1,\n",
       "        8, 1, 8, 1, 8, 8, 7, 6, 4, 4, 8, 1, 2, 9, 1, 2, 0, 6, 4, 2, 4, 6,\n",
       "        8, 2, 2, 5, 0, 3, 2, 1, 3, 6, 2, 8, 1, 2, 2, 1, 8, 9, 4, 1, 8, 3,\n",
       "        8, 8, 1, 2, 9, 1, 7, 4, 2, 8, 7, 8, 1, 5, 1, 7, 0, 7, 8, 8, 1, 1,\n",
       "        9, 6, 1, 4, 1, 1, 8, 1, 9, 7, 8, 8, 7, 0, 1, 1, 2, 8, 1, 1, 1, 6,\n",
       "        1, 1, 7, 6, 1, 9, 4, 5, 1, 9, 1, 5, 1, 1, 8, 1, 1, 6, 5, 0, 1, 8,\n",
       "        7, 2, 8, 3, 3, 8, 6, 1, 8, 3, 1, 8, 1, 0, 8, 4, 2, 2, 1, 1, 8, 8,\n",
       "        1, 8, 8, 1, 1, 1, 1, 8, 8, 8, 1, 8, 4, 8, 9, 3, 8, 8, 4, 3, 4, 1,\n",
       "        8, 1, 1, 3, 5, 7, 6, 1, 4, 1, 8, 1, 6, 6, 3, 8, 3, 7, 1, 1, 2, 5,\n",
       "        2, 2, 3, 1, 8, 1, 1, 1, 1, 7, 1, 8, 8, 8, 8, 1, 8, 2, 1, 3, 8, 8,\n",
       "        3, 2, 1, 1, 7, 3, 4, 5, 1, 1, 1, 1, 1, 1, 0, 5, 0, 4, 4, 4, 1, 2,\n",
       "        0, 1, 2, 2, 1, 2], dtype=int64),\n",
       " array([1., 0., 0., 1., 1., 0., 1., 1., 1., 0., 1., 0., 1., 1., 0., 1., 0.,\n",
       "        1., 0., 1., 0., 1., 1., 0., 1., 0., 0., 1., 0., 1., 0., 1., 1., 0.,\n",
       "        0., 1., 0., 0., 1., 1., 0., 0., 0., 1., 0., 1., 1., 1., 1., 1., 0.,\n",
       "        1., 0., 0., 0., 1., 1., 0., 1., 0., 0., 1., 1., 1., 0., 1., 0., 0.,\n",
       "        0., 1., 0., 0., 0., 0., 0., 1., 0., 1., 0., 0., 1., 1., 0., 1., 0.,\n",
       "        1., 1., 1., 0., 1., 1., 0., 0., 1., 1., 1., 0., 1., 1., 0., 1., 1.,\n",
       "        1., 1., 0., 1., 0., 1., 0., 1., 0., 0., 1., 0., 1., 0., 1., 1., 1.,\n",
       "        0., 0., 0., 1., 0., 1., 1., 0., 1., 0., 0., 1., 1., 1., 0., 1., 1.,\n",
       "        1., 1., 0., 1., 0., 1., 0., 0., 0., 0., 1., 1., 0., 0., 1., 0., 1.,\n",
       "        1., 1., 0., 1., 1., 0., 1., 0., 0., 1., 0., 1., 1., 1., 1., 0., 1.,\n",
       "        1., 0., 1., 0., 1., 0., 1., 1., 0., 1., 1., 0., 0., 1., 1., 1., 1.,\n",
       "        0., 1., 0., 0., 1., 1., 0., 0., 1., 1., 0., 1., 0., 1., 1., 1., 1.,\n",
       "        1., 1., 0., 0., 1., 0., 1., 0., 0., 1., 0., 0., 1., 1., 1., 0., 0.,\n",
       "        1., 1., 0., 1., 1., 1., 1., 1., 1., 0., 0., 1., 1., 1., 1., 1., 1.,\n",
       "        0., 1., 0., 1., 1., 0., 0., 0., 0., 1., 1., 1., 1., 0., 1., 0., 1.,\n",
       "        0., 0., 1., 0., 0., 0., 1., 0., 0., 1., 1., 1., 0., 0., 0., 1., 0.,\n",
       "        1., 1., 1., 1., 1., 1., 0., 0., 0., 0., 0., 0., 0., 0., 0., 1., 0.,\n",
       "        1., 0., 1.], dtype=float32))"
      ]
     },
     "execution_count": 29,
     "metadata": {},
     "output_type": "execute_result"
    }
   ],
   "source": [
    "y_train"
   ]
  },
  {
   "cell_type": "code",
   "execution_count": 30,
   "metadata": {},
   "outputs": [
    {
     "data": {
      "text/plain": [
       "array([ 20.,  20., 160.,  80., 160., 160.,  20., 140.,  40., 140.,  40.,\n",
       "       160., 140.,  20., 120., 160.,  20., 100., 160.,  40.,  80.,  20.,\n",
       "       180., 180.,  20.,  40., 160.,  80., 120.,  20.,  60.,  20.,  80.,\n",
       "       160., 160.,  40., 160., 160.,  20.,  20., 120.,  40., 160.,  20.,\n",
       "        40.,  20.,  40.,  20.,  60.,  20.,  20.,  40., 100., 160., 140.,\n",
       "        20.,  40., 180.,  60., 160., 160.,  20.,  20., 120., 160.,  20.,\n",
       "       160.,  20., 160.,  20., 160., 160., 140., 120.,  80.,  80., 160.,\n",
       "        20.,  40., 180.,  20.,  40.,   0., 120.,  80.,  40.,  80., 120.,\n",
       "       160.,  40.,  40., 100.,   0.,  60.,  40.,  20.,  60., 120.,  40.,\n",
       "       160.,  20.,  40.,  40.,  20., 160., 180.,  80.,  20., 160.,  60.,\n",
       "       160., 160.,  20.,  40., 180.,  20., 140.,  80.,  40., 160., 140.,\n",
       "       160.,  20., 100.,  20., 140.,   0., 140., 160., 160.,  20.,  20.,\n",
       "       180., 120.,  20.,  80.,  20.,  20., 160.,  20., 180., 140., 160.,\n",
       "       160., 140.,   0.,  20.,  20.,  40., 160.,  20.,  20.,  20., 120.,\n",
       "        20.,  20., 140., 120.,  20., 180.,  80., 100.,  20., 180.,  20.,\n",
       "       100.,  20.,  20., 160.,  20.,  20., 120., 100.,   0.,  20., 160.,\n",
       "       140.,  40., 160.,  60.,  60., 160., 120.,  20., 160.,  60.,  20.,\n",
       "       160.,  20.,   0., 160.,  80.,  40.,  40.,  20.,  20., 160., 160.,\n",
       "        20., 160., 160.,  20.,  20.,  20.,  20., 160., 160., 160.,  20.,\n",
       "       160.,  80., 160., 180.,  60., 160., 160.,  80.,  60.,  80.,  20.,\n",
       "       160.,  20.,  20.,  60., 100., 140., 120.,  20.,  80.,  20., 160.,\n",
       "        20., 120., 120.,  60., 160.,  60., 140.,  20.,  20.,  40., 100.,\n",
       "        40.,  40.,  60.,  20., 160.,  20.,  20.,  20.,  20., 140.,  20.,\n",
       "       160., 160., 160., 160.,  20., 160.,  40.,  20.,  60., 160., 160.,\n",
       "        60.,  40.,  20.,  20., 140.,  60.,  80., 100.,  20.,  20.,  20.,\n",
       "        20.,  20.,  20.,   0., 100.,   0.,  80.,  80.,  80.,  20.,  40.,\n",
       "         0.,  20.,  40.,  40.,  20.,  40.])"
      ]
     },
     "execution_count": 30,
     "metadata": {},
     "output_type": "execute_result"
    }
   ],
   "source": [
    "labtrans.cuts[y_train[0]]"
   ]
  },
  {
   "cell_type": "markdown",
   "metadata": {},
   "source": [
    "## Neural net\n",
    "\n",
    "We make a neural net with `torch`.\n",
    "For simple network structures, we can use the `MLPVanilla` provided by `torchtuples`.\n",
    "For building more advanced network architectures, see for example [the tutorials by PyTroch](https://pytorch.org/tutorials/).\n",
    "\n",
    "The following net is an MLP with two hidden layers (with 32 nodes each), ReLU activations, and `out_features` output nodes.\n",
    "We also have batch normalization and dropout between the layers."
   ]
  },
  {
   "cell_type": "code",
   "execution_count": 31,
   "metadata": {},
   "outputs": [
    {
     "data": {
      "text/plain": [
       "(83, 10)"
      ]
     },
     "execution_count": 31,
     "metadata": {},
     "output_type": "execute_result"
    }
   ],
   "source": [
    "x_train.shape[1], labtrans.out_features"
   ]
  },
  {
   "cell_type": "code",
   "execution_count": 32,
   "metadata": {},
   "outputs": [],
   "source": [
    "in_features = x_train.shape[1]\n",
    "num_nodes = [32, 32]\n",
    "out_features = labtrans.out_features\n",
    "batch_norm = True\n",
    "dropout = 0.1\n",
    "\n",
    "net = tt.practical.MLPVanilla(in_features, num_nodes, out_features, batch_norm, dropout)"
   ]
  },
  {
   "cell_type": "markdown",
   "metadata": {},
   "source": [
    "If you instead want to build this network with `torch` you can uncomment the following code.\n",
    "It is essentially equivalent to the `MLPVanilla`, but without the `torch.nn.init.kaiming_normal_` weight initialization."
   ]
  },
  {
   "cell_type": "code",
   "execution_count": 33,
   "metadata": {},
   "outputs": [],
   "source": [
    "# net = torch.nn.Sequential(\n",
    "#     torch.nn.Linear(in_features, 32),\n",
    "#     torch.nn.ReLU(),\n",
    "#     torch.nn.BatchNorm1d(32),\n",
    "#     torch.nn.Dropout(0.1),\n",
    "    \n",
    "#     torch.nn.Linear(32, 32),\n",
    "#     torch.nn.ReLU(),\n",
    "#     torch.nn.BatchNorm1d(32),\n",
    "#     torch.nn.Dropout(0.1),\n",
    "    \n",
    "#     torch.nn.Linear(32, out_features)\n",
    "# )"
   ]
  },
  {
   "cell_type": "markdown",
   "metadata": {},
   "source": [
    "## Training the model\n",
    "\n",
    "To train the model we need to define an optimizer. You can choose any `torch.optim` optimizer, or use one from `tt.optim`.\n",
    "The latter is built on top of the `torch` optimizers, but with some added functionality (such as not requiring `net.parameters()` as input and the `model.lr_finder` for finding suitable learning rates).\n",
    "We will here use the `Adam` optimizer with learning rate 0.01.\n",
    "\n",
    "We also set `duration_index` which connects the output nodes of the network the the discretization times. This is only useful for prediction and does not affect the training procedure.\n",
    "\n",
    "The `LogisticHazard` can also take the argument `device` which can be use to choose between running on the CPU and GPU. The default behavior is to run on a GPU if it is available, and CPU if not.\n",
    "See `?LogisticHazard` for details."
   ]
  },
  {
   "cell_type": "code",
   "execution_count": 34,
   "metadata": {},
   "outputs": [],
   "source": [
    "model = LogisticHazard(net, tt.optim.Adam(0.01), duration_index=labtrans.cuts)\n",
    "# model = PMF(net, tt.optim.Adam(0.01), duration_index=labtrans.cuts)\n",
    "# model = DeepHitSingle(net, tt.optim.Adam(0.01), duration_index=labtrans.cuts)"
   ]
  },
  {
   "cell_type": "markdown",
   "metadata": {},
   "source": [
    "Next, we set the `batch_size` and the number of training `epochs`.\n",
    "\n",
    "We also include the `EarlyStopping` callback to stop training when the validation loss stops improving."
   ]
  },
  {
   "cell_type": "code",
   "execution_count": 35,
   "metadata": {},
   "outputs": [],
   "source": [
    "batch_size = 256\n",
    "epochs = 100\n",
    "callbacks = [tt.cb.EarlyStopping()]"
   ]
  },
  {
   "cell_type": "markdown",
   "metadata": {},
   "source": [
    "We can now train the network and the `log` object keeps track of the training progress."
   ]
  },
  {
   "cell_type": "code",
   "execution_count": 36,
   "metadata": {},
   "outputs": [
    {
     "name": "stdout",
     "output_type": "stream",
     "text": [
      "0:\t[0s / 0s],\t\ttrain_loss: 3.5633,\tval_loss: 3.2096\n",
      "1:\t[0s / 0s],\t\ttrain_loss: 3.1216,\tval_loss: 2.8910\n",
      "2:\t[0s / 0s],\t\ttrain_loss: 2.6434,\tval_loss: 2.5231\n",
      "3:\t[0s / 0s],\t\ttrain_loss: 2.3976,\tval_loss: 2.1706\n",
      "4:\t[0s / 0s],\t\ttrain_loss: 1.9886,\tval_loss: 1.9202\n",
      "5:\t[0s / 0s],\t\ttrain_loss: 1.9246,\tval_loss: 1.8092\n",
      "6:\t[0s / 0s],\t\ttrain_loss: 1.6259,\tval_loss: 1.7969\n",
      "7:\t[0s / 0s],\t\ttrain_loss: 1.5405,\tval_loss: 1.8059\n",
      "8:\t[0s / 0s],\t\ttrain_loss: 1.5873,\tval_loss: 1.7985\n",
      "9:\t[0s / 0s],\t\ttrain_loss: 1.2715,\tval_loss: 1.7595\n",
      "10:\t[0s / 0s],\t\ttrain_loss: 1.2539,\tval_loss: 1.7041\n",
      "11:\t[0s / 0s],\t\ttrain_loss: 1.1506,\tval_loss: 1.6590\n",
      "12:\t[0s / 0s],\t\ttrain_loss: 1.1727,\tval_loss: 1.5835\n",
      "13:\t[0s / 0s],\t\ttrain_loss: 1.1289,\tval_loss: 1.5283\n",
      "14:\t[0s / 0s],\t\ttrain_loss: 1.0091,\tval_loss: 1.4786\n",
      "15:\t[0s / 0s],\t\ttrain_loss: 1.1490,\tval_loss: 1.4286\n",
      "16:\t[0s / 0s],\t\ttrain_loss: 1.0781,\tval_loss: 1.3997\n",
      "17:\t[0s / 0s],\t\ttrain_loss: 0.7872,\tval_loss: 1.3758\n",
      "18:\t[0s / 0s],\t\ttrain_loss: 0.7723,\tval_loss: 1.3431\n",
      "19:\t[0s / 0s],\t\ttrain_loss: 0.7436,\tval_loss: 1.2954\n",
      "20:\t[0s / 0s],\t\ttrain_loss: 0.7485,\tval_loss: 1.2726\n",
      "21:\t[0s / 0s],\t\ttrain_loss: 0.6220,\tval_loss: 1.2481\n",
      "22:\t[0s / 0s],\t\ttrain_loss: 0.7834,\tval_loss: 1.2329\n",
      "23:\t[0s / 0s],\t\ttrain_loss: 0.6704,\tval_loss: 1.2701\n",
      "24:\t[0s / 0s],\t\ttrain_loss: 0.5428,\tval_loss: 1.3052\n",
      "25:\t[0s / 0s],\t\ttrain_loss: 0.5902,\tval_loss: 1.3421\n",
      "26:\t[0s / 0s],\t\ttrain_loss: 0.6096,\tval_loss: 1.3781\n",
      "27:\t[0s / 0s],\t\ttrain_loss: 0.6945,\tval_loss: 1.4140\n",
      "28:\t[0s / 0s],\t\ttrain_loss: 0.4601,\tval_loss: 1.4269\n",
      "29:\t[0s / 0s],\t\ttrain_loss: 0.6541,\tval_loss: 1.4432\n",
      "30:\t[0s / 0s],\t\ttrain_loss: 0.4633,\tval_loss: 1.4687\n",
      "31:\t[0s / 0s],\t\ttrain_loss: 0.3831,\tval_loss: 1.4643\n",
      "32:\t[0s / 0s],\t\ttrain_loss: 0.5429,\tval_loss: 1.4386\n"
     ]
    }
   ],
   "source": [
    "log = model.fit(x_train, y_train, batch_size, epochs, callbacks, val_data=val)"
   ]
  },
  {
   "cell_type": "code",
   "execution_count": 37,
   "metadata": {},
   "outputs": [
    {
     "data": {
      "image/png": "[encoded data removed]",
      "text/plain": [
       "<Figure size 432x288 with 1 Axes>"
      ]
     },
     "metadata": {
      "needs_background": "light"
     },
     "output_type": "display_data"
    }
   ],
   "source": [
    "_ = log.plot()"
   ]
  },
  {
   "cell_type": "markdown",
   "metadata": {},
   "source": [
    "After termination, the `EarlyStopping` callback loads the best performing model (in terms of validation loss).\n",
    "We can verify this by comparing the minimum validation loss to the validation score of the trained `model`."
   ]
  },
  {
   "cell_type": "code",
   "execution_count": 38,
   "metadata": {},
   "outputs": [
    {
     "data": {
      "text/plain": [
       "1.2329273223876953"
      ]
     },
     "execution_count": 38,
     "metadata": {},
     "output_type": "execute_result"
    }
   ],
   "source": [
    "log.to_pandas().val_loss.min()"
   ]
  },
  {
   "cell_type": "code",
   "execution_count": 39,
   "metadata": {},
   "outputs": [
    {
     "data": {
      "text/plain": [
       "{'loss': 1.2329273223876953}"
      ]
     },
     "execution_count": 39,
     "metadata": {},
     "output_type": "execute_result"
    }
   ],
   "source": [
    "model.score_in_batches(val)"
   ]
  },
  {
   "cell_type": "markdown",
   "metadata": {},
   "source": [
    "## Prediction\n",
    "\n",
    "For evaluation we first need to obtain survival estimates for the test set.\n",
    "This can be done with `model.predict_surv` which returns an array of survival estimates, or with `model.predict_surv_df` which returns the survival estimates as a dataframe."
   ]
  },
  {
   "cell_type": "code",
   "execution_count": 40,
   "metadata": {},
   "outputs": [],
   "source": [
    "surv = model.predict_surv_df(x_test)"
   ]
  },
  {
   "cell_type": "code",
   "execution_count": 41,
   "metadata": {},
   "outputs": [
    {
     "data": {
      "text/html": [
       "<div>\n",
       "<style scoped>\n",
       "    .dataframe tbody tr th:only-of-type {\n",
       "        vertical-align: middle;\n",
       "    }\n",
       "\n",
       "    .dataframe tbody tr th {\n",
       "        vertical-align: top;\n",
       "    }\n",
       "\n",
       "    .dataframe thead th {\n",
       "        text-align: right;\n",
       "    }\n",
       "</style>\n",
       "<table border=\"1\" class=\"dataframe\">\n",
       "  <thead>\n",
       "    <tr style=\"text-align: right;\">\n",
       "      <th></th>\n",
       "      <th>0</th>\n",
       "      <th>1</th>\n",
       "      <th>2</th>\n",
       "      <th>3</th>\n",
       "      <th>4</th>\n",
       "      <th>5</th>\n",
       "      <th>6</th>\n",
       "      <th>7</th>\n",
       "      <th>8</th>\n",
       "      <th>9</th>\n",
       "      <th>...</th>\n",
       "      <th>81</th>\n",
       "      <th>82</th>\n",
       "      <th>83</th>\n",
       "      <th>84</th>\n",
       "      <th>85</th>\n",
       "      <th>86</th>\n",
       "      <th>87</th>\n",
       "      <th>88</th>\n",
       "      <th>89</th>\n",
       "      <th>90</th>\n",
       "    </tr>\n",
       "  </thead>\n",
       "  <tbody>\n",
       "    <tr>\n",
       "      <th>0.0</th>\n",
       "      <td>9.226423e-01</td>\n",
       "      <td>8.994970e-01</td>\n",
       "      <td>0.911595</td>\n",
       "      <td>0.981758</td>\n",
       "      <td>0.948987</td>\n",
       "      <td>9.339142e-01</td>\n",
       "      <td>0.928296</td>\n",
       "      <td>0.916130</td>\n",
       "      <td>0.947819</td>\n",
       "      <td>0.962289</td>\n",
       "      <td>...</td>\n",
       "      <td>0.896032</td>\n",
       "      <td>9.528024e-01</td>\n",
       "      <td>0.955882</td>\n",
       "      <td>0.922938</td>\n",
       "      <td>0.968257</td>\n",
       "      <td>0.864526</td>\n",
       "      <td>0.943009</td>\n",
       "      <td>0.883051</td>\n",
       "      <td>0.895540</td>\n",
       "      <td>0.948499</td>\n",
       "    </tr>\n",
       "    <tr>\n",
       "      <th>20.0</th>\n",
       "      <td>1.466297e-02</td>\n",
       "      <td>6.662333e-02</td>\n",
       "      <td>0.887934</td>\n",
       "      <td>0.913815</td>\n",
       "      <td>0.715588</td>\n",
       "      <td>3.769148e-01</td>\n",
       "      <td>0.917287</td>\n",
       "      <td>0.899229</td>\n",
       "      <td>0.929678</td>\n",
       "      <td>0.667899</td>\n",
       "      <td>...</td>\n",
       "      <td>0.873801</td>\n",
       "      <td>1.366615e-01</td>\n",
       "      <td>0.945063</td>\n",
       "      <td>0.906287</td>\n",
       "      <td>0.947941</td>\n",
       "      <td>0.833542</td>\n",
       "      <td>0.926705</td>\n",
       "      <td>0.875993</td>\n",
       "      <td>0.884827</td>\n",
       "      <td>0.892701</td>\n",
       "    </tr>\n",
       "    <tr>\n",
       "      <th>40.0</th>\n",
       "      <td>4.909736e-05</td>\n",
       "      <td>1.383409e-03</td>\n",
       "      <td>0.869157</td>\n",
       "      <td>0.685744</td>\n",
       "      <td>0.214617</td>\n",
       "      <td>4.083005e-02</td>\n",
       "      <td>0.912346</td>\n",
       "      <td>0.880942</td>\n",
       "      <td>0.909119</td>\n",
       "      <td>0.266362</td>\n",
       "      <td>...</td>\n",
       "      <td>0.855179</td>\n",
       "      <td>6.211154e-03</td>\n",
       "      <td>0.938908</td>\n",
       "      <td>0.894177</td>\n",
       "      <td>0.927106</td>\n",
       "      <td>0.808523</td>\n",
       "      <td>0.912120</td>\n",
       "      <td>0.873533</td>\n",
       "      <td>0.880210</td>\n",
       "      <td>0.820135</td>\n",
       "    </tr>\n",
       "    <tr>\n",
       "      <th>60.0</th>\n",
       "      <td>1.667530e-07</td>\n",
       "      <td>1.277299e-05</td>\n",
       "      <td>0.848864</td>\n",
       "      <td>0.567076</td>\n",
       "      <td>0.052797</td>\n",
       "      <td>3.337987e-03</td>\n",
       "      <td>0.908985</td>\n",
       "      <td>0.859323</td>\n",
       "      <td>0.889781</td>\n",
       "      <td>0.097926</td>\n",
       "      <td>...</td>\n",
       "      <td>0.841037</td>\n",
       "      <td>1.871191e-04</td>\n",
       "      <td>0.936579</td>\n",
       "      <td>0.885093</td>\n",
       "      <td>0.909964</td>\n",
       "      <td>0.731184</td>\n",
       "      <td>0.903119</td>\n",
       "      <td>0.868232</td>\n",
       "      <td>0.877648</td>\n",
       "      <td>0.510131</td>\n",
       "    </tr>\n",
       "    <tr>\n",
       "      <th>80.0</th>\n",
       "      <td>2.405971e-09</td>\n",
       "      <td>6.405916e-07</td>\n",
       "      <td>0.795673</td>\n",
       "      <td>0.389624</td>\n",
       "      <td>0.015410</td>\n",
       "      <td>5.579249e-04</td>\n",
       "      <td>0.870494</td>\n",
       "      <td>0.783123</td>\n",
       "      <td>0.817078</td>\n",
       "      <td>0.056028</td>\n",
       "      <td>...</td>\n",
       "      <td>0.731150</td>\n",
       "      <td>1.914775e-05</td>\n",
       "      <td>0.881080</td>\n",
       "      <td>0.796312</td>\n",
       "      <td>0.871166</td>\n",
       "      <td>0.646817</td>\n",
       "      <td>0.812084</td>\n",
       "      <td>0.854222</td>\n",
       "      <td>0.837113</td>\n",
       "      <td>0.432153</td>\n",
       "    </tr>\n",
       "    <tr>\n",
       "      <th>100.0</th>\n",
       "      <td>3.224071e-11</td>\n",
       "      <td>1.708545e-08</td>\n",
       "      <td>0.768344</td>\n",
       "      <td>0.313088</td>\n",
       "      <td>0.005976</td>\n",
       "      <td>9.551225e-05</td>\n",
       "      <td>0.855223</td>\n",
       "      <td>0.737636</td>\n",
       "      <td>0.781446</td>\n",
       "      <td>0.029383</td>\n",
       "      <td>...</td>\n",
       "      <td>0.692858</td>\n",
       "      <td>1.260655e-06</td>\n",
       "      <td>0.863097</td>\n",
       "      <td>0.762195</td>\n",
       "      <td>0.848733</td>\n",
       "      <td>0.549614</td>\n",
       "      <td>0.777813</td>\n",
       "      <td>0.838564</td>\n",
       "      <td>0.823648</td>\n",
       "      <td>0.312603</td>\n",
       "    </tr>\n",
       "    <tr>\n",
       "      <th>120.0</th>\n",
       "      <td>3.721036e-13</td>\n",
       "      <td>2.615739e-10</td>\n",
       "      <td>0.757504</td>\n",
       "      <td>0.212434</td>\n",
       "      <td>0.003414</td>\n",
       "      <td>2.833152e-05</td>\n",
       "      <td>0.850786</td>\n",
       "      <td>0.700577</td>\n",
       "      <td>0.763977</td>\n",
       "      <td>0.019049</td>\n",
       "      <td>...</td>\n",
       "      <td>0.683281</td>\n",
       "      <td>1.726105e-07</td>\n",
       "      <td>0.858011</td>\n",
       "      <td>0.753249</td>\n",
       "      <td>0.836695</td>\n",
       "      <td>0.521797</td>\n",
       "      <td>0.767617</td>\n",
       "      <td>0.823139</td>\n",
       "      <td>0.819918</td>\n",
       "      <td>0.006435</td>\n",
       "    </tr>\n",
       "    <tr>\n",
       "      <th>140.0</th>\n",
       "      <td>1.889606e-14</td>\n",
       "      <td>4.075956e-12</td>\n",
       "      <td>0.738074</td>\n",
       "      <td>0.080199</td>\n",
       "      <td>0.001601</td>\n",
       "      <td>7.017781e-06</td>\n",
       "      <td>0.838229</td>\n",
       "      <td>0.629081</td>\n",
       "      <td>0.702783</td>\n",
       "      <td>0.015570</td>\n",
       "      <td>...</td>\n",
       "      <td>0.646371</td>\n",
       "      <td>5.633134e-08</td>\n",
       "      <td>0.842014</td>\n",
       "      <td>0.719267</td>\n",
       "      <td>0.822078</td>\n",
       "      <td>0.318166</td>\n",
       "      <td>0.731607</td>\n",
       "      <td>0.805802</td>\n",
       "      <td>0.804902</td>\n",
       "      <td>0.002155</td>\n",
       "    </tr>\n",
       "    <tr>\n",
       "      <th>160.0</th>\n",
       "      <td>9.326823e-16</td>\n",
       "      <td>3.619141e-13</td>\n",
       "      <td>0.718559</td>\n",
       "      <td>0.037610</td>\n",
       "      <td>0.000581</td>\n",
       "      <td>1.503587e-06</td>\n",
       "      <td>0.833448</td>\n",
       "      <td>0.527726</td>\n",
       "      <td>0.666014</td>\n",
       "      <td>0.008244</td>\n",
       "      <td>...</td>\n",
       "      <td>0.626837</td>\n",
       "      <td>7.834684e-09</td>\n",
       "      <td>0.834475</td>\n",
       "      <td>0.702726</td>\n",
       "      <td>0.796310</td>\n",
       "      <td>0.291104</td>\n",
       "      <td>0.708905</td>\n",
       "      <td>0.790190</td>\n",
       "      <td>0.801647</td>\n",
       "      <td>0.000142</td>\n",
       "    </tr>\n",
       "    <tr>\n",
       "      <th>180.0</th>\n",
       "      <td>3.127612e-16</td>\n",
       "      <td>1.360005e-13</td>\n",
       "      <td>0.398462</td>\n",
       "      <td>0.015158</td>\n",
       "      <td>0.000237</td>\n",
       "      <td>6.278875e-07</td>\n",
       "      <td>0.458497</td>\n",
       "      <td>0.300333</td>\n",
       "      <td>0.322921</td>\n",
       "      <td>0.003633</td>\n",
       "      <td>...</td>\n",
       "      <td>0.372336</td>\n",
       "      <td>2.463685e-09</td>\n",
       "      <td>0.513932</td>\n",
       "      <td>0.387510</td>\n",
       "      <td>0.373037</td>\n",
       "      <td>0.138201</td>\n",
       "      <td>0.386138</td>\n",
       "      <td>0.412112</td>\n",
       "      <td>0.457794</td>\n",
       "      <td>0.000056</td>\n",
       "    </tr>\n",
       "  </tbody>\n",
       "</table>\n",
       "<p>10 rows × 91 columns</p>\n",
       "</div>"
      ],
      "text/plain": [
       "                 0             1         2         3         4             5   \\\n",
       "0.0    9.226423e-01  8.994970e-01  0.911595  0.981758  0.948987  9.339142e-01   \n",
       "20.0   1.466297e-02  6.662333e-02  0.887934  0.913815  0.715588  3.769148e-01   \n",
       "40.0   4.909736e-05  1.383409e-03  0.869157  0.685744  0.214617  4.083005e-02   \n",
       "60.0   1.667530e-07  1.277299e-05  0.848864  0.567076  0.052797  3.337987e-03   \n",
       "80.0   2.405971e-09  6.405916e-07  0.795673  0.389624  0.015410  5.579249e-04   \n",
       "100.0  3.224071e-11  1.708545e-08  0.768344  0.313088  0.005976  9.551225e-05   \n",
       "120.0  3.721036e-13  2.615739e-10  0.757504  0.212434  0.003414  2.833152e-05   \n",
       "140.0  1.889606e-14  4.075956e-12  0.738074  0.080199  0.001601  7.017781e-06   \n",
       "160.0  9.326823e-16  3.619141e-13  0.718559  0.037610  0.000581  1.503587e-06   \n",
       "180.0  3.127612e-16  1.360005e-13  0.398462  0.015158  0.000237  6.278875e-07   \n",
       "\n",
       "             6         7         8         9   ...        81            82  \\\n",
       "0.0    0.928296  0.916130  0.947819  0.962289  ...  0.896032  9.528024e-01   \n",
       "20.0   0.917287  0.899229  0.929678  0.667899  ...  0.873801  1.366615e-01   \n",
       "40.0   0.912346  0.880942  0.909119  0.266362  ...  0.855179  6.211154e-03   \n",
       "60.0   0.908985  0.859323  0.889781  0.097926  ...  0.841037  1.871191e-04   \n",
       "80.0   0.870494  0.783123  0.817078  0.056028  ...  0.731150  1.914775e-05   \n",
       "100.0  0.855223  0.737636  0.781446  0.029383  ...  0.692858  1.260655e-06   \n",
       "120.0  0.850786  0.700577  0.763977  0.019049  ...  0.683281  1.726105e-07   \n",
       "140.0  0.838229  0.629081  0.702783  0.015570  ...  0.646371  5.633134e-08   \n",
       "160.0  0.833448  0.527726  0.666014  0.008244  ...  0.626837  7.834684e-09   \n",
       "180.0  0.458497  0.300333  0.322921  0.003633  ...  0.372336  2.463685e-09   \n",
       "\n",
       "             83        84        85        86        87        88        89  \\\n",
       "0.0    0.955882  0.922938  0.968257  0.864526  0.943009  0.883051  0.895540   \n",
       "20.0   0.945063  0.906287  0.947941  0.833542  0.926705  0.875993  0.884827   \n",
       "40.0   0.938908  0.894177  0.927106  0.808523  0.912120  0.873533  0.880210   \n",
       "60.0   0.936579  0.885093  0.909964  0.731184  0.903119  0.868232  0.877648   \n",
       "80.0   0.881080  0.796312  0.871166  0.646817  0.812084  0.854222  0.837113   \n",
       "100.0  0.863097  0.762195  0.848733  0.549614  0.777813  0.838564  0.823648   \n",
       "120.0  0.858011  0.753249  0.836695  0.521797  0.767617  0.823139  0.819918   \n",
       "140.0  0.842014  0.719267  0.822078  0.318166  0.731607  0.805802  0.804902   \n",
       "160.0  0.834475  0.702726  0.796310  0.291104  0.708905  0.790190  0.801647   \n",
       "180.0  0.513932  0.387510  0.373037  0.138201  0.386138  0.412112  0.457794   \n",
       "\n",
       "             90  \n",
       "0.0    0.948499  \n",
       "20.0   0.892701  \n",
       "40.0   0.820135  \n",
       "60.0   0.510131  \n",
       "80.0   0.432153  \n",
       "100.0  0.312603  \n",
       "120.0  0.006435  \n",
       "140.0  0.002155  \n",
       "160.0  0.000142  \n",
       "180.0  0.000056  \n",
       "\n",
       "[10 rows x 91 columns]"
      ]
     },
     "execution_count": 41,
     "metadata": {},
     "output_type": "execute_result"
    }
   ],
   "source": [
    "surv"
   ]
  },
  {
   "cell_type": "markdown",
   "metadata": {},
   "source": [
    "We can plot the survival estimates for the first 5 individuals.\n",
    "Note that the time scale is correct because we have set `model.duration_index` to be the grid points.\n",
    "We have, however, only defined the survival estimates at the 10 times in our discretization grid, so, the survival estimates is a step function"
   ]
  },
  {
   "cell_type": "code",
   "execution_count": 42,
   "metadata": {},
   "outputs": [
    {
     "data": {
      "image/png": "[encoded data removed]",
      "text/plain": [
       "<Figure size 432x288 with 1 Axes>"
      ]
     },
     "metadata": {
      "needs_background": "light"
     },
     "output_type": "display_data"
    }
   ],
   "source": [
    "surv.iloc[:, :5].plot(drawstyle='steps-post')\n",
    "plt.ylabel('S(t | x)')\n",
    "_ = plt.xlabel('Time')"
   ]
  },
  {
   "cell_type": "markdown",
   "metadata": {},
   "source": [
    "It is, therefore, often beneficial to [interpolate the survival estimates](https://arxiv.org/abs/1910.06724).\n",
    "Linear interpolation (constant density interpolation) can be performed with the `interpolate` method. We also need to choose how many points we want to replace each grid point with. Her we will use 10."
   ]
  },
  {
   "cell_type": "code",
   "execution_count": 43,
   "metadata": {},
   "outputs": [],
   "source": [
    "surv = model.interpolate(10).predict_surv_df(x_test)"
   ]
  },
  {
   "cell_type": "code",
   "execution_count": 44,
   "metadata": {},
   "outputs": [
    {
     "data": {
      "text/plain": [
       "(91, 91)"
      ]
     },
     "execution_count": 44,
     "metadata": {},
     "output_type": "execute_result"
    }
   ],
   "source": [
    "surv.shape"
   ]
  },
  {
   "cell_type": "code",
   "execution_count": 45,
   "metadata": {},
   "outputs": [
    {
     "data": {
      "image/png": "[encoded data removed]",
      "text/plain": [
       "<Figure size 432x288 with 1 Axes>"
      ]
     },
     "metadata": {
      "needs_background": "light"
     },
     "output_type": "display_data"
    }
   ],
   "source": [
    "surv.iloc[:, :10].plot(drawstyle='steps-post')\n",
    "plt.ylabel('S(t | x)')\n",
    "_ = plt.xlabel('Time')"
   ]
  },
  {
   "cell_type": "markdown",
   "metadata": {},
   "source": [
    "## Evaluation\n",
    "\n",
    "The `EvalSurv` class contains some useful evaluation criteria for time-to-event prediction.\n",
    "We set `censor_surv = 'km'` to state that we want to use Kaplan-Meier for estimating the censoring distribution.\n"
   ]
  },
  {
   "cell_type": "code",
   "execution_count": 47,
   "metadata": {},
   "outputs": [],
   "source": [
    "ev = EvalSurv(surv, durations_test, events_test, censor_surv='km')"
   ]
  },
  {
   "cell_type": "markdown",
   "metadata": {},
   "source": [
    "#### Concordance\n",
    "\n",
    "We start with the event-time concordance by [Antolini et al. 2005](https://onlinelibrary.wiley.com/doi/10.1002/sim.2427)."
   ]
  },
  {
   "cell_type": "code",
   "execution_count": 48,
   "metadata": {},
   "outputs": [
    {
     "data": {
      "text/plain": [
       "0.7990690457719162"
      ]
     },
     "execution_count": 48,
     "metadata": {},
     "output_type": "execute_result"
    }
   ],
   "source": [
    "ev.concordance_td('antolini')"
   ]
  },
  {
   "cell_type": "markdown",
   "metadata": {},
   "source": [
    "#### Brier Score\n",
    "\n",
    "We can plot the the [IPCW Brier score](https://onlinelibrary.wiley.com/doi/abs/10.1002/%28SICI%291097-0258%2819990915/30%2918%3A17/18%3C2529%3A%3AAID-SIM274%3E3.0.CO%3B2-5) for a given set of times.\n",
    "Here we just use 100 time-points between the min and max duration in the test set.\n",
    "Note that the score becomes unstable for the highest times. It is therefore common to disregard the rightmost part of the graph."
   ]
  },
  {
   "cell_type": "code",
   "execution_count": 49,
   "metadata": {},
   "outputs": [
    {
     "data": {
      "image/png": "[encoded data removed]",
      "text/plain": [
       "<Figure size 432x288 with 1 Axes>"
      ]
     },
     "metadata": {
      "needs_background": "light"
     },
     "output_type": "display_data"
    }
   ],
   "source": [
    "time_grid = np.linspace(durations_test.min(), durations_test.max(), 100)\n",
    "ev.brier_score(time_grid).plot()\n",
    "plt.ylabel('Brier score')\n",
    "_ = plt.xlabel('Time')"
   ]
  },
  {
   "cell_type": "markdown",
   "metadata": {},
   "source": [
    "#### Negative binomial log-likelihood\n",
    "\n",
    "In a similar manner, we can plot the the [IPCW negative binomial log-likelihood](https://onlinelibrary.wiley.com/doi/abs/10.1002/%28SICI%291097-0258%2819990915/30%2918%3A17/18%3C2529%3A%3AAID-SIM274%3E3.0.CO%3B2-5)."
   ]
  },
  {
   "cell_type": "code",
   "execution_count": 50,
   "metadata": {},
   "outputs": [
    {
     "data": {
      "image/png": "[encoded data removed]",
      "text/plain": [
       "<Figure size 432x288 with 1 Axes>"
      ]
     },
     "metadata": {
      "needs_background": "light"
     },
     "output_type": "display_data"
    }
   ],
   "source": [
    "ev.nbll(time_grid).plot()\n",
    "plt.ylabel('NBLL')\n",
    "_ = plt.xlabel('Time')"
   ]
  },
  {
   "cell_type": "markdown",
   "metadata": {},
   "source": [
    "#### Integrated scores\n",
    "\n",
    "The two time-dependent scores above can be integrated over time to produce a single score [Graf et al. 1999](https://onlinelibrary.wiley.com/doi/abs/10.1002/%28SICI%291097-0258%2819990915/30%2918%3A17/18%3C2529%3A%3AAID-SIM274%3E3.0.CO%3B2-5). In practice this is done by numerical integration over a defined `time_grid`."
   ]
  },
  {
   "cell_type": "code",
   "execution_count": 89,
   "metadata": {},
   "outputs": [
    {
     "data": {
      "text/plain": [
       "0.0997278428459877"
      ]
     },
     "execution_count": 89,
     "metadata": {},
     "output_type": "execute_result"
    }
   ],
   "source": [
    "ev.integrated_brier_score(time_grid) "
   ]
  },
  {
   "cell_type": "code",
   "execution_count": 90,
   "metadata": {},
   "outputs": [
    {
     "data": {
      "text/plain": [
       "0.32793070181987255"
      ]
     },
     "execution_count": 90,
     "metadata": {},
     "output_type": "execute_result"
    }
   ],
   "source": [
    "ev.integrated_nbll(time_grid) "
   ]
  }
 ],
 "metadata": {
  "kernelspec": {
   "display_name": "Python 3",
   "language": "python",
   "name": "python3"
  },
  "language_info": {
   "codemirror_mode": {
    "name": "ipython",
    "version": 3
   },
   "file_extension": ".py",
   "mimetype": "text/x-python",
   "name": "python",
   "nbconvert_exporter": "python",
   "pygments_lexer": "ipython3",
   "version": "3.7.9"
  }
 },
 "nbformat": 4,
 "nbformat_minor": 4
}
