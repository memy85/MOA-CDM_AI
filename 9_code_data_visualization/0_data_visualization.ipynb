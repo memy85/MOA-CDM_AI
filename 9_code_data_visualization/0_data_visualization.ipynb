{
 "cells": [
  {
   "cell_type": "code",
   "execution_count": null,
   "metadata": {},
   "outputs": [],
   "source": [
    "#!/usr/bin/env python\n",
    "# coding: utf-8\n",
    "\n",
    "'''\n",
    "--------------\n",
    "data visualization\n",
    "--------------\n",
    "'''"
   ]
  },
  {
   "cell_type": "code",
   "execution_count": null,
   "metadata": {},
   "outputs": [],
   "source": [
    "# ** import package **\n",
    "import os\n",
    "import sys\n",
    "import json\n",
    "import pathlib\n",
    "sys.path.append(\"..\")\n",
    "\n",
    "import numpy as np\n",
    "import pandas as pd\n",
    "import matplotlib.pyplot as plt\n",
    "import seaborn as sns\n",
    "import traceback\n",
    "from math import sqrt\n",
    "from tqdm import tqdm\n",
    "from datetime import timedelta\n",
    "from _utils.visualization_plot import *\n",
    "from _utils.customlogger import customlogger as CL"
   ]
  },
  {
   "cell_type": "code",
   "execution_count": null,
   "metadata": {},
   "outputs": [],
   "source": [
    "# ** loading config **\n",
    "with open('./../{}'.format(\"config.json\")) as file:\n",
    "    cfg = json.load(file)\n"
   ]
  },
  {
   "cell_type": "code",
   "execution_count": null,
   "metadata": {},
   "outputs": [],
   "source": [
    "# ** loading info **\n",
    "current_dir = pathlib.Path.cwd()\n",
    "parent_dir = current_dir.parent\n",
    "current_date = cfg[\"working_date\"]\n",
    "curr_file_name = os.path.splitext(os.path.basename(__file__))[0]\n"
   ]
  },
  {
   "cell_type": "code",
   "execution_count": null,
   "metadata": {},
   "outputs": [],
   "source": [
    "# ** create Logger **\n",
    "log = CL(\"custom_logger\")\n",
    "log = log.create_logger(file_name=\"../_log/{}.log\".format(curr_file_name), mode=\"a\", level=\"DEBUG\")  \n",
    "log.debug('start {}'.format(curr_file_name))\n"
   ]
  },
  {
   "cell_type": "code",
   "execution_count": null,
   "metadata": {},
   "outputs": [],
   "source": [
    "# ** connection DataBase **\n",
    "if (cfg[\"dbms\"]==\"postgresql\"):\n",
    "    db_cfg = cfg[\"postgresql\"]\n",
    "    import psycogp2 as pg\n",
    "    conn = pg.connect(host=db_cfg['@server'], user=db_cfg['@user'], password=db_cfg['@password'], port=db_cfg['@port'], dbname=db_cfg['@database']) \n",
    "    log.debug(\"postgresql connect\")\n",
    "    \n",
    "elif (cfg[\"dbms\"]==\"mssql\"):\n",
    "    db_cfg = cfg[\"mssql\"]\n",
    "    import pymssql\n",
    "    conn= pymssql.connect(server=db_cfg['@server'], user=db_cfg['@user'], password=db_cfg['@password'], port=db_cfg['@port'], database=db_cfg['@database'], as_dict=False)\n",
    "    log.debug(\"mssql connect\")\n",
    "    \n",
    "else:\n",
    "    log.warning(\"set config.json - sql - dbms : mssql or postgresql\")\n"
   ]
  },
  {
   "cell_type": "code",
   "execution_count": null,
   "metadata": {},
   "outputs": [],
   "source": [
    "for outcome_name in tqdm(cfg['meas'].keys()) :\n",
    "    try :\n",
    "        log.debug('meas : {}'.format(outcome_name))\n",
    "        output_data_dir = pathlib.Path('{}/data/{}/visualization/'.format(parent_dir, current_date))\n",
    "        pathlib.Path.mkdir(output_data_dir, mode=0o777, parents=True, exist_ok=True)\n",
    "        output_result_dir = pathlib.Path('{}/result/{}/visualization/{}/'.format(parent_dir, current_date, outcome_name))\n",
    "        pathlib.Path.mkdir(output_result_dir, mode=0o777, parents=True, exist_ok=True)\n",
    "\n",
    "        # In[ ]:\n",
    "        # - Table Load from DB and Save dataset\n",
    "        tnPopulation = '{}.person_{}'.format(db_cfg['@person_database_schema'], outcome_name)\n",
    "        sql_query = 'select * from {}'.format(tnPopulation)\n",
    "        population_df = pd.read_sql(sql=sql_query, con=conn)\n",
    "        population_df.to_csv('{}/person_{}.txt'.format(output_data_dir, outcome_name),index=False)\n",
    "\n",
    "        # In[ ]:\n",
    "        # - load dataset\n",
    "        population_df=pd.read_csv('{}/person_{}.txt'.format(output_data_dir, outcome_name))\n",
    "        population_df['age_dec'] = population_df.age.map(lambda age: 10 * (age // 10))\n",
    "        outlier = population_df.query('age>120 or age <=0')\n",
    "        population_df.drop(outlier.index, inplace=True)\n",
    "        print(len(outlier), len(population_df))\n",
    "        #population_df.plot(kind='scatter',x='age',y='value_as_number')\n",
    "\n",
    "        '''\n",
    "        Drawing plot (total set ; No Remove Outlier)\n",
    "        '''\n",
    "        save_JointPlot(df=population_df, filedir=output_result_dir, filename=outcome_name)\n",
    "        save_quadplot(df=population_df, filedir=output_result_dir, filename=outcome_name)\n",
    "        save_percentile_plot(df=population_df, filedir=output_result_dir, filename=outcome_name)\n",
    "\n",
    "        '''\n",
    "        Drawing plot (remove outlier ; 3-IQR rule)\n",
    "        '''\n",
    "        q1=population_df['value_as_number'].quantile(0.25)\n",
    "        q3=population_df['value_as_number'].quantile(0.75)\n",
    "        iqr=q3-q1\n",
    "        outlier = population_df[population_df['value_as_number']>q3+3*iqr].index\n",
    "        population_df.drop(outlier, inplace=True)\n",
    "        print(len(outlier))\n",
    "        outlier = population_df[population_df['value_as_number']<q1-3*iqr].index\n",
    "        population_df.drop(outlier, inplace=True)\n",
    "        print(len(outlier))\n",
    "\n",
    "        save_JointPlot(df=population_df, filedir=output_result_dir, filename=outcome_name+\"(3-IQR)\")\n",
    "        save_quadplot(df=population_df, filedir=output_result_dir, filename=outcome_name+\"(3-IQR)\")\n",
    "        save_percentile_plot(df=population_df, filedir=output_result_dir, filename=outcome_name+\"(3-IQR)\")\n",
    "\n",
    "        output={}\n",
    "        output['nPatient_male'] = len(population_df[population_df[\"gender_source_value\"] == 'M'])\n",
    "        output['nPatient_female'] = len(population_df[population_df[\"gender_source_value\"] == 'F'])\n",
    "\n",
    "        print(output['nPatient_male'], output['nPatient_female'])\n",
    "        out = open('{}/output.txt'.format(output_result_dir),'a')\n",
    "\n",
    "        out.write(str(outcome_name) + '///' )\n",
    "        out.write(str(output['nPatient_male']) + '///')\n",
    "        out.write(str(output['nPatient_female']) + '\\n')\n",
    "        out.close()\n",
    "\n",
    "    except :\n",
    "        traceback.print_exc()\n",
    "        log.error(traceback.format_exc())\n",
    "\n",
    "conn.close()"
   ]
  }
 ],
 "metadata": {
  "language_info": {
   "name": "python"
  },
  "orig_nbformat": 4
 },
 "nbformat": 4,
 "nbformat_minor": 2
}
