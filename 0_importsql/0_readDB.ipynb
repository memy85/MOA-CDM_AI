{
 "cells": [
  {
   "cell_type": "markdown",
   "metadata": {
    "id": "kZMKICP7MYJ7"
   },
   "source": [
    "# Import Dataset from DB"
   ]
  },
  {
   "cell_type": "code",
   "execution_count": null,
   "metadata": {},
   "outputs": [],
   "source": [
    "pwd"
   ]
  },
  {
   "cell_type": "code",
   "execution_count": null,
   "metadata": {},
   "outputs": [],
   "source": [
    "import os\n",
    "import pathlib\n",
    "import sys\n",
    "sys.path.append(\"..\")\n",
    "\n",
    "current_dir = pathlib.Path.cwd()\n",
    "parent_dir = current_dir.parent\n",
    "output_dir = pathlib.Path('{}/output_220222/'.format(current_dir))\n",
    "pathlib.Path.mkdir(output_dir, mode=0o777, parents=True, exist_ok=True)"
   ]
  },
  {
   "cell_type": "code",
   "execution_count": null,
   "metadata": {
    "id": "w4LfdVF3TKJ5",
    "scrolled": true
   },
   "outputs": [],
   "source": [
    "import numpy as np\n",
    "import matplotlib.pyplot as plt\n",
    "import datetime\n",
    "import re\n",
    "import os\n",
    "import pandas as pd\n",
    "import numpy as np\n",
    "#!pip install pymssql\n",
    "import pymssql\n",
    "from datetime import timedelta\n",
    "\n",
    "pd.set_option('display.max_colwidth', -1)  #각 컬럼 width 최대로 \n",
    "pd.set_option('display.max_rows', 50)      # display 50개 까지 "
   ]
  },
  {
   "cell_type": "markdown",
   "metadata": {},
   "source": [
    "# connection DataBase (해당 DB의 명령문 사용)"
   ]
  },
  {
   "cell_type": "markdown",
   "metadata": {},
   "source": [
    "### Postgresql (계정유출 주의)"
   ]
  },
  {
   "cell_type": "code",
   "execution_count": null,
   "metadata": {},
   "outputs": [],
   "source": [
    "# import pandas.io.sql as psql\n",
    "# import psycogp2 as pg\n",
    "# conn = pg.connect(host='111.1.11.11', dbname='cdm', user='1111', password='1111', port='5432')\n",
    "# print('connection')\n",
    "\n",
    "# sql = 'select * from cdm.cdm.person'\n",
    "# population = psql.read(sql=sql1, con=conn)\n",
    "# population.to_csv('population.txt', index=False)"
   ]
  },
  {
   "cell_type": "markdown",
   "metadata": {},
   "source": [
    "### Mssql (계정유출 주의)"
   ]
  },
  {
   "cell_type": "code",
   "execution_count": null,
   "metadata": {
    "scrolled": true
   },
   "outputs": [],
   "source": [
    "import pymssql\n",
    "#conn= pymssql.connect(server=\"111.111.111.111\", user=\"user\", password=\"password\", port=22, database='db', as_dict=False)\n",
    "print(\"connection\")"
   ]
  },
  {
   "cell_type": "markdown",
   "metadata": {},
   "source": [
    "### Table Load from DB"
   ]
  },
  {
   "cell_type": "code",
   "execution_count": null,
   "metadata": {},
   "outputs": [],
   "source": [
    "tnPopulation = 'test.dbo.celecoxib_1'\n",
    "tnMeasurement = 'CDM.dbo.measurement'\n",
    "tnDrug = 'CDM.dbo.drug_exposure'\n",
    "tnProcedure = 'CDM.dbo.procedure_occurrence'\n",
    "tnCondition = 'CDM.dbo.condition_occurrence'\n",
    "tnConcept = 'CDM.dbo.concept'\n"
   ]
  },
  {
   "cell_type": "code",
   "execution_count": null,
   "metadata": {},
   "outputs": [],
   "source": [
    "# 간독성 Patient 불러오기\n",
    "\n",
    "sqlq0 = 'select * from {}'.format(tnPopulation)\n",
    "population_df = pd.read_sql(sql=sqlq0, con=conn)\n",
    "\n",
    "sqlq1 =\"select person_id, measurement_concept_id, measurement_date, value_as_number from {} \".format(tnMeasurement) +\\\n",
    "    \"where measurement_concept_id!=0 and value_as_number is not null and person_id in (select distinct person_id from {})\".format(tnPopulation)\n",
    "measurement_df = pd.read_sql(sql=sqlq1, con=conn)\n",
    "\n",
    "sqlq2=\"select person_id, drug_concept_id, drug_exposure_start_date, quantity from {} \".format(tnDrug) +\\\n",
    "    \"where drug_concept_id!=0 and quantity is not null and person_id in (select distinct person_id from {})\".format(tnPopulation)\n",
    "drug_df = pd.read_sql(sql=sqlq2, con=conn)\n",
    "\n",
    "sqlq3=\"select person_id, procedure_concept_id, procedure_date from {} \".format(tnProcedure) +\\\n",
    "    \"where procedure_concept_id!=0 and person_id in (select distinct person_id from {} )\".format(tnPopulation)\n",
    "procedure_df = pd.read_sql(sql=sqlq3, con=conn)\n",
    "\n",
    "sqlq4=\"select person_id, condition_concept_id, condition_start_date from {} \".format(tnCondition) +\\\n",
    "    \"where condition_concept_id!=0 and person_id in (select distinct person_id from {} )\".format(tnPopulation)\n",
    "condition_df = pd.read_sql(sql=sqlq4, con=conn)\n",
    "\n",
    "sqlq5=\"select distinct concept_id, concept_name from {}\".format(tnConcept)\n",
    "concept_df = pd.read_sql(sql=sqlq5, con=conn)\n",
    "\n",
    "conn.close()"
   ]
  },
  {
   "cell_type": "markdown",
   "metadata": {},
   "source": [
    "### Save dataset"
   ]
  },
  {
   "cell_type": "code",
   "execution_count": null,
   "metadata": {},
   "outputs": [],
   "source": [
    "population_df.to_csv('{}/population.txt'.format(output_dir),index=False)\n",
    "measurement_df.to_csv('{}/measurement.txt'.format(output_dir),index=False)\n",
    "drug_df.to_csv('{}/drug.txt'.format(output_dir),index=False)\n",
    "procedure_df.to_csv('{}/procedure.txt'.format(output_dir),index=False)\n",
    "condition_df.to_csv('{}/condition.txt'.format(output_dir),index=False)\n",
    "concept_df.to_csv('{}/concept.txt'.format(output_dir),index=False)"
   ]
  },
  {
   "cell_type": "markdown",
   "metadata": {},
   "source": [
    "# Load dataset"
   ]
  },
  {
   "cell_type": "code",
   "execution_count": null,
   "metadata": {
    "scrolled": true
   },
   "outputs": [],
   "source": [
    "# 데이터 불러오기\n",
    "population_df=pd.read_csv('{}/population.txt'.format(output_dir))\n",
    "measurement_df=pd.read_csv('{}/measurement.txt'.format(output_dir))\n",
    "drug_df=pd.read_csv('{}/drug.txt'.format(output_dir))\n",
    "procedure_df=pd.read_csv('{}/procedure.txt'.format(output_dir))\n",
    "condition_df=pd.read_csv('{}/condition.txt'.format(output_dir))\n",
    "concept_df=pd.read_csv('{}/concept.txt'.format(output_dir))"
   ]
  },
  {
   "cell_type": "code",
   "execution_count": null,
   "metadata": {},
   "outputs": [],
   "source": [
    "measurement_df = measurement_df[[\"person_id\",\"measurement_concept_id\",\"measurement_date\",\"value_as_number\"]]\n",
    "drug_df = drug_df[[\"person_id\",\"drug_concept_id\",\"drug_exposure_start_date\",\"quantity\"]]\n",
    "procedure_df = procedure_df[[\"person_id\",\"procedure_concept_id\",\"procedure_date\"]]\n",
    "condition_df = condition_df[[\"person_id\",\"condition_concept_id\",\"condition_start_date\"]]\n",
    "concept_df = concept_df[[\"concept_id\",\"concept_name\"]]"
   ]
  },
  {
   "cell_type": "code",
   "execution_count": null,
   "metadata": {},
   "outputs": [],
   "source": [
    "# # 그룹바이 해서 10건 미만 리스트업\n",
    "# c=measurement_df.columns\n",
    "# gb=measurement_df[c].groupby([\"measurement_concept_id\"]).size().reset_index(name=\"cnt\")\n",
    "# gb_10=gb[gb[\"cnt\"]<10]\n",
    "# gb_df=pd.DataFrame(gb_10[\"measurement_concept_id\"].unique())\n",
    "# gb_df[\"measurement_concept_id\"]=gb_df[0]\n",
    "# # 해당 measurement_concept_id 를 포함하는 레코드 찾기\n",
    "# idx=[]\n",
    "# for i in gb_df[\"measurement_concept_id\"]:    \n",
    "#     d= measurement_df[measurement_df[\"measurement_concept_id\"]==i]\n",
    "#     d1=[i for i in d.index]    \n",
    "#     idx.extend(d1)  \n",
    "# # 인덱스로 제거 \n",
    "# measurement_df2=measurement_df.drop(idx)\n",
    "# measurement_df=measurement_df2.reset_index(drop=True)"
   ]
  },
  {
   "cell_type": "markdown",
   "metadata": {},
   "source": [
    "# Only IO: generate each domain dataset"
   ]
  },
  {
   "cell_type": "code",
   "execution_count": null,
   "metadata": {
    "scrolled": true
   },
   "outputs": [],
   "source": [
    "# population for each domains\n",
    "population_df=population_df[[\"subject_id\",\"cohort_start_date\",\"age\",\"gender_source_value\",\"person_id\"]]\n",
    "population_df=population_df.drop_duplicates()\n",
    "len(population_df)\n",
    "## measurement\n",
    "IO_measurement = pd.merge(population_df, measurement_df, left_on=[\"person_id\"], right_on=[\"person_id\"], how=\"inner\")\n",
    "IO_measurement = pd.merge(IO_measurement, concept_df, left_on=[\"measurement_concept_id\"],right_on=[\"concept_id\"],how=\"inner\")\n",
    "IO_measurement = IO_measurement.reset_index(drop=True)\n",
    "#drug\n",
    "IO_drug = pd.merge(population_df, drug_df, left_on=[\"person_id\"], right_on=[\"person_id\"], how=\"inner\")\n",
    "IO_drug = pd.merge(IO_drug,concept_df,left_on=[\"drug_concept_id\"],right_on=[\"concept_id\"],how=\"inner\")\n",
    "IO_drug = IO_drug.reset_index(drop=True)\n",
    "#procedure\n",
    "IO_procedure = pd.merge(population_df, procedure_df, left_on=[\"person_id\"], right_on=[\"person_id\"], how=\"inner\")\n",
    "IO_procedure = pd.merge(IO_procedure,concept_df,left_on=[\"procedure_concept_id\"],right_on=[\"concept_id\"],how=\"inner\")\n",
    "IO_procedure = IO_procedure.reset_index(drop=True)\n",
    "#condition\n",
    "IO_condition = pd.merge(population_df, condition_df, left_on=[\"person_id\"], right_on=[\"person_id\"], how=\"inner\")\n",
    "IO_condition = pd.merge(IO_condition,concept_df,left_on=[\"condition_concept_id\"],right_on=[\"concept_id\"],how=\"inner\")\n",
    "IO_condition = IO_condition.reset_index(drop=True)"
   ]
  },
  {
   "cell_type": "code",
   "execution_count": null,
   "metadata": {},
   "outputs": [],
   "source": [
    "del population_df\n",
    "del measurement_df\n",
    "del drug_df\n",
    "del procedure_df\n",
    "del condition_df\n",
    "del concept_df"
   ]
  },
  {
   "cell_type": "markdown",
   "metadata": {},
   "source": [
    "# CTCAE outcomes: generate each outcome dataset"
   ]
  },
  {
   "cell_type": "markdown",
   "metadata": {},
   "source": [
    "# TARGETTING"
   ]
  },
  {
   "cell_type": "code",
   "execution_count": null,
   "metadata": {},
   "outputs": [],
   "source": [
    "def cohortConditionSetting(domain_df, observation_period, interesting_period):\n",
    "    from datetime import timedelta\n",
    "    prev_len = len(domain_df)\n",
    "    domain_df['cohort_start_date'] = pd.to_datetime(domain_df['cohort_start_date'], format='%Y-%m-%d %H:%M:%S', errors='raise')\n",
    "    domain_df['measurement_date'] = pd.to_datetime(domain_df['measurement_date'], format='%Y-%m-%d %H:%M:%S', errors='raise')\n",
    "    # condition 1) Select patients with first adverse events within 2 months of cohort initiation.\n",
    "    domain_df = domain_df[(domain_df['cohort_start_date']-domain_df['measurement_date']<timedelta(days=observation_period))]\n",
    "    # condition 2) Delete data before the cohort start date.\n",
    "    domain_df = domain_df[(domain_df['measurement_date']-domain_df['cohort_start_date']<timedelta(days=interesting_period))]\n",
    "    domain_df = domain_df.reset_index(drop=True)\n",
    "    curr_len = len(domain_df)\n",
    "    print('{} > {}'.format(prev_len, curr_len))\n",
    "    return domain_df\n",
    "\n",
    "IO_measurement = cohortConditionSetting(IO_measurement, observation_period=60, interesting_period=60)"
   ]
  },
  {
   "cell_type": "code",
   "execution_count": null,
   "metadata": {},
   "outputs": [],
   "source": [
    "def measurement_targetting(abrnoaml_ctcae, IO_measurement):\n",
    "    # ID, Measure_date 순 정렬\n",
    "    abnormal_ctcae_idx = abrnoaml_ctcae.sort_values(by=[\"person_id\",\"measurement_date\"],ascending=True)\\\n",
    "    .drop_duplicates(subset=\"person_id\",keep=\"first\").index\n",
    "    \n",
    "    # First abnormal date 넣기\n",
    "    abrnoaml_ctcae[\"first_abnormal_date\"] = abrnoaml_ctcae.loc[abnormal_ctcae_idx][\"measurement_date\"]\n",
    "\n",
    "    # target 의 person_id\n",
    "    target_person=abrnoaml_ctcae[\"person_id\"].unique()\n",
    "    first_abnormal_date=abrnoaml_ctcae[abrnoaml_ctcae[\"first_abnormal_date\"].notnull()].index\n",
    "    #print(\"abnormal person:\",len(target_person))   \n",
    "\n",
    "    # abnormal 환자의 모든 레코드를 담기위해\n",
    "    # abnormal person_id 수집\n",
    "    abnormal_idx=[]\n",
    "    for i in target_person:        \n",
    "        abnormal_idx.extend(IO_measurement[IO_measurement[\"person_id\"]==i].index)\n",
    "\n",
    "    #abnormal dataframe\n",
    "    abnormal_df=IO_measurement.loc[abnormal_idx]  \n",
    "    abnormal_df[\"first_abnormal_date\"]=abnormal_df.loc[first_abnormal_date][\"measurement_date\"]\n",
    "\n",
    "    #해당 person 의 first_abnormal_date 채우기(그래야 row 별로 비교 가능)\n",
    "    for person_id, group_data in abnormal_df.groupby([\"person_id\"]):    \n",
    "        all_date=group_data.first_abnormal_date.unique()\n",
    "        first_abnormal_date = [i for i in all_date][1]\n",
    "        #print(first_abnormal_date)\n",
    "        abnormal_df[\"first_abnormal_date\"][abnormal_df[\"person_id\"]==person_id]=first_abnormal_date\n",
    "\n",
    "    # 전체 index 에서 abnormal index 제거해서 normal index 찾기\n",
    "    normal_idx=IO_measurement.index.difference(abnormal_idx)\n",
    "    normal_idx=normal_idx.tolist()\n",
    "    normal_df=IO_measurement.loc[normal_idx] \n",
    "\n",
    "    # label 1,0 채우기\n",
    "    abnormal_df[\"label\"]=1\n",
    "    normal_df[\"label\"]=0\n",
    "    print(len(abnormal_df[\"person_id\"].unique())) # \n",
    "    print(len(normal_df[\"person_id\"].unique()))   # \n",
    "\n",
    "    # reset_index\n",
    "    abnormal_df=abnormal_df.sort_values([\"person_id\",\"cohort_start_date\",\"measurement_date\"]).reset_index(drop=True)\n",
    "    normal_df=normal_df.sort_values([\"person_id\",\"cohort_start_date\",\"measurement_date\"]).reset_index(drop=True)\n",
    "\n",
    "    # imputation\n",
    "    abnormal_df[\"first_abnormal_date\"]=abnormal_df[\"first_abnormal_date\"].fillna('1970-01-01')\n",
    "    abnormal_df[\"person_id\"]=abnormal_df[\"person_id\"].fillna(abnormal_df[\"subject_id\"])\n",
    "    abnormal_df[\"measurement_date\"]=abnormal_df[\"measurement_date\"].fillna(abnormal_df[\"cohort_start_date\"])\n",
    "    normal_df[\"person_id\"]=normal_df[\"person_id\"].fillna(normal_df[\"subject_id\"])\n",
    "    normal_df[\"measurement_date\"]=normal_df[\"measurement_date\"].fillna(normal_df[\"cohort_start_date\"])\n",
    "\n",
    "    abnormal_df=abnormal_df.fillna('0')\n",
    "    normal_df=normal_df.fillna('0')\n",
    "    \n",
    "    dataset = pd.concat([abnormal_df,normal_df])\n",
    "    dataset.sort_values([\"person_id\",\"cohort_start_date\",\"measurement_date\"]).reset_index(drop=True)\n",
    "    \n",
    "    return dataset"
   ]
  },
  {
   "cell_type": "markdown",
   "metadata": {},
   "source": [
    "### hepatotoxicity (간독성)"
   ]
  },
  {
   "cell_type": "code",
   "execution_count": null,
   "metadata": {},
   "outputs": [],
   "source": [
    "_3times = 3\n",
    "_2times = 2\n",
    "\n",
    "# 1) 간독성 \n",
    "#    - 1-1) 신촌 Normal Range\n",
    "#    - 1-2) 강남 Normal Range\n",
    "hepatotoxicity_AST_pre=[['F',3013721,'>',34],  ['M',3013721,'>',34]]                    # AST : 13-34\n",
    "hepatotoxicity_ALT_pre=[['F',3006926,'>',46],  ['M',3006926,'>',46]]                    # ALT : 5~46\n",
    "hepatotoxicity_ALP_pre=[['F',3000963,'>',390], ['M',3000963,'>',151]]                   # ALP : male:50-151 female:50-390\n",
    "hepatotoxicity_TBL_pre=[['F',3024128,'>',1.5], ['M',3024128,'>',1.8]]                   # TBL : male:0.2-1.8 female:0.2-1.5\n",
    "\n",
    "hepatotoxicity_AST=[['F',3013721,'>',34*_3times],  ['M',3013721,'>',34*_3times]]        # AST : 13-34\n",
    "hepatotoxicity_ALT=[['F',3006926,'>',46*_3times],  ['M',3006926,'>',46*_3times]]        # ALT : 5~46\n",
    "hepatotoxicity_ALP=[['F',3000963,'>',390*_2times], ['M',3000963,'>',151*_2times]]       # ALP : male:50-151 female:50-390\n",
    "hepatotoxicity_TBL=[['F',3024128,'>',1.5*_2times], ['M',3024128,'>',1.8*_2times]]       # TBL : male:0.2-1.8 female:0.2-1.5\n",
    "#    - 1-3) 건양대 Normal Range\n",
    "\n",
    "print('base dataset:',len(IO_measurement))\n",
    "\n",
    "history_query_AST = \"\"\"(gender_source_value=='{}' and cohort_start_date>=measurement_date and measurement_concept_id=={} and value_as_number>{}) or \\\n",
    "    (gender_source_value=='{}' and cohort_start_date>=measurement_date and measurement_concept_id=={} and value_as_number>{})\"\"\" \\\n",
    "    .format(hepatotoxicity_AST_pre[0][0],hepatotoxicity_AST_pre[0][1],hepatotoxicity_AST_pre[0][3], \\\n",
    "    hepatotoxicity_AST_pre[1][0],hepatotoxicity_AST_pre[1][1],hepatotoxicity_AST_pre[1][3])\n",
    "\n",
    "history_query_ALT = \"\"\"(gender_source_value=='{}' and cohort_start_date>=measurement_date and measurement_concept_id=={} and value_as_number>{}) or \\\n",
    "    (gender_source_value=='{}' and cohort_start_date>=measurement_date and measurement_concept_id=={} and value_as_number>{})\"\"\" \\\n",
    "    .format(hepatotoxicity_ALT_pre[0][0],hepatotoxicity_ALT_pre[0][1],hepatotoxicity_ALT_pre[0][3], \\\n",
    "    hepatotoxicity_ALT_pre[1][0],hepatotoxicity_ALT_pre[1][1],hepatotoxicity_ALT_pre[1][3])\n",
    "\n",
    "history_query_ALP = \"\"\"(gender_source_value=='{}' and cohort_start_date>=measurement_date and measurement_concept_id=={} and value_as_number>{}) or \\\n",
    "    (gender_source_value=='{}' and cohort_start_date>=measurement_date and measurement_concept_id=={} and value_as_number>{})\"\"\" \\\n",
    "    .format(hepatotoxicity_ALP_pre[0][0],hepatotoxicity_ALP_pre[0][1],hepatotoxicity_ALP_pre[0][3], \\\n",
    "    hepatotoxicity_ALP_pre[1][0],hepatotoxicity_ALP_pre[1][1],hepatotoxicity_ALP_pre[1][3])\n",
    "\n",
    "history_query_TBL = \"\"\"(gender_source_value=='{}' and cohort_start_date>=measurement_date and measurement_concept_id=={} and value_as_number>{}) or \\\n",
    "    (gender_source_value=='{}' and cohort_start_date>=measurement_date and measurement_concept_id=={} and value_as_number>{})\"\"\" \\\n",
    "    .format(hepatotoxicity_TBL_pre[0][0],hepatotoxicity_TBL_pre[0][1],hepatotoxicity_TBL_pre[0][3], \\\n",
    "    hepatotoxicity_TBL_pre[1][0],hepatotoxicity_TBL_pre[1][1],hepatotoxicity_TBL_pre[1][3])\n",
    "\n",
    "IO_measurement_history_AST = IO_measurement.query(history_query_AST)\n",
    "IO_measurement_history_ALT = IO_measurement.query(history_query_ALT)\n",
    "IO_measurement_history_ALP = IO_measurement.query(history_query_ALP)\n",
    "IO_measurement_history_TBL = IO_measurement.query(history_query_TBL)\n",
    "\n",
    "history_person = set(IO_measurement_history_AST.subject_id.unique()) | \\\n",
    "                  set(IO_measurement_history_ALT.subject_id.unique()) | \\\n",
    "                  set(IO_measurement_history_ALP.subject_id.unique()) | \\\n",
    "                  set(IO_measurement_history_TBL.subject_id.unique())\n",
    "\n",
    "IO_measurement_without_history = IO_measurement[~IO_measurement[\"subject_id\"].isin(history_person)]\n",
    "globals()['IO_measurement_hepatotoxicity'] = IO_measurement_without_history\n",
    "print('after wash out:', len(IO_measurement_without_history), len(IO_measurement_without_history.subject_id.unique()))  \n",
    "\n",
    "abnormal_query_AST = \"\"\"(gender_source_value=='{}' and measurement_concept_id=={} and value_as_number>{}) or \\\n",
    "    (gender_source_value=='{}' and measurement_concept_id=={} and value_as_number>{})\"\"\" \\\n",
    "    .format(hepatotoxicity_AST[0][0],hepatotoxicity_AST[0][1],hepatotoxicity_AST[0][3], \\\n",
    "    hepatotoxicity_AST[1][0],hepatotoxicity_AST[1][1],hepatotoxicity_AST[1][3])\n",
    "\n",
    "abnormal_query_ALT = \"\"\"(gender_source_value=='{}' and measurement_concept_id=={} and value_as_number>{}) or \\\n",
    "    (gender_source_value=='{}' and measurement_concept_id=={} and value_as_number>{})\"\"\" \\\n",
    "    .format(hepatotoxicity_ALT[0][0],hepatotoxicity_ALT[0][1],hepatotoxicity_ALT[0][3], \\\n",
    "    hepatotoxicity_ALT[1][0],hepatotoxicity_ALT[1][1],hepatotoxicity_ALT[1][3])\n",
    "\n",
    "abnormal_query_ALP = \"\"\"(gender_source_value=='{}' and measurement_concept_id=={} and value_as_number>{}) or \\\n",
    "    (gender_source_value=='{}' and measurement_concept_id=={} and value_as_number>{})\"\"\" \\\n",
    "    .format(hepatotoxicity_ALP[0][0],hepatotoxicity_ALP[0][1],hepatotoxicity_ALP[0][3], \\\n",
    "    hepatotoxicity_ALP[1][0],hepatotoxicity_ALP[1][1],hepatotoxicity_ALP[1][3])\n",
    "\n",
    "abnormal_query_TBL = \"\"\"(gender_source_value=='{}' and measurement_concept_id=={} and value_as_number>{}) or \\\n",
    "    (gender_source_value=='{}' and measurement_concept_id=={} and value_as_number>{})\"\"\" \\\n",
    "    .format(hepatotoxicity_TBL[0][0],hepatotoxicity_TBL[0][1],hepatotoxicity_TBL[0][3], \\\n",
    "    hepatotoxicity_TBL[1][0],hepatotoxicity_TBL[1][1],hepatotoxicity_TBL[1][3])\n",
    "    \n",
    "abnormal_AST = IO_measurement_without_history.query(abnormal_query_AST)    \n",
    "abnormal_ALT = IO_measurement_without_history.query(abnormal_query_ALT)    \n",
    "abnormal_ALP = IO_measurement_without_history.query(abnormal_query_ALP)    \n",
    "abnormal_TBL = IO_measurement_without_history.query(abnormal_query_TBL)\n",
    "\n",
    "abnormal_person = set(abnormal_AST.subject_id.unique()) | \\\n",
    "                  set(abnormal_ALT.subject_id.unique()) | \\\n",
    "                  set(abnormal_ALP.subject_id.unique()) | \\\n",
    "                  set(abnormal_TBL.subject_id.unique())\n",
    "\n",
    "abnormal_temp = IO_measurement_without_history[IO_measurement_without_history[\"subject_id\"].isin(abnormal_person)]\n",
    "abnormal_temp = pd.concat([abnormal_AST, abnormal_ALT, abnormal_ALP, abnormal_TBL])\n",
    "\n",
    "globals()['abnormal_hepatotoxicity'] = abnormal_temp\n",
    "print('after abnormal records :', len(abnormal_temp))  "
   ]
  },
  {
   "cell_type": "markdown",
   "metadata": {},
   "source": [
    "### nephrotoxicity(신독성)"
   ]
  },
  {
   "cell_type": "code",
   "execution_count": null,
   "metadata": {
    "scrolled": true
   },
   "outputs": [],
   "source": [
    "_1_5times = 1.5\n",
    "# 2) 신독성\n",
    "#    - 2-1) 신촌 Normal Range\n",
    "#    - 2-2) 강남 Normal Range\n",
    "nephrotoxicity_creatinine_pre   =[['F',3016723,'>',0.91],  ['M',3016723,'>',1.19]]                              # creatinine : male:0.32-1.19 female:0.49-0.91\n",
    "nephrotoxicity_creatinine       =[['F',3016723,'>',0.91*_1_5times],  ['M',3016723,'>',1.19*_1_5times]]          # creatinine : male:0.32-1.19 female:0.49-0.91\n",
    "#    - 2-3) 건양대 Normal Range\n",
    "\n",
    "print('base dataset:',len(IO_measurement), len(IO_measurement.subject_id.unique()))\n",
    "history_query = \"\"\"(gender_source_value=='{}' and cohort_start_date>=measurement_date and measurement_concept_id=={} and value_as_number>{}) or \\\n",
    "    (gender_source_value=='{}' and cohort_start_date>=measurement_date and measurement_concept_id=={} and value_as_number>{})\"\"\" \\\n",
    "    .format(nephrotoxicity_creatinine_pre[0][0],nephrotoxicity_creatinine_pre[0][1],nephrotoxicity_creatinine_pre[0][3], \\\n",
    "    nephrotoxicity_creatinine_pre[1][0],nephrotoxicity_creatinine_pre[1][1],nephrotoxicity_creatinine_pre[1][3])\n",
    "print(history_query)\n",
    "\n",
    "IO_measurement_history = IO_measurement.query(history_query)\n",
    "IO_measurement_without_history = IO_measurement[~IO_measurement[\"subject_id\"].isin(IO_measurement_history.subject_id.unique())]\n",
    "globals()['IO_measurement_nephrotoxicity'] = IO_measurement_without_history\n",
    "print('after wash out:', len(IO_measurement_without_history), len(IO_measurement_without_history.subject_id.unique()))  \n",
    "\n",
    "abnormal_query = \"\"\"(gender_source_value=='{}' and measurement_concept_id=={} and value_as_number>{}) or \\\n",
    "    (gender_source_value=='{}' and measurement_concept_id=={} and value_as_number>{})\"\"\" \\\n",
    "    .format(nephrotoxicity_creatinine[0][0],nephrotoxicity_creatinine[0][1],nephrotoxicity_creatinine[0][3], \\\n",
    "    nephrotoxicity_creatinine[1][0],nephrotoxicity_creatinine[1][1],nephrotoxicity_creatinine[1][3])\n",
    "print(abnormal_query)\n",
    "\n",
    "IO_measurement_abnormal = IO_measurement_without_history.query(abnormal_query)    \n",
    "globals()['abnormal_nephrotoxicity'] = IO_measurement_abnormal\n",
    "print('after wash out:', len(IO_measurement_abnormal), len(IO_measurement_abnormal.subject_id.unique()))  "
   ]
  },
  {
   "cell_type": "markdown",
   "metadata": {},
   "source": [
    "### outcome 마다 각 domain dataset 생성"
   ]
  },
  {
   "cell_type": "code",
   "execution_count": null,
   "metadata": {},
   "outputs": [],
   "source": [
    "len(IO_measurement_hepatotoxicity.subject_id.unique())"
   ]
  },
  {
   "cell_type": "code",
   "execution_count": null,
   "metadata": {
    "scrolled": true
   },
   "outputs": [],
   "source": [
    "IO_measurement_abnormal=[IO_measurement_hepatotoxicity, IO_measurement_nephrotoxicity]\n",
    "abnormal_list=[abnormal_hepatotoxicity, abnormal_nephrotoxicity]\n",
    "abnormal_list_nm=['abnormal_hepatotoxicity', 'abnormal_nephrotoxicity']\n",
    "\n",
    "# outcome 마다 각 domain dataset 생성\n",
    "domains=['_measurement','_drug','_procedure','_condition']\n",
    "\n",
    "#measurement\n",
    "for IO_measurement, abnormal_ctcae, nm in zip(IO_measurement_abnormal, abnormal_list, abnormal_list_nm):\n",
    "    dataset = measurement_targetting(abnormal_ctcae,IO_measurement)\n",
    "    \n",
    "    print(dataset)\n",
    "    # population\n",
    "    targetting = dataset[[\"subject_id\",\"cohort_start_date\",\"age\",\"gender_source_value\",\"first_abnormal_date\",\"label\"]]\n",
    "    targetting=targetting.drop_duplicates()\n",
    "    \n",
    "    #measurement\n",
    "    meas_1=dataset\n",
    "    meas_1.rename(columns={'gender_source_value':'sex'},inplace=True)\n",
    "#    globals()['{}{}'.format(nm,domains[0])] = meas_1\n",
    "    meas_1.to_csv('{}/{}{}.txt'.format(output_dir,nm,domains[0]),index=False)\n",
    "    \n",
    "    #drug    \n",
    "    drug_1=pd.merge(targetting, IO_drug, left_on=[\"subject_id\"],right_on=[\"person_id\"],how=\"inner\")\n",
    "    drug_1=drug_1.query('cohort_start_date_x <= drug_exposure_start_date')    \n",
    "    drug_1=drug_1.rename(columns={'subject_id_x':'subject_id','cohort_start_date_x':'cohort_start_date',\\\n",
    "                                 'gender_source_value_x':'sex','person_id_x':'person_id',\\\n",
    "                                 'age_x':'age'},inplace=False)\n",
    "#    globals()['{}{}'.format(nm,domains[1])] = drug_1.reset_index(drop=True)\n",
    "    drug_1.to_csv('{}/{}{}.txt'.format(output_dir,nm,domains[1]),index=False)\n",
    "    \n",
    "    #procedure    \n",
    "    proc_1=pd.merge(targetting, IO_procedure, left_on=[\"subject_id\"],right_on=[\"person_id\"],how=\"inner\")\n",
    "    proc_1=proc_1.query('cohort_start_date_x <= procedure_date')    \n",
    "    proc_1=proc_1.rename(columns={'subject_id_x':'subject_id','cohort_start_date_x':'cohort_start_date',\\\n",
    "                                 'gender_source_value_x':'sex','person_id_x':'person_id',\\\n",
    "                                 'age_x':'age'},inplace=False)\n",
    "#    globals()['{}{}'.format(nm,domains[2])] = proc_1.reset_index(drop=True)\n",
    "    proc_1.to_csv('{}/{}{}.txt'.format(output_dir,nm,domains[2]),index=False)\n",
    "    \n",
    "    #condition    \n",
    "    cond_1=pd.merge(targetting, IO_condition, left_on=[\"subject_id\"],right_on=[\"person_id\"],how=\"inner\")\n",
    "    cond_1=cond_1.query('cohort_start_date_x <= condition_start_date')    \n",
    "    cond_1=cond_1.rename(columns={'subject_id_x':'subject_id','cohort_start_date_x':'cohort_start_date',\\\n",
    "                                 'gender_source_value_x':'sex','person_id_x':'person_id',\\\n",
    "                                 'age_x':'age'},inplace=False)\n",
    "#   globals()['{}{}'.format(nm,domains[3])] = cond_1.reset_index(drop=True)  \n",
    "    cond_1.to_csv('{}/{}{}.txt'.format(output_dir,nm,domains[3]),index=False) \n"
   ]
  },
  {
   "cell_type": "code",
   "execution_count": null,
   "metadata": {},
   "outputs": [],
   "source": [
    "meas_1.subject_id.unique()"
   ]
  },
  {
   "cell_type": "code",
   "execution_count": null,
   "metadata": {},
   "outputs": [],
   "source": []
  }
 ],
 "metadata": {
  "colab": {
   "name": "0.IO_condition.ipynb",
   "provenance": []
  },
  "kernelspec": {
   "display_name": "Python 3",
   "language": "python",
   "name": "python3"
  },
  "language_info": {
   "codemirror_mode": {
    "name": "ipython",
    "version": 3
   },
   "file_extension": ".py",
   "mimetype": "text/x-python",
   "name": "python",
   "nbconvert_exporter": "python",
   "pygments_lexer": "ipython3",
   "version": "3.7.9"
  }
 },
 "nbformat": 4,
 "nbformat_minor": 4
}
