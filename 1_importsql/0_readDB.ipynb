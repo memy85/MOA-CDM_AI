{
 "cells": [
  {
   "cell_type": "markdown",
   "metadata": {},
   "source": [
    "### import SQL\n",
    "--------------\n",
    "사전작업\n",
    "- 1) Atlas Cohort 생성 (Target / Case)\n",
    "- 2) DB에서 Target / Case 병합 Table 생성\n",
    "-------------\n",
    "변경사항\n",
    "- 1) current_date\n",
    "- 2) outcome_name ; 변경하면서 다시 재실행 \n",
    "- 3) db 정보 및 dbTableSchema 변경\n",
    "--------------"
   ]
  },
  {
   "cell_type": "code",
   "execution_count": 1,
   "metadata": {},
   "outputs": [],
   "source": [
    "# @변경 필요한 변수\n",
    "\n",
    "current_date = 20220317\n",
    "# outcome_list=['meloxicam', 'celecoxib', 'valproic_acid, lamotrigine']\n",
    "outcome_name = 'meloxicam' \n",
    "domains = ['measurement', 'drug', 'procedure', 'condition']"
   ]
  },
  {
   "cell_type": "code",
   "execution_count": 2,
   "metadata": {},
   "outputs": [],
   "source": [
    "import os\n",
    "import pathlib\n",
    "import sys\n",
    "sys.path.append(\"..\")\n",
    "\n",
    "current_dir = pathlib.Path.cwd()\n",
    "parent_dir = current_dir.parent\n",
    "output_dir = pathlib.Path('{}/data/{}/importsql/{}/'.format(parent_dir, current_date, outcome_name))\n",
    "pathlib.Path.mkdir(output_dir, mode=0o777, parents=True, exist_ok=True)"
   ]
  },
  {
   "cell_type": "code",
   "execution_count": 3,
   "metadata": {
    "id": "w4LfdVF3TKJ5",
    "scrolled": true
   },
   "outputs": [
    {
     "name": "stderr",
     "output_type": "stream",
     "text": [
      "C:\\Users\\suncheolheo\\AppData\\Roaming\\Python\\Python37\\site-packages\\ipykernel_launcher.py:12: FutureWarning: Passing a negative integer is deprecated in version 1.0 and will not be supported in future version. Instead, use None to not limit the column width.\n",
      "  if sys.path[0] == '':\n"
     ]
    }
   ],
   "source": [
    "import numpy as np\n",
    "import matplotlib.pyplot as plt\n",
    "import datetime\n",
    "import re\n",
    "import os\n",
    "import pandas as pd\n",
    "import numpy as np\n",
    "#!pip install pymssql\n",
    "import pymssql\n",
    "from datetime import timedelta\n",
    "\n",
    "pd.set_option('display.max_colwidth', -1)  #각 컬럼 width 최대로 \n",
    "pd.set_option('display.max_rows', 50)      # display 50개 까지 "
   ]
  },
  {
   "cell_type": "markdown",
   "metadata": {},
   "source": [
    "### Postgresql (계정유출 주의)"
   ]
  },
  {
   "cell_type": "code",
   "execution_count": 4,
   "metadata": {},
   "outputs": [],
   "source": [
    "# import pandas.io.sql as psql\n",
    "# import psycogp2 as pg\n",
    "# conn = pg.connect(host='111.1.11.11', dbname='cdm', user='1111', password='1111', port='5432')\n",
    "# print('connection')\n",
    "\n",
    "# sql = 'select * from cdm.cdm.person'\n",
    "# population = psql.read(sql=sql1, con=conn)\n",
    "# population.to_csv('population.txt', index=False)"
   ]
  },
  {
   "cell_type": "markdown",
   "metadata": {},
   "source": [
    "### Mssql (계정유출 주의)"
   ]
  },
  {
   "cell_type": "code",
   "execution_count": 5,
   "metadata": {
    "scrolled": true
   },
   "outputs": [
    {
     "name": "stdout",
     "output_type": "stream",
     "text": [
      "connection\n"
     ]
    }
   ],
   "source": [
    "import pymssql\n",
    "#conn= pymssql.connect(server=\"111.111.111.111\", user=\"user\", password=\"password\", port=22, database='db', as_dict=False)\n",
    "conn= pymssql.connect(server=\"61.252.54.76\", user=\"Atlas\", password=\"dhlab2021!\", port=14333, database='CDM', as_dict=False)\n",
    "print(\"connection\")"
   ]
  },
  {
   "cell_type": "markdown",
   "metadata": {},
   "source": [
    "### Table Load from DB"
   ]
  },
  {
   "cell_type": "code",
   "execution_count": 6,
   "metadata": {},
   "outputs": [],
   "source": [
    "tnPopulation = 'temp.dbo.person_{}'.format(outcome_name)\n",
    "tnMeasurement = 'CDM.dbo.measurement'\n",
    "tnDrug = 'CDM.dbo.drug_exposure'\n",
    "tnProcedure = 'CDM.dbo.procedure_occurrence'\n",
    "tnCondition = 'CDM.dbo.condition_occurrence'\n",
    "tnConcept = 'CDM.dbo.concept'"
   ]
  },
  {
   "cell_type": "code",
   "execution_count": 7,
   "metadata": {},
   "outputs": [
    {
     "name": "stdout",
     "output_type": "stream",
     "text": [
      "success : 6978\n"
     ]
    }
   ],
   "source": [
    "# 간독성 Patient 불러오기\n",
    "sql_query = 'select * from {}'.format(tnPopulation)\n",
    "population_df = pd.read_sql(sql=sql_query, con=conn)\n",
    "\n",
    "# 결과확인 \n",
    "print('success : {}'.format(len(population_df)))"
   ]
  },
  {
   "cell_type": "markdown",
   "metadata": {},
   "source": [
    "### Table Load from DB (Measurement / drug / procedure / concept)"
   ]
  },
  {
   "cell_type": "code",
   "execution_count": 8,
   "metadata": {},
   "outputs": [
    {
     "name": "stdout",
     "output_type": "stream",
     "text": [
      "success : 29157876\n"
     ]
    }
   ],
   "source": [
    "# Measurement / drug / procedure / concept 불러오기 \n",
    "sql_query =\"select person_id, measurement_concept_id, measurement_date, value_as_number from {} \".format(tnMeasurement) +\\\n",
    "    \"where measurement_concept_id!=0 and value_as_number is not null and person_id in (select distinct person_id from {})\".format(tnPopulation)\n",
    "meas_df = pd.read_sql(sql=sql_query, con=conn)\n",
    "\n",
    "sql_query=\"select person_id, drug_concept_id, drug_exposure_start_date, quantity from {} \".format(tnDrug) +\\\n",
    "    \"where drug_concept_id!=0 and quantity is not null and person_id in (select distinct person_id from {})\".format(tnPopulation)\n",
    "drug_df = pd.read_sql(sql=sql_query, con=conn)\n",
    "\n",
    "sql_query=\"select person_id, procedure_concept_id, procedure_date from {} \".format(tnProcedure) +\\\n",
    "    \"where procedure_concept_id!=0 and person_id in (select distinct person_id from {} )\".format(tnPopulation)\n",
    "proc_df = pd.read_sql(sql=sql_query, con=conn)\n",
    "\n",
    "sql_query=\"select person_id, condition_concept_id, condition_start_date from {} \".format(tnCondition) +\\\n",
    "    \"where condition_concept_id!=0 and person_id in (select distinct person_id from {} )\".format(tnPopulation)\n",
    "cond_df = pd.read_sql(sql=sql_query, con=conn)\n",
    "\n",
    "# 결과확인 \n",
    "print('success : {}'.format(len(meas_df), len(drug_df), len(proc_df), len(cond_df)))"
   ]
  },
  {
   "cell_type": "markdown",
   "metadata": {},
   "source": [
    "### Table Load from DB (Concept)"
   ]
  },
  {
   "cell_type": "code",
   "execution_count": 9,
   "metadata": {},
   "outputs": [
    {
     "name": "stdout",
     "output_type": "stream",
     "text": [
      "579 1533 1265 2636\n"
     ]
    }
   ],
   "source": [
    "## concept table 전체 불러오기 \n",
    "# sql_query=\"select distinct concept_id, concept_name from {}\".format(tnConcept)\n",
    "# concept_df = pd.read_sql(sql=sql_query, con=conn)\n",
    "\n",
    "## concept table 일부 불러오기 \n",
    "sql_query=\"select distinct concept_id, concept_name from {} \".format(tnConcept) +\\\n",
    "    \"where concept_id !=0 and concept_id in (select distinct measurement_concept_id from {})\".format(tnMeasurement)\n",
    "concept_meas_df = pd.read_sql(sql=sql_query, con=conn)\n",
    "sql_query=\"select distinct concept_id, concept_name from {} \".format(tnConcept) +\\\n",
    "    \"where concept_id !=0 and concept_id in (select distinct drug_concept_id from {})\".format(tnDrug)\n",
    "concept_drug_df = pd.read_sql(sql=sql_query, con=conn)\n",
    "sql_query=\"select distinct concept_id, concept_name from {} \".format(tnConcept) +\\\n",
    "    \"where concept_id !=0 and concept_id in (select distinct procedure_concept_id from {})\".format(tnProcedure)\n",
    "concept_proc_df = pd.read_sql(sql=sql_query, con=conn)\n",
    "sql_query=\"select distinct concept_id, concept_name from {} \".format(tnConcept) +\\\n",
    "    \"where concept_id !=0 and concept_id in (select distinct condition_concept_id from {})\".format(tnCondition)\n",
    "concept_cond_df = pd.read_sql(sql=sql_query, con=conn)\n",
    "\n",
    "print(len(concept_meas_df), len(concept_drug_df), len(concept_proc_df), len(concept_cond_df))\n",
    "concept_df = pd.concat([concept_meas_df, concept_drug_df, concept_proc_df, concept_cond_df], axis=0)\n",
    "concept_df\n",
    "\n",
    "conn.close()"
   ]
  },
  {
   "cell_type": "markdown",
   "metadata": {},
   "source": [
    "### Save dataset"
   ]
  },
  {
   "cell_type": "code",
   "execution_count": 10,
   "metadata": {},
   "outputs": [],
   "source": [
    "population_df.to_csv('{}/population.txt'.format(output_dir),index=False)\n",
    "meas_df.to_csv('{}/measurement.txt'.format(output_dir),index=False)\n",
    "drug_df.to_csv('{}/drug.txt'.format(output_dir),index=False)\n",
    "proc_df.to_csv('{}/procedure.txt'.format(output_dir),index=False)\n",
    "cond_df.to_csv('{}/condition.txt'.format(output_dir),index=False)\n",
    "concept_df.to_csv('{}/concept.txt'.format(output_dir),index=False)"
   ]
  },
  {
   "cell_type": "markdown",
   "metadata": {},
   "source": [
    "### Load dataset"
   ]
  },
  {
   "cell_type": "code",
   "execution_count": 11,
   "metadata": {},
   "outputs": [],
   "source": [
    "# 데이터 불러오기\n",
    "population_df=pd.read_csv('{}/population.txt'.format(output_dir))\n",
    "meas_df=pd.read_csv('{}/measurement.txt'.format(output_dir))\n",
    "drug_df=pd.read_csv('{}/drug.txt'.format(output_dir))\n",
    "proc_df=pd.read_csv('{}/procedure.txt'.format(output_dir))\n",
    "cond_df=pd.read_csv('{}/condition.txt'.format(output_dir))\n",
    "concept_df=pd.read_csv('{}/concept.txt'.format(output_dir))"
   ]
  },
  {
   "cell_type": "code",
   "execution_count": 12,
   "metadata": {},
   "outputs": [],
   "source": [
    "population_df['label'] = (~population_df['first_abnormal_date'].isnull()).astype(int)\n",
    "population_df.rename(columns={'gender_source_value':'sex'}, inplace=True)\n",
    "population_df['sex'].replace(['F', 'Female'], 0, inplace=True)\n",
    "population_df['sex'].replace(['M', 'Male'], 1, inplace=True)"
   ]
  },
  {
   "cell_type": "code",
   "execution_count": 13,
   "metadata": {},
   "outputs": [],
   "source": [
    "### Get only used columns\n",
    "meas_df = meas_df[[\"person_id\",\"measurement_concept_id\",\"measurement_date\",\"value_as_number\"]]\n",
    "drug_df = drug_df[[\"person_id\",\"drug_concept_id\",\"drug_exposure_start_date\",\"quantity\"]]\n",
    "proc_df = proc_df[[\"person_id\",\"procedure_concept_id\",\"procedure_date\"]]\n",
    "cond_df = cond_df[[\"person_id\",\"condition_concept_id\",\"condition_start_date\"]]\n",
    "concept_df = concept_df[[\"concept_id\",\"concept_name\"]]\n",
    "\n",
    "meas_df.drop_duplicates(inplace=True)\n",
    "drug_df.drop_duplicates(inplace=True)\n",
    "proc_df.drop_duplicates(inplace=True)\n",
    "cond_df.drop_duplicates(inplace=True)\n",
    "\n",
    "### @use common terminology.\n",
    "meas_df.rename(columns={'measurement_concept_id':'concept_id','measurement_date':'concept_date','value_as_number':'concept_value'}, inplace=True)\n",
    "drug_df.rename(columns={'drug_concept_id':'concept_id','drug_exposure_start_date':'concept_date','quantity':'concept_value'}, inplace=True)\n",
    "proc_df.rename(columns={'procedure_concept_id':'concept_id','procedure_date':'concept_date'}, inplace=True)\n",
    "cond_df.rename(columns={'condition_concept_id':'concept_id','condition_start_date':'concept_date'}, inplace=True)\n",
    "\n",
    "### population + domain\n",
    "meas_df = pd.merge(population_df, meas_df, left_on=[\"person_id\"], right_on=[\"person_id\"], how=\"inner\").reset_index(drop=True)\n",
    "drug_df = pd.merge(population_df, drug_df, left_on=[\"person_id\"], right_on=[\"person_id\"], how=\"inner\").reset_index(drop=True)\n",
    "proc_df = pd.merge(population_df, proc_df, left_on=[\"person_id\"], right_on=[\"person_id\"], how=\"inner\").reset_index(drop=True)\n",
    "cond_df = pd.merge(population_df, cond_df, left_on=[\"person_id\"], right_on=[\"person_id\"], how=\"inner\").reset_index(drop=True)\n"
   ]
  },
  {
   "cell_type": "code",
   "execution_count": 14,
   "metadata": {},
   "outputs": [
    {
     "name": "stdout",
     "output_type": "stream",
     "text": [
      "11441336 > 3029160\n",
      "3382776 > 972356\n",
      "512955 > 127812\n",
      "1608848 > 241080\n"
     ]
    }
   ],
   "source": [
    "### Get only used dates\n",
    "def cohortConditionSetting(domain_df, pre_observation_period, post_observation_peroid):\n",
    "    from datetime import timedelta\n",
    "    prev_len = len(domain_df)\n",
    "    domain_df['cohort_start_date'] = pd.to_datetime(domain_df['cohort_start_date'], format='%Y-%m-%d %H:%M:%S', errors='raise')\n",
    "    domain_df['first_abnormal_date'] = pd.to_datetime(domain_df['first_abnormal_date'], format='%Y-%m-%d %H:%M:%S', errors='raise')\n",
    "    domain_df['concept_date'] = pd.to_datetime(domain_df['concept_date'], format='%Y-%m-%d %H:%M:%S', errors='raise')\n",
    "    # condition 1) Select patients with first adverse events within 2 months of cohort initiation.\n",
    "    domain_df = domain_df[(domain_df['cohort_start_date']<=domain_df['concept_date']+timedelta(days=pre_observation_period))]\n",
    "    # condition 2) Delete data before the cohort start date.\n",
    "    domain_df = domain_df[(domain_df['concept_date']<=domain_df['cohort_start_date']+timedelta(days=post_observation_peroid))]\n",
    "    # condition 3) Delete data after first_abnormal_date (Except when there is no first abnormal date.)\n",
    "    domain_df = domain_df[~(domain_df['first_abnormal_date']<domain_df['concept_date'])]\n",
    "    domain_df = domain_df[~(domain_df['first_abnormal_date']-domain_df['cohort_start_date']>timedelta(days=post_observation_peroid))]\n",
    "    domain_df = domain_df.reset_index(drop=True)\n",
    "    curr_len = len(domain_df)\n",
    "    print('{} > {}'.format(prev_len, curr_len))\n",
    "    return domain_df    \n",
    "\n",
    "meas_df = cohortConditionSetting(meas_df, pre_observation_period=60, post_observation_peroid=60)\n",
    "drug_df = cohortConditionSetting(drug_df, pre_observation_period=60, post_observation_peroid=60)\n",
    "proc_df = cohortConditionSetting(proc_df, pre_observation_period=60, post_observation_peroid=60)\n",
    "cond_df = cohortConditionSetting(cond_df, pre_observation_period=60, post_observation_peroid=60)\n"
   ]
  },
  {
   "cell_type": "code",
   "execution_count": 15,
   "metadata": {},
   "outputs": [],
   "source": [
    "\n",
    "### population + domain + concept\n",
    "meas_df = pd.merge(meas_df,concept_df,left_on=[\"concept_id\"],right_on=[\"concept_id\"],how=\"inner\")\n",
    "drug_df = pd.merge(drug_df,concept_df,left_on=[\"concept_id\"],right_on=[\"concept_id\"],how=\"inner\")\n",
    "proc_df = pd.merge(proc_df,concept_df,left_on=[\"concept_id\"],right_on=[\"concept_id\"],how=\"inner\")\n",
    "cond_df = pd.merge(cond_df,concept_df,left_on=[\"concept_id\"],right_on=[\"concept_id\"],how=\"inner\")\n",
    "\n",
    "meas_df['concept_domain'] = 'meas'\n",
    "drug_df['concept_domain'] = 'drug'\n",
    "proc_df['concept_domain'] = 'proc'\n",
    "cond_df['concept_domain'] = 'cond'"
   ]
  },
  {
   "cell_type": "code",
   "execution_count": 16,
   "metadata": {},
   "outputs": [],
   "source": [
    "meas_df.to_csv('{}/{}_meas_df.txt'.format(output_dir, outcome_name),index=False)\n",
    "drug_df.to_csv('{}/{}_drug_df.txt'.format(output_dir, outcome_name),index=False)\n",
    "proc_df.to_csv('{}/{}_proc_df.txt'.format(output_dir, outcome_name),index=False)\n",
    "cond_df.to_csv('{}/{}_cond_df.txt'.format(output_dir, outcome_name),index=False)"
   ]
  },
  {
   "cell_type": "code",
   "execution_count": null,
   "metadata": {},
   "outputs": [],
   "source": []
  }
 ],
 "metadata": {
  "colab": {
   "name": "0.IO_condition.ipynb",
   "provenance": []
  },
  "kernelspec": {
   "display_name": "Python 3",
   "language": "python",
   "name": "python3"
  },
  "language_info": {
   "codemirror_mode": {
    "name": "ipython",
    "version": 3
   },
   "file_extension": ".py",
   "mimetype": "text/x-python",
   "name": "python",
   "nbconvert_exporter": "python",
   "pygments_lexer": "ipython3",
   "version": "3.7.9"
  }
 },
 "nbformat": 4,
 "nbformat_minor": 4
}
