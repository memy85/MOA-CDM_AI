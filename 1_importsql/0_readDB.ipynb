{
 "cells": [
  {
   "cell_type": "markdown",
   "metadata": {},
   "source": [
    "### import SQL\n",
    "--------------\n",
    "사전작업\n",
    "- 1) Atlas Cohort 생성 (Target / Case)\n",
    "- 2) DB에서 Target / Case 병합 Table 생성\n",
    "-------------\n",
    "변경사항\n",
    "- 1) current_date\n",
    "- 2) outcome_name ; 변경하면서 다시 재실행 \n",
    "- 3) db 정보 및 dbTableSchema 변경\n",
    "--------------"
   ]
  },
  {
   "cell_type": "code",
   "execution_count": null,
   "metadata": {},
   "outputs": [],
   "source": [
    "import json\n",
    "with open('./../{}'.format(\"config.json\")) as file:\n",
    "    cfg = json.load(file)\n",
    "    sql = cfg['sql']"
   ]
  },
  {
   "cell_type": "code",
   "execution_count": null,
   "metadata": {},
   "outputs": [],
   "source": [
    "interest_abnormal = {'meloxicam':'nephrotoxicity', 'celecoxib':'nephrotoxicity', 'valproic_acid':'hepatotoxicity', 'lamotrigine':'hepatotoxicity'}\n",
    "# outcome_list=['meloxicam', 'celecoxib', 'valproic_acid, lamotrigine']\n",
    "# @변경 필요한 변수\n",
    "outcome_name = 'meloxicam'"
   ]
  },
  {
   "cell_type": "code",
   "execution_count": null,
   "metadata": {},
   "outputs": [],
   "source": [
    "import os\n",
    "import pathlib\n",
    "import sys\n",
    "sys.path.append(\"..\")\n",
    "\n",
    "current_dir = pathlib.Path.cwd()\n",
    "parent_dir = current_dir.parent\n",
    "current_date = cfg[\"working_date\"]\n",
    "\n",
    "output_dir = pathlib.Path('{}/data/{}/importsql/{}/'.format(parent_dir, current_date, outcome_name))\n",
    "pathlib.Path.mkdir(output_dir, mode=0o777, parents=True, exist_ok=True)\n",
    "output_result_dir = pathlib.Path('{}/result/{}/importsql/{}/'.format(parent_dir, current_date, outcome_name))\n",
    "pathlib.Path.mkdir(output_dir, mode=0o777, parents=True, exist_ok=True)"
   ]
  },
  {
   "cell_type": "code",
   "execution_count": null,
   "metadata": {
    "id": "w4LfdVF3TKJ5",
    "scrolled": true
   },
   "outputs": [],
   "source": [
    "import numpy as np\n",
    "import matplotlib.pyplot as plt\n",
    "import datetime\n",
    "import re\n",
    "import os\n",
    "import pandas as pd\n",
    "import numpy as np\n",
    "#!pip install pymssql\n",
    "import pymssql\n",
    "from datetime import timedelta\n",
    "\n",
    "pd.set_option('display.max_colwidth', -1)  #각 컬럼 width 최대로 \n",
    "pd.set_option('display.max_rows', 50)      # display 50개 까지 "
   ]
  },
  {
   "cell_type": "markdown",
   "metadata": {},
   "source": [
    "# connection DataBase (해당 DB의 명령문 사용)"
   ]
  },
  {
   "cell_type": "markdown",
   "metadata": {},
   "source": [
    "### Postgresql (계정유출 주의)"
   ]
  },
  {
   "cell_type": "code",
   "execution_count": null,
   "metadata": {},
   "outputs": [],
   "source": [
    "# import pandas.io.sql as psql\n",
    "# import psycogp2 as pg\n",
    "# conn = pg.connect(host=sql['server'], user=sql['user'], password=sql['password'], port=sql['port'], dbname=sql['database'])\n",
    "# print('connection')\n",
    "\n",
    "# sql = 'select * from cdm.cdm.person'\n",
    "# population = psql.read(sql=sql1, con=conn)\n",
    "# population.to_csv('population.txt', index=False)"
   ]
  },
  {
   "cell_type": "markdown",
   "metadata": {},
   "source": [
    "### Mssql (계정유출 주의)"
   ]
  },
  {
   "cell_type": "code",
   "execution_count": null,
   "metadata": {
    "scrolled": true
   },
   "outputs": [],
   "source": [
    "import pymssql\n",
    "conn= pymssql.connect(server=sql['server'], user=sql['user'], password=sql['password'], port=sql['port'], database=sql['database'], as_dict=False)\n",
    "print(\"connection\")"
   ]
  },
  {
   "cell_type": "markdown",
   "metadata": {},
   "source": [
    "### Table Load from DB"
   ]
  },
  {
   "cell_type": "code",
   "execution_count": null,
   "metadata": {},
   "outputs": [],
   "source": [
    "tnPopulation = 'temp.dbo.person_{}'.format(outcome_name)\n",
    "tnMeasurement = 'CDM.dbo.measurement'\n",
    "tnDrug = 'CDM.dbo.drug_exposure'\n",
    "tnProcedure = 'CDM.dbo.procedure_occurrence'\n",
    "tnCondition = 'CDM.dbo.condition_occurrence'\n",
    "tnConcept = 'CDM.dbo.concept'"
   ]
  },
  {
   "cell_type": "code",
   "execution_count": null,
   "metadata": {},
   "outputs": [],
   "source": [
    "# 간독성 Patient 불러오기\n",
    "sql_query = 'select * from {}'.format(tnPopulation)\n",
    "population_df = pd.read_sql(sql=sql_query, con=conn)\n",
    "\n",
    "# 결과확인 \n",
    "print('success : {}'.format(len(population_df)))"
   ]
  },
  {
   "cell_type": "markdown",
   "metadata": {},
   "source": [
    "### Table Load from DB (Measurement / drug / procedure / concept)"
   ]
  },
  {
   "cell_type": "code",
   "execution_count": null,
   "metadata": {},
   "outputs": [],
   "source": [
    "# Measurement / drug / procedure / concept 불러오기 \n",
    "sql_query =\"select person_id, measurement_concept_id, measurement_date, value_as_number, range_low, range_high from {} \".format(tnMeasurement) +\\\n",
    "    \"where measurement_concept_id!=0 and value_as_number is not null and person_id in (select distinct person_id from {})\".format(tnPopulation)\n",
    "meas_df = pd.read_sql(sql=sql_query, con=conn)\n",
    "\n",
    "sql_query=\"select person_id, drug_concept_id, drug_exposure_start_date, quantity from {} \".format(tnDrug) +\\\n",
    "    \"where drug_concept_id!=0 and quantity is not null and person_id in (select distinct person_id from {})\".format(tnPopulation)\n",
    "drug_df = pd.read_sql(sql=sql_query, con=conn)\n",
    "\n",
    "sql_query=\"select person_id, procedure_concept_id, procedure_date from {} \".format(tnProcedure) +\\\n",
    "    \"where procedure_concept_id!=0 and person_id in (select distinct person_id from {} )\".format(tnPopulation)\n",
    "proc_df = pd.read_sql(sql=sql_query, con=conn)\n",
    "\n",
    "sql_query=\"select person_id, condition_concept_id, condition_start_date from {} \".format(tnCondition) +\\\n",
    "    \"where condition_concept_id!=0 and person_id in (select distinct person_id from {} )\".format(tnPopulation)\n",
    "cond_df = pd.read_sql(sql=sql_query, con=conn)\n",
    "\n",
    "# 결과확인 \n",
    "print('success : {}, {}, {}, {}'.format(len(meas_df), len(drug_df), len(proc_df), len(cond_df)))"
   ]
  },
  {
   "cell_type": "markdown",
   "metadata": {},
   "source": [
    "### Table Load from DB (Concept)"
   ]
  },
  {
   "cell_type": "code",
   "execution_count": null,
   "metadata": {},
   "outputs": [],
   "source": [
    "## concept table 전체 불러오기 \n",
    "# sql_query=\"select distinct concept_id, concept_name from {}\".format(tnConcept)\n",
    "# concept_df = pd.read_sql(sql=sql_query, con=conn)\n",
    "\n",
    "## concept table 일부 불러오기 \n",
    "sql_query=\"select distinct concept_id, concept_name from {} \".format(tnConcept) +\\\n",
    "    \"where concept_id !=0 and concept_id in (select distinct measurement_concept_id from {})\".format(tnMeasurement)\n",
    "concept_meas_df = pd.read_sql(sql=sql_query, con=conn)\n",
    "sql_query=\"select distinct concept_id, concept_name from {} \".format(tnConcept) +\\\n",
    "    \"where concept_id !=0 and concept_id in (select distinct drug_concept_id from {})\".format(tnDrug)\n",
    "concept_drug_df = pd.read_sql(sql=sql_query, con=conn)\n",
    "sql_query=\"select distinct concept_id, concept_name from {} \".format(tnConcept) +\\\n",
    "    \"where concept_id !=0 and concept_id in (select distinct procedure_concept_id from {})\".format(tnProcedure)\n",
    "concept_proc_df = pd.read_sql(sql=sql_query, con=conn)\n",
    "sql_query=\"select distinct concept_id, concept_name from {} \".format(tnConcept) +\\\n",
    "    \"where concept_id !=0 and concept_id in (select distinct condition_concept_id from {})\".format(tnCondition)\n",
    "concept_cond_df = pd.read_sql(sql=sql_query, con=conn)\n",
    "\n",
    "print(len(concept_meas_df), len(concept_drug_df), len(concept_proc_df), len(concept_cond_df))\n",
    "concept_df = pd.concat([concept_meas_df, concept_drug_df, concept_proc_df, concept_cond_df], axis=0)\n",
    "concept_df\n",
    "\n",
    "conn.close()"
   ]
  },
  {
   "cell_type": "markdown",
   "metadata": {},
   "source": [
    "### Save dataset"
   ]
  },
  {
   "cell_type": "code",
   "execution_count": null,
   "metadata": {},
   "outputs": [],
   "source": [
    "# population_df.to_csv('{}/population.txt'.format(output_dir),index=False)\n",
    "# meas_df.to_csv('{}/measurement.txt'.format(output_dir),index=False)\n",
    "# drug_df.to_csv('{}/drug.txt'.format(output_dir),index=False)\n",
    "# proc_df.to_csv('{}/procedure.txt'.format(output_dir),index=False)\n",
    "# cond_df.to_csv('{}/condition.txt'.format(output_dir),index=False)\n",
    "# concept_df.to_csv('{}/concept.txt'.format(output_dir),index=False)"
   ]
  },
  {
   "cell_type": "markdown",
   "metadata": {},
   "source": [
    "### Load dataset"
   ]
  },
  {
   "cell_type": "code",
   "execution_count": null,
   "metadata": {
    "scrolled": true
   },
   "outputs": [],
   "source": [
    "# # 데이터 불러오기\n",
    "# population_df=pd.read_csv('{}/population.txt'.format(output_dir))\n",
    "# meas_df=pd.read_csv('{}/measurement.txt'.format(output_dir))\n",
    "# drug_df=pd.read_csv('{}/drug.txt'.format(output_dir))\n",
    "# proc_df=pd.read_csv('{}/procedure.txt'.format(output_dir))\n",
    "# cond_df=pd.read_csv('{}/condition.txt'.format(output_dir))\n",
    "# concept_df=pd.read_csv('{}/concept.txt'.format(output_dir))"
   ]
  },
  {
   "cell_type": "code",
   "execution_count": null,
   "metadata": {},
   "outputs": [],
   "source": [
    "# population_df['label'] = (~population_df['first_abnormal_date'].isnull()).astype(int)\n",
    "population_df.rename(columns={'gender_source_value':'sex'}, inplace=True)\n",
    "population_df['sex'].replace(['F', 'Female'], 0, inplace=True)\n",
    "population_df['sex'].replace(['M', 'Male'], 1, inplace=True)\n",
    "\n",
    "# meas_df = meas_df[[\"person_id\",\"measurement_concept_id\",\"measurement_date\",\"value_as_number\"]]\n",
    "meas_df = meas_df[[\"person_id\", \"measurement_concept_id\", \"measurement_date\", \"value_as_number\", \"range_low\", \"range_high\"]]\n",
    "drug_df = drug_df[[\"person_id\",\"drug_concept_id\",\"drug_exposure_start_date\",\"quantity\"]]\n",
    "proc_df = proc_df[[\"person_id\",\"procedure_concept_id\",\"procedure_date\"]]\n",
    "cond_df = cond_df[[\"person_id\",\"condition_concept_id\",\"condition_start_date\"]]\n",
    "concept_df = concept_df[[\"concept_id\",\"concept_name\"]]\n",
    "\n",
    "def drop_duplicates_(domain_df):\n",
    "    n_prev = len(domain_df)\n",
    "    domain_df = domain_df.drop_duplicates()\n",
    "    n_next = len(domain_df)\n",
    "    print('{}>{}'.format(n_prev, n_next))\n",
    "    return domain_df\n",
    "\n",
    "meas_df = drop_duplicates_(meas_df)\n",
    "drug_df = drop_duplicates_(drug_df)\n",
    "proc_df = drop_duplicates_(proc_df)\n",
    "cond_df = drop_duplicates_(cond_df)\n",
    "\n",
    "### @use common terminology.\n",
    "meas_df.rename(columns={'measurement_concept_id':'concept_id','measurement_date':'concept_date','value_as_number':'concept_value'}, inplace=True)\n",
    "drug_df.rename(columns={'drug_concept_id':'concept_id','drug_exposure_start_date':'concept_date','quantity':'concept_value'}, inplace=True)\n",
    "proc_df.rename(columns={'procedure_concept_id':'concept_id','procedure_date':'concept_date'}, inplace=True)\n",
    "cond_df.rename(columns={'condition_concept_id':'concept_id','condition_start_date':'concept_date'}, inplace=True)\n",
    "\n",
    "### population + domain\n",
    "meas_df = pd.merge(population_df, meas_df, left_on=[\"person_id\"], right_on=[\"person_id\"], how=\"inner\").reset_index(drop=True)\n",
    "drug_df = pd.merge(population_df, drug_df, left_on=[\"person_id\"], right_on=[\"person_id\"], how=\"inner\").reset_index(drop=True)\n",
    "proc_df = pd.merge(population_df, proc_df, left_on=[\"person_id\"], right_on=[\"person_id\"], how=\"inner\").reset_index(drop=True)\n",
    "cond_df = pd.merge(population_df, cond_df, left_on=[\"person_id\"], right_on=[\"person_id\"], how=\"inner\").reset_index(drop=True)\n"
   ]
  },
  {
   "cell_type": "code",
   "execution_count": null,
   "metadata": {},
   "outputs": [],
   "source": [
    "### Get only used dates\n",
    "def cohortConditionSetting(domain_df, pre_observation_period, post_observation_peroid):\n",
    "    from datetime import timedelta\n",
    "    prev_len = len(domain_df)\n",
    "    domain_df['cohort_start_date'] = pd.to_datetime(domain_df['cohort_start_date'], format='%Y-%m-%d %H:%M:%S', errors='raise')\n",
    "    # domain_df['first_abnormal_date'] = pd.to_datetime(domain_df['first_abnormal_date'], format='%Y-%m-%d %H:%M:%S', errors='raise')\n",
    "    domain_df['concept_date'] = pd.to_datetime(domain_df['concept_date'], format='%Y-%m-%d %H:%M:%S', errors='raise')\n",
    "    # condition 1) Select patients with first adverse events within 2 months of cohort initiation.\n",
    "    domain_df = domain_df[(domain_df['cohort_start_date']<=domain_df['concept_date']+timedelta(days=pre_observation_period))]\n",
    "    # condition 2) Delete data before the cohort start date.\n",
    "    domain_df = domain_df[(domain_df['concept_date']<=domain_df['cohort_start_date']+timedelta(days=post_observation_peroid))]\n",
    "    # condition 3) Delete data after first_abnormal_date (Except when there is no first abnormal date.)\n",
    "    # domain_df = domain_df[~(domain_df['first_abnormal_date']<domain_df['concept_date'])]\n",
    "    # domain_df = domain_df[~(domain_df['first_abnormal_date']-domain_df['cohort_start_date']>timedelta(days=post_observation_peroid))]\n",
    "    domain_df = domain_df.reset_index(drop=True)\n",
    "    curr_len = len(domain_df)\n",
    "    print('{} > {}'.format(prev_len, curr_len))\n",
    "    return domain_df    \n",
    "\n",
    "meas_df = cohortConditionSetting(meas_df, pre_observation_period=60, post_observation_peroid=60)\n",
    "drug_df = cohortConditionSetting(drug_df, pre_observation_period=60, post_observation_peroid=60)\n",
    "proc_df = cohortConditionSetting(proc_df, pre_observation_period=60, post_observation_peroid=60)\n",
    "cond_df = cohortConditionSetting(cond_df, pre_observation_period=60, post_observation_peroid=60)\n",
    "\n",
    "### population + domain + concept\n",
    "meas_df = pd.merge(meas_df,concept_df,left_on=[\"concept_id\"],right_on=[\"concept_id\"],how=\"inner\")\n",
    "drug_df = pd.merge(drug_df,concept_df,left_on=[\"concept_id\"],right_on=[\"concept_id\"],how=\"inner\")\n",
    "proc_df = pd.merge(proc_df,concept_df,left_on=[\"concept_id\"],right_on=[\"concept_id\"],how=\"inner\")\n",
    "cond_df = pd.merge(cond_df,concept_df,left_on=[\"concept_id\"],right_on=[\"concept_id\"],how=\"inner\")\n"
   ]
  },
  {
   "cell_type": "markdown",
   "metadata": {},
   "source": [
    "### hepatotoxicity (간독성)"
   ]
  },
  {
   "cell_type": "markdown",
   "metadata": {},
   "source": [
    "### setting first abnormal date"
   ]
  },
  {
   "cell_type": "code",
   "execution_count": null,
   "metadata": {},
   "outputs": [],
   "source": [
    "if 'hepatotoxicity' == interest_abnormal[outcome_name] :\n",
    "    _3times = 3\n",
    "    _2times = 2\n",
    "    _1_5times = 1.5\n",
    "\n",
    "    concept_id_AST = cfg[\"concept\"][\"AST\"]\n",
    "    concept_id_ALT = cfg[\"concept\"][\"ALT\"]\n",
    "    concept_id_ALP = cfg[\"concept\"][\"ALP\"]\n",
    "    concept_id_TBL = cfg[\"concept\"][\"TBL\"]\n",
    "\n",
    "    def extraction_of_past_abnormalities(domain_df, concept_id, value):\n",
    "        n_prev_data = len(domain_df)\n",
    "        n_prev_person = len(domain_df.person_id.unique())\n",
    "        history_query = \"\"\"(sex==1 and cohort_start_date>=concept_date and concept_id=={} and concept_value>{}) or \\\n",
    "            (sex==0 and cohort_start_date>=concept_date and concept_id=={} and concept_value>{})\"\"\" \\\n",
    "            .format(concept_id, value, concept_id, value)\n",
    "        historynormal_person = domain_df.query(history_query)\n",
    "        print(history_query)\n",
    "        n_post_data = len(historynormal_person)\n",
    "        n_prev_person = len(historynormal_person.person_id.unique())\n",
    "        # print(historynormal_person)\n",
    "        print('{} > {}'.format(n_prev_data, n_post_data))\n",
    "        print('{} > {}'.format(n_prev_person, n_prev_person))\n",
    "        return historynormal_person\n",
    "\n",
    "    past_abnormalities_AST = extraction_of_past_abnormalities(meas_df, concept_id_AST, value=\"range_high\")\n",
    "    past_abnormalities_ALT = extraction_of_past_abnormalities(meas_df, concept_id_ALT, value=\"range_high\")\n",
    "    past_abnormalities_ALP = extraction_of_past_abnormalities(meas_df, concept_id_ALP, value=\"range_high\")\n",
    "    past_abnormalities_TBL = extraction_of_past_abnormalities(meas_df, concept_id_TBL, value=\"range_high\")\n",
    "\n",
    "    past_abnormalities = set(past_abnormalities_AST.person_id.unique()) | \\\n",
    "        set(past_abnormalities_ALT.person_id.unique()) | \\\n",
    "        set(past_abnormalities_ALP.person_id.unique()) | \\\n",
    "        set(past_abnormalities_TBL.person_id.unique())\n",
    "\n",
    "    print(\"dropout : n = \", len(past_abnormalities))\n",
    "\n",
    "    def extraction_of_abnormalities(domain_df, concept_id, value):\n",
    "        n_prev_data = len(domain_df)\n",
    "        n_prev_person = len(domain_df.person_id.unique())\n",
    "        history_query = \"\"\"(sex==1 and cohort_start_date<concept_date and concept_id=={} and concept_value>=({})) or \\\n",
    "            (sex==0 and cohort_start_date<concept_date and concept_id=={} and concept_value>=({}))\"\"\" \\\n",
    "            .format(concept_id, value, concept_id, value)\n",
    "        historynormal_person = domain_df.query(history_query)\n",
    "        print(history_query)\n",
    "        n_post_data = len(historynormal_person)\n",
    "        n_prev_person = len(historynormal_person.person_id.unique())\n",
    "        # print(historynormal_person)\n",
    "        print('{} > {}'.format(n_prev_data, n_post_data))\n",
    "        print('{} > {}'.format(n_prev_person, n_prev_person))\n",
    "        return historynormal_person\n",
    "\n",
    "    abnormalities_AST_range = extraction_of_abnormalities(meas_df, concept_id_AST, value=\"range_high*3\")\n",
    "    abnormalities_ALT_range = extraction_of_abnormalities(meas_df, concept_id_ALT, value=\"range_high*3\")\n",
    "    abnormalities_ALP_range = extraction_of_abnormalities(meas_df, concept_id_ALP, value=\"range_high*2\")\n",
    "    abnormalities_TBL_range = extraction_of_abnormalities(meas_df, concept_id_TBL, value=\"range_high*2\")\n",
    "    abnormalities_AST_value = extraction_of_abnormalities(meas_df, concept_id_AST, value=\"200\")\n",
    "    abnormalities_ALT_value = extraction_of_abnormalities(meas_df, concept_id_ALT, value=\"200\")\n",
    "\n",
    "    abnormalities_df = pd.concat([abnormalities_AST_range, \\\n",
    "            abnormalities_ALT_range, \\\n",
    "            abnormalities_ALP_range, \\\n",
    "            abnormalities_TBL_range, \\\n",
    "            abnormalities_AST_value, \\\n",
    "            abnormalities_ALT_value], axis=0, ignore_index=True)\n",
    "    \n",
    "    abnormalities = set(abnormalities_df.person_id.unique())\n",
    "    print(\"abnormal : n = \", len(abnormalities))\n",
    "\n",
    "    # abnormalities_df = meas_df.query(\"cohort_start_date<concept_date\")\n",
    "    # abnormalities_df = abnormalities_df[abnormalities_df[\"person_id\"].isin(abnormalities)]\n",
    "    abnormalities_df = abnormalities_df[[\"person_id\", \"concept_date\"]]\n",
    "    abnormalities_df = abnormalities_df.sort_values(by=[\"person_id\", \"concept_date\"], axis=0, ascending=[True, True]).reset_index(drop=True)\n",
    "    abnormalities_df = abnormalities_df.rename({\"concept_date\":\"first_abnormal_date\"}, axis=1)\n",
    "    abnormalities_df = abnormalities_df.drop_duplicates(subset=['person_id'], keep = 'first')\n",
    "    print(abnormalities_df)\n",
    "    # population_df['label'] = (~population_df['first_abnormal_date'].isnull()).astype(int)\n"
   ]
  },
  {
   "cell_type": "markdown",
   "metadata": {},
   "source": [
    "### nephrotoxicity(신독성)"
   ]
  },
  {
   "cell_type": "code",
   "execution_count": null,
   "metadata": {},
   "outputs": [],
   "source": [
    "if 'nephrotoxicity' == interest_abnormal[outcome_name] :\n",
    "    _3times = 3\n",
    "    _2times = 2\n",
    "    _1_5times = 1.5\n",
    "\n",
    "    concept_id_CR = 3016723\n",
    "\n",
    "    def extraction_of_past_abnormalities(domain_df, concept_id, value):\n",
    "        n_prev_data = len(domain_df)\n",
    "        n_prev_person = len(domain_df.person_id.unique())\n",
    "        history_query = \"\"\"(sex==1 and cohort_start_date>=concept_date and concept_id=={} and concept_value>{}) or \\\n",
    "            (sex==0 and cohort_start_date>=concept_date and concept_id=={} and concept_value>{})\"\"\" \\\n",
    "            .format(concept_id, value, concept_id, value)\n",
    "        historynormal_person = domain_df.query(history_query)\n",
    "        print(history_query)\n",
    "        n_post_data = len(historynormal_person)\n",
    "        n_prev_person = len(historynormal_person.person_id.unique())\n",
    "        # print(historynormal_person)\n",
    "        print('{} > {}'.format(n_prev_data, n_post_data))\n",
    "        print('{} > {}'.format(n_prev_person, n_prev_person))\n",
    "        return historynormal_person\n",
    "\n",
    "    past_abnormalities_creatinine = extraction_of_past_abnormalities(meas_df, concept_id_CR, value=\"range_high\")\n",
    "\n",
    "    past_abnormalities = set(past_abnormalities_creatinine.person_id.unique()) \n",
    "\n",
    "    print(\"dropout : n = \", len(past_abnormalities))\n",
    "\n",
    "    def extraction_of_abnormalities(domain_df, concept_id, value):\n",
    "        n_prev_data = len(domain_df)\n",
    "        n_prev_person = len(domain_df.person_id.unique())\n",
    "        history_query = \"\"\"(sex==1 and cohort_start_date<concept_date and concept_id=={} and concept_value>=({})) or \\\n",
    "            (sex==0 and cohort_start_date<concept_date and concept_id=={} and concept_value>=({}))\"\"\" \\\n",
    "            .format(concept_id, value, concept_id, value)\n",
    "        historynormal_person = domain_df.query(history_query)\n",
    "        print(history_query)\n",
    "        n_post_data = len(historynormal_person)\n",
    "        n_prev_person = len(historynormal_person.person_id.unique())\n",
    "        # print(historynormal_person)\n",
    "        print('{} > {}'.format(n_prev_data, n_post_data))\n",
    "        print('{} > {}'.format(n_prev_person, n_prev_person))\n",
    "        return historynormal_person\n",
    "\n",
    "    abnormalities_creatinine_value = extraction_of_abnormalities(meas_df, concept_id_CR, value=\"2.4\")\n",
    "    abnormalities = set(abnormalities_creatinine_value.person_id.unique())\n",
    "\n",
    "    print(\"abnormal : n = \", len(abnormalities))\n",
    "\n",
    "    abnormalities_df = abnormalities_creatinine_value[[\"person_id\", \"concept_date\"]]\n",
    "    abnormalities_df = abnormalities_df.sort_values(by=[\"person_id\", \"concept_date\"], axis=0, ascending=[True, True]).reset_index(drop=True)\n",
    "    abnormalities_df = abnormalities_df.rename({\"concept_date\":\"first_abnormal_date\"}, axis=1)\n",
    "    abnormalities_df = abnormalities_df.drop_duplicates(subset=['person_id'], keep = 'first')\n",
    "    print(abnormalities_df)"
   ]
  },
  {
   "cell_type": "markdown",
   "metadata": {},
   "source": [
    "### outcome 마다 각 domain dataset 생성"
   ]
  },
  {
   "cell_type": "code",
   "execution_count": null,
   "metadata": {},
   "outputs": [],
   "source": [
    "if (len(past_abnormalities) > 0) :\n",
    "    meas_df = meas_df[~population_df[\"person_id\"].isin(past_abnormalities)]\n",
    "    drug_df = drug_df[~population_df[\"person_id\"].isin(past_abnormalities)]\n",
    "    proc_df = proc_df[~population_df[\"person_id\"].isin(past_abnormalities)]\n",
    "    cond_df = cond_df[~population_df[\"person_id\"].isin(past_abnormalities)]\n",
    "\n",
    "meas_df = pd.merge(meas_df, abnormalities_df, left_on=[\"person_id\"], right_on=[\"person_id\"], how=\"left\").reset_index(drop=True)\n",
    "drug_df = pd.merge(drug_df, abnormalities_df, left_on=[\"person_id\"], right_on=[\"person_id\"], how=\"left\").reset_index(drop=True)\n",
    "proc_df = pd.merge(proc_df, abnormalities_df, left_on=[\"person_id\"], right_on=[\"person_id\"], how=\"left\").reset_index(drop=True)\n",
    "cond_df = pd.merge(cond_df, abnormalities_df, left_on=[\"person_id\"], right_on=[\"person_id\"], how=\"left\").reset_index(drop=True)\n",
    "\n",
    "meas_df['label'] = (~meas_df['first_abnormal_date'].isnull()).astype(int)\n",
    "drug_df['label'] = (~drug_df['first_abnormal_date'].isnull()).astype(int)\n",
    "proc_df['label'] = (~proc_df['first_abnormal_date'].isnull()).astype(int)\n",
    "cond_df['label'] = (~cond_df['first_abnormal_date'].isnull()).astype(int)"
   ]
  },
  {
   "cell_type": "code",
   "execution_count": null,
   "metadata": {},
   "outputs": [],
   "source": [
    "### Get only used dates\n",
    "def cohortConditionSetting(domain_df, pre_observation_period, post_observation_peroid):\n",
    "    from datetime import timedelta\n",
    "    prev_len = len(domain_df)\n",
    "    domain_df['cohort_start_date'] = pd.to_datetime(domain_df['cohort_start_date'], format='%Y-%m-%d %H:%M:%S', errors='raise')\n",
    "    domain_df['first_abnormal_date'] = pd.to_datetime(domain_df['first_abnormal_date'], format='%Y-%m-%d %H:%M:%S', errors='raise')\n",
    "    domain_df['concept_date'] = pd.to_datetime(domain_df['concept_date'], format='%Y-%m-%d %H:%M:%S', errors='raise')\n",
    "    # condition 1) Select patients with first adverse events within 2 months of cohort initiation.\n",
    "    domain_df = domain_df[(domain_df['cohort_start_date']<=domain_df['concept_date']+timedelta(days=pre_observation_period))]\n",
    "    # condition 2) Delete data before the cohort start date.\n",
    "    domain_df = domain_df[(domain_df['concept_date']<=domain_df['cohort_start_date']+timedelta(days=post_observation_peroid))]\n",
    "    # condition 3) Delete data after first_abnormal_date (Except when there is no first abnormal date.)\n",
    "    domain_df = domain_df[~(domain_df['first_abnormal_date']<domain_df['concept_date'])]\n",
    "    domain_df = domain_df[~(domain_df['first_abnormal_date']-domain_df['cohort_start_date']>timedelta(days=post_observation_peroid))]\n",
    "    # domain_df[\"first_abnormal_date\"] = domain_df[\"first_abnormal_date\"].fillna('1970-01-01')\n",
    "    domain_df = domain_df.reset_index(drop=True)\n",
    "    curr_len = len(domain_df)\n",
    "    print('{} > {}'.format(prev_len, curr_len))\n",
    "    return domain_df    \n",
    "\n",
    "meas_df = cohortConditionSetting(meas_df, pre_observation_period=60, post_observation_peroid=60)\n",
    "drug_df = cohortConditionSetting(drug_df, pre_observation_period=60, post_observation_peroid=60)\n",
    "proc_df = cohortConditionSetting(proc_df, pre_observation_period=60, post_observation_peroid=60)\n",
    "cond_df = cohortConditionSetting(cond_df, pre_observation_period=60, post_observation_peroid=60)\n",
    "\n",
    "meas_df['concept_domain'] = 'meas'\n",
    "drug_df['concept_domain'] = 'drug'\n",
    "proc_df['concept_domain'] = 'proc'\n",
    "cond_df['concept_domain'] = 'cond'\n",
    "\n",
    "meas_df.to_csv('{}/{}_meas_df.txt'.format(output_dir, outcome_name),index=False)\n",
    "drug_df.to_csv('{}/{}_drug_df.txt'.format(output_dir, outcome_name),index=False)\n",
    "proc_df.to_csv('{}/{}_proc_df.txt'.format(output_dir, outcome_name),index=False)\n",
    "cond_df.to_csv('{}/{}_cond_df.txt'.format(output_dir, outcome_name),index=False)"
   ]
  },
  {
   "cell_type": "code",
   "execution_count": null,
   "metadata": {},
   "outputs": [],
   "source": [
    "all_domain_vars_df = pd.concat([meas_df, drug_df, proc_df, cond_df], axis=0, ignore_index=True)\n",
    "n_label1 = len(all_domain_vars_df[all_domain_vars_df['label']==1].person_id.unique())\n",
    "n_label0 = len(all_domain_vars_df[all_domain_vars_df['label']==0].person_id.unique())\n",
    "print('label 1 : ', n_label1)\n",
    "print('label 0 : ', n_label0)"
   ]
  },
  {
   "cell_type": "code",
   "execution_count": null,
   "metadata": {},
   "outputs": [],
   "source": [
    "out = open('{}/output.txt'.format(output_result_dir),'a')\n",
    "out.write(str(outcome_name) + '///' )\n",
    "out.write(str(n_label1) + '///')\n",
    "out.write(str(label 0) + '///')\n",
    "out.close()"
   ]
  }
 ],
 "metadata": {
  "colab": {
   "name": "0.IO_condition.ipynb",
   "provenance": []
  },
  "kernelspec": {
   "display_name": "Python 3",
   "language": "python",
   "name": "python3"
  },
  "language_info": {
   "codemirror_mode": {
    "name": "ipython",
    "version": 3
   },
   "file_extension": ".py",
   "mimetype": "text/x-python",
   "name": "python",
   "nbconvert_exporter": "python",
   "pygments_lexer": "ipython3",
   "version": "3.7.13"
  }
 },
 "nbformat": 4,
 "nbformat_minor": 4
}
