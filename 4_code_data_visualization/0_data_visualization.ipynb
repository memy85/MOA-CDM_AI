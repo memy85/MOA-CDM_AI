{
 "cells": [
  {
   "cell_type": "markdown",
   "metadata": {
    "id": "kZMKICP7MYJ7"
   },
   "source": [
    "### data visualization\n",
    "--------------\n",
    "사전작업\n",
    "- Readme 참고 \n",
    "cdm_visualization_query.sql을 이용하여 Labtest 별 DB Table 생성 \n",
    "--------------\n",
    "변경사항\n",
    "- 1) current_date\n",
    "- 2) outcome_name ; 변경하면서 다시 재실행 \n",
    "--------------\n",
    "\n",
    "3013721 # temp.dbo.person_AST\t; AST\\\n",
    "3006923 # temp.dbo.person_ALT\t; ALT\\\n",
    "3035995 # temp.dbo.person_ALP\t; ALP\\\n",
    "3022217 # temp.dbo.person_PT\t; PT[INR] (Prothrombin Time)]\\\n",
    "3024128 # temp.dbo.person_TB\t; Total bilirubin\\\n",
    "3016723 # temp.dbo.person_CR\t; Creatinine"
   ]
  },
  {
   "cell_type": "code",
   "execution_count": null,
   "metadata": {},
   "outputs": [],
   "source": [
    "import json\n",
    "with open('./../{}'.format(\"config.json\")) as file:\n",
    "    cfg = json.load(file)"
   ]
  },
  {
   "cell_type": "code",
   "execution_count": null,
   "metadata": {},
   "outputs": [],
   "source": [
    "current_date = cfg[\"working_date\"]\n",
    "outcome_name = \"AST\""
   ]
  },
  {
   "cell_type": "code",
   "execution_count": null,
   "metadata": {},
   "outputs": [],
   "source": [
    "import os\n",
    "import pathlib\n",
    "import sys\n",
    "sys.path.append(\"..\")\n",
    "\n",
    "current_dir = pathlib.Path.cwd()\n",
    "parent_dir = current_dir.parent\n",
    "output_data_dir = pathlib.Path('{}/data/{}/visualization/'.format(parent_dir, current_date))\n",
    "pathlib.Path.mkdir(output_data_dir, mode=0o777, parents=True, exist_ok=True)\n",
    "output_result_dir = pathlib.Path('{}/result/{}/visualization/{}/'.format(parent_dir, current_date, outcome_name))\n",
    "pathlib.Path.mkdir(output_result_dir, mode=0o777, parents=True, exist_ok=True)"
   ]
  },
  {
   "cell_type": "code",
   "execution_count": null,
   "metadata": {
    "id": "w4LfdVF3TKJ5",
    "scrolled": true
   },
   "outputs": [],
   "source": [
    "import numpy as np\n",
    "import pandas as pd\n",
    "import matplotlib.pyplot as plt\n",
    "import seaborn as sns\n",
    "\n",
    "#!pip install pymssql\n",
    "import pymssql\n",
    "\n",
    "pd.set_option('display.max_colwidth', -1)  #각 컬럼 width 최대로 \n",
    "pd.set_option('display.max_rows', 50)      # display 50개 까지 "
   ]
  },
  {
   "cell_type": "markdown",
   "metadata": {},
   "source": [
    "# connection DataBase (해당 DB의 명령문 사용)"
   ]
  },
  {
   "cell_type": "markdown",
   "metadata": {},
   "source": [
    "### Postgresql (계정유출 주의)"
   ]
  },
  {
   "cell_type": "code",
   "execution_count": null,
   "metadata": {},
   "outputs": [],
   "source": [
    "# import pandas.io.sql as psql\n",
    "# import psycogp2 as pg\n",
    "# conn = pg.connect(host=sql['server'], user=sql['user'], password=sql['password'], port=sql['port'], dbname=sql['database'])\n",
    "# print('connection')\n",
    "\n",
    "# sql = 'select * from cdm.cdm.person'\n",
    "# population = psql.read(sql=sql1, con=conn)\n",
    "# population.to_csv('population.txt', index=False)"
   ]
  },
  {
   "cell_type": "markdown",
   "metadata": {},
   "source": [
    "### Mssql (계정유출 주의)"
   ]
  },
  {
   "cell_type": "code",
   "execution_count": null,
   "metadata": {
    "scrolled": true
   },
   "outputs": [],
   "source": [
    "import pymssql\n",
    "conn= pymssql.connect(server=sql['server'], user=sql['user'], password=sql['password'], port=sql['port'], database=sql['database'], as_dict=False)\n",
    "print(\"connection\")"
   ]
  },
  {
   "cell_type": "markdown",
   "metadata": {},
   "source": [
    "- Table Load from DB and Save dataset"
   ]
  },
  {
   "cell_type": "code",
   "execution_count": null,
   "metadata": {},
   "outputs": [],
   "source": [
    "tnPopulation = 'temp.dbo.person_{}'.format(outcome_name)\n",
    "sqlq0 = 'select * from {}'.format(tnPopulation)\n",
    "population_df = pd.read_sql(sql=sqlq0, con=conn)\n",
    "population_df.to_csv('{}/person_{}.txt'.format(output_data_dir, outcome_name),index=False)\n",
    "conn.close()"
   ]
  },
  {
   "cell_type": "markdown",
   "metadata": {},
   "source": [
    "- load dataset"
   ]
  },
  {
   "cell_type": "code",
   "execution_count": null,
   "metadata": {},
   "outputs": [],
   "source": [
    "population_df=pd.read_csv('{}/person_{}.txt'.format(output_data_dir, outcome_name))\n",
    "population_df['age_dec'] = population_df.age.map(lambda age: 10 * (age // 10))\n",
    "outlier = population_df.query('age>120 or age <=0')\n",
    "population_df.drop(outlier.index, inplace=True)\n",
    "print(len(outlier))\n",
    "#population_df.plot(kind='scatter',x='age',y='value_as_number')"
   ]
  },
  {
   "cell_type": "code",
   "execution_count": null,
   "metadata": {},
   "outputs": [],
   "source": [
    "def save_JointPlot(df, filedir, filename):\n",
    "    joint_plot = sns.jointplot(x=\"age\", y=\"value_as_number\", data=df, kind=\"kde\", hue=\"gender_source_value\", markers=[\"M\", \"F\"])\n",
    "    plt.suptitle(t=\"{}(age-value) plot\".format(outcome_name), y=1.02)\n",
    "    plt.xlabel(xlabel=\"age\")\n",
    "    plt.ylabel(ylabel=\"lab value\")\n",
    "    joint_plot.savefig('{}/{}_plot1.png'.format(filedir, filename), dpi=300)\n",
    "    plt.show()\n",
    "    \n",
    "def save_quadplot(df, filedir, filename):\n",
    "    fig, axes = plt.subplots(2, 2, figsize=(15, 10), constrained_layout=True)\n",
    "\n",
    "    #1 \n",
    "    plot1 = axes[0,0]\n",
    "    sns.countplot(ax=plot1, data=df, x=\"gender_source_value\")\n",
    "    plot1.set_title(\"count by gender\")\n",
    "    plot1.set_xlabel(xlabel=\"gender\")\n",
    "    plot1.set_ylabel(ylabel=\"count (n)\")\n",
    "    plot1.grid(True, lw = 0.5)\n",
    "\n",
    "    #2\n",
    "    plot2 = axes[0,1]\n",
    "    sns.histplot(ax=plot2, data=df, x=\"value_as_number\")\n",
    "    plot2.set_title(\"count by value\")\n",
    "    plot2.set_xlabel(xlabel=\"value\")\n",
    "    plot2.set_ylabel(ylabel=\"count (n)\")\n",
    "    plot2.legend(loc='upper right')\n",
    "\n",
    "    #2\n",
    "    plot3 = axes[1,0]\n",
    "    sns.lineplot(ax=plot3, x='age_dec', y=\"person_id\",data=df[df['gender_source_value']=='M'].groupby(['age_dec']).count(), marker='o', alpha=0.6, label='M')\n",
    "    sns.lineplot(ax=plot3, x='age_dec', y=\"person_id\",data=df[df['gender_source_value']=='F'].groupby(['age_dec']).count(), marker='o', alpha=0.6, label='F')\n",
    "    sns.lineplot(ax=plot3, x='age_dec', y=\"person_id\", data=df.groupby(['age_dec']).count(), marker='o', label='ALL')\n",
    "    plot3.set_title(\"count by age\")\n",
    "    plot3.set_xlabel(xlabel=\"age\")\n",
    "    plot3.set_ylabel(ylabel=\"count (n)\")\n",
    "    plot3.grid(True, lw = 0.5)#그래프 보조선을 그음, lw - 선의 굵기 설정\n",
    "\n",
    "    #3\n",
    "    plot4 = axes[1,1]\n",
    "    ax = sns.boxplot(ax=plot4, x=\"age_dec\", y=\"value_as_number\", data=df, hue=\"gender_source_value\") #, palette=\"Set3\"\n",
    "    plot4.set_title(\"value by age and gender\")\n",
    "    plot4.set_xlabel(xlabel=\"age\")\n",
    "    plot4.set_ylabel(ylabel=\"value\")\n",
    "    plot4.legend(loc='upper right')\n",
    "\n",
    "    fig.savefig('{}/{}_plot2.png'.format(filedir, filename), dpi=300)\n"
   ]
  },
  {
   "cell_type": "code",
   "execution_count": null,
   "metadata": {},
   "outputs": [],
   "source": [
    "save_JointPlot(df=population_df, filedir=output_result_dir, filename=outcome_name)"
   ]
  },
  {
   "cell_type": "code",
   "execution_count": null,
   "metadata": {},
   "outputs": [],
   "source": [
    "save_quadplot(df=population_df, filedir=output_result_dir, filename=outcome_name)\n",
    "    "
   ]
  },
  {
   "cell_type": "code",
   "execution_count": null,
   "metadata": {},
   "outputs": [],
   "source": [
    "q1=population_df['value_as_number'].quantile(0.25)\n",
    "q3=population_df['value_as_number'].quantile(0.75)\n",
    "iqr=q3-q1\n",
    "outlier = population_df[population_df['value_as_number']>q3+3*iqr].index\n",
    "population_df.drop(outlier, inplace=True)\n",
    "print(len(outlier))\n",
    "outlier = population_df[population_df['value_as_number']<q1-3*iqr].index\n",
    "population_df.drop(outlier, inplace=True)\n",
    "print(len(outlier))"
   ]
  },
  {
   "cell_type": "code",
   "execution_count": null,
   "metadata": {},
   "outputs": [],
   "source": [
    "save_JointPlot(df=population_df, filedir=output_result_dir, filename=outcome_name+\"(IQR)\")"
   ]
  },
  {
   "cell_type": "code",
   "execution_count": null,
   "metadata": {},
   "outputs": [],
   "source": [
    "save_quadplot(df=population_df, filedir=output_result_dir, filename=outcome_name+\"(IQR)\")"
   ]
  },
  {
   "cell_type": "code",
   "execution_count": null,
   "metadata": {},
   "outputs": [],
   "source": [
    "output={}\n",
    "output['nPatient_male'] = len(population_df[population_df[\"gender_source_value\"] == 'M'])\n",
    "output['nPatient_female'] = len(population_df[population_df[\"gender_source_value\"] == 'F'])\n",
    "\n",
    "# print\n",
    "print(output['nPatient_male'], output['nPatient_female'])\n",
    "out = open('{}/output.txt'.format(output_result_dir),'a')\n",
    "\n",
    "out.write(str(outcome_name) + '///' )\n",
    "out.write(str(output['nPatient_male']) + '///')\n",
    "out.write(str(output['nPatient_female']) + '\\n')\n",
    "out.close()"
   ]
  }
 ],
 "metadata": {
  "colab": {
   "name": "0.IO_condition.ipynb",
   "provenance": []
  },
  "kernelspec": {
   "display_name": "Python 3",
   "language": "python",
   "name": "python3"
  },
  "language_info": {
   "codemirror_mode": {
    "name": "ipython",
    "version": 3
   },
   "file_extension": ".py",
   "mimetype": "text/x-python",
   "name": "python",
   "nbconvert_exporter": "python",
   "pygments_lexer": "ipython3",
   "version": "3.7.9"
  }
 },
 "nbformat": 4,
 "nbformat_minor": 4
}
