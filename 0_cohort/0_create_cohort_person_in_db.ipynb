{
 "cells": [
  {
   "cell_type": "code",
   "execution_count": null,
   "metadata": {},
   "outputs": [],
   "source": [
    "# ** import package **\n",
    "import os\n",
    "import sys\n",
    "import json\n",
    "import pathlib\n",
    "sys.path.append(\"..\")\n",
    "\n",
    "import numpy as np\n",
    "import pandas as pd\n",
    "import matplotlib.pyplot as plt\n",
    "import traceback\n",
    "from tqdm import tqdm\n",
    "from datetime import timedelta\n",
    "from _utils.customlogger import customlogger as CL\n",
    "\n",
    "pd.set_option('display.max_colwidth', -1)    #각 컬럼 width 최대로 \n",
    "pd.set_option('display.max_rows', 50)        # display 50개 까지 \n"
   ]
  },
  {
   "cell_type": "code",
   "execution_count": null,
   "metadata": {},
   "outputs": [],
   "source": [
    "# ** loading config **\n",
    "with open('./../{}'.format(\"config.json\")) as file:\n",
    "    cfg = json.load(file)"
   ]
  },
  {
   "cell_type": "code",
   "execution_count": null,
   "metadata": {},
   "outputs": [],
   "source": [
    "# ** loading info **\n",
    "current_dir = pathlib.Path.cwd()\n",
    "parent_dir = current_dir.parent\n",
    "current_date = cfg[\"working_date\"]\n",
    "curr_file_name = os.path.splitext(os.path.basename(os.path.abspath('')))[0]"
   ]
  },
  {
   "cell_type": "code",
   "execution_count": null,
   "metadata": {},
   "outputs": [],
   "source": [
    "# **create Logger**\n",
    "log = CL(\"custom_logger\")\n",
    "log = log.create_logger(file_name=\"../_log/{}.log\".format(curr_file_name), mode=\"a\", level=\"DEBUG\")    \n",
    "log.debug('start {}'.format(curr_file_name))"
   ]
  },
  {
   "cell_type": "code",
   "execution_count": null,
   "metadata": {},
   "outputs": [],
   "source": [
    "# ** connection DataBase **\n",
    "if (cfg[\"dbms\"]==\"postgresql\"):\n",
    "    db_cfg = cfg[\"postgresql\"]\n",
    "    import psycopg2 as pg\n",
    "    conn = pg.connect(host=db_cfg['@server'], user=db_cfg['@user'], password=db_cfg['@password'], port=db_cfg['@port'], dbname=db_cfg['@database']) \n",
    "    log.debug(\"postgresql connect\")\n",
    "    \n",
    "elif (cfg[\"dbms\"]==\"mssql\"):\n",
    "    db_cfg = cfg[\"mssql\"]\n",
    "    import pymssql\n",
    "    conn= pymssql.connect(server=db_cfg['@server'], user=db_cfg['@user'], password=db_cfg['@password'], port=db_cfg['@port'], database=db_cfg['@database'], as_dict=False)\n",
    "    log.debug(\"mssql connect\")\n",
    "    \n",
    "else:\n",
    "    log.warning(\"set config.json - sql - dbms : mssql or postgresql\")"
   ]
  },
  {
   "cell_type": "code",
   "execution_count": null,
   "metadata": {},
   "outputs": [],
   "source": [
    "def renderTranslateQuerySql(sql_query, dict):\n",
    "    '''\n",
    "    ----- Replace text ------\n",
    "    \"@cdm_database_schema\",\n",
    "    \"@target_database_schema\",\n",
    "    \"@target_cohort_table\",\n",
    "    \"@vocabulary_database_schema\",\n",
    "    \"@target_cohort_id\"\n",
    "    ----- Replace text ------\n",
    "    '''\n",
    "    for key, value in dict.items():\n",
    "        sql_query = sql_query.replace(key, value)\n",
    "    return sql_query"
   ]
  },
  {
   "cell_type": "code",
   "execution_count": null,
   "metadata": {},
   "outputs": [],
   "source": [
    "# In[ ]:\n",
    "try:\n",
    "    with conn.cursor() as cursor:\n",
    "        for file_path in cfg['translatequerysql0']:\n",
    "            param_dict = cfg['translatequerysql0'][file_path]\n",
    "            print(file_path)\n",
    "            print(param_dict)\n",
    "            fd = open(file_path, 'r')\n",
    "            sql_query = fd.read()\n",
    "            sql_query = renderTranslateQuerySql(sql_query, param_dict)\n",
    "            fd.close()\n",
    "            cursor.execute(sql_query)\n",
    "        conn.commit()\n",
    "except :\n",
    "    traceback.print_exc()\n",
    "    log.error(traceback.format_exc())\n"
   ]
  },
  {
   "cell_type": "code",
   "execution_count": null,
   "metadata": {},
   "outputs": [],
   "source": [
    "try:\n",
    "    with conn.cursor() as cursor:\n",
    "        for file_path in cfg['translatequerysql1']:\n",
    "            param_dict = cfg['translatequerysql1'][file_path]\n",
    "            for drug in cfg['drug'].keys():\n",
    "                sql_param_dict = param_dict.copy()\n",
    "                for param_key, param_value in sql_param_dict.items():\n",
    "                    temp_param_value = param_value\n",
    "                    temp_param_value = temp_param_value.replace(\"{drug}\", drug)\n",
    "                    temp_param_value = temp_param_value.replace(\"{drug_target_cohort_id}\", cfg['drug'][drug][\"drug_target_cohort_id\"])\n",
    "                    sql_param_dict[param_key] = temp_param_value\n",
    "                sql_file_path = file_path.replace(\"{dbms}\", cfg[\"dbms\"]).replace(\"{drug}\", drug)\n",
    "                print(sql_file_path)\n",
    "                print(sql_param_dict)\n",
    "                fd = open(sql_file_path, 'r')\n",
    "                sql_query = fd.read()\n",
    "                sql_query = renderTranslateQuerySql(sql_query, sql_param_dict)\n",
    "                fd.close()\n",
    "                cursor.execute(sql_query)\n",
    "        conn.commit()\n",
    "except :\n",
    "    traceback.print_exc()\n",
    "    log.error(traceback.format_exc())"
   ]
  },
  {
   "cell_type": "code",
   "execution_count": null,
   "metadata": {},
   "outputs": [],
   "source": [
    "try:\n",
    "    with conn.cursor() as cursor:\n",
    "        for file_path in cfg['translatequerysql2']:\n",
    "            param_dict = cfg['translatequerysql2'][file_path]\n",
    "            for meas in cfg['meas'].keys():\n",
    "                sql_param_dict = param_dict.copy()\n",
    "                for param_key, param_value in sql_param_dict.items():\n",
    "                    temp_param_value = param_value\n",
    "                    temp_param_value = temp_param_value.replace(\"{meas}\", meas)\n",
    "                    temp_param_value = temp_param_value.replace(\"{@meas_concept_id}\", cfg['meas'][meas][\"@meas_concept_id\"])\n",
    "                    sql_param_dict[param_key] = temp_param_value\n",
    "                sql_file_path = file_path.replace(\"{dbms}\", cfg[\"dbms\"])\n",
    "                print(sql_file_path)\n",
    "                print(sql_param_dict)\n",
    "                fd = open(sql_file_path, 'r')\n",
    "                sql_query = fd.read()\n",
    "                sql_query = renderTranslateQuerySql(sql_query, sql_param_dict)\n",
    "                fd.close()\n",
    "                cursor.execute(sql_query)\n",
    "        conn.commit()\n",
    "except :\n",
    "    traceback.print_exc()\n",
    "    log.error(traceback.format_exc())\n",
    "    "
   ]
  },
  {
   "cell_type": "code",
   "execution_count": null,
   "metadata": {},
   "outputs": [],
   "source": [
    "conn.close()"
   ]
  }
 ],
 "metadata": {
  "interpreter": {
   "hash": "ba9e2aafd4202ccdd325410855583e81bcee524d66662cf309288c7f44559fae"
  },
  "kernelspec": {
   "display_name": "Python 3.7.9 64-bit",
   "language": "python",
   "name": "python3"
  },
  "language_info": {
   "codemirror_mode": {
    "name": "ipython",
    "version": 3
   },
   "file_extension": ".py",
   "mimetype": "text/x-python",
   "name": "python",
   "nbconvert_exporter": "python",
   "pygments_lexer": "ipython3",
   "version": "3.7.9"
  },
  "orig_nbformat": 4
 },
 "nbformat": 4,
 "nbformat_minor": 2
}
